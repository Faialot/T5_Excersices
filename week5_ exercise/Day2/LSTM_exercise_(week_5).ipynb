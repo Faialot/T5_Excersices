{
  "cells": [
    {
      "cell_type": "markdown",
      "metadata": {
        "id": "DeDMU8rGJtM7"
      },
      "source": [
        "# **LSTM Exercise**"
      ]
    },
    {
      "cell_type": "markdown",
      "metadata": {
        "id": "73pucHkDJoyN"
      },
      "source": [
        "## Import libraries"
      ]
    },
    {
      "cell_type": "code",
      "execution_count": 117,
      "metadata": {
        "id": "W3AjCzdQJmSK"
      },
      "outputs": [],
      "source": [
        "import numpy as np\n",
        "import matplotlib.pyplot as plt\n",
        "import pandas as pd\n",
        "import tensorflow as tf\n",
        "from tensorflow.keras.models import Sequential\n",
        "from tensorflow.keras.layers import Dense\n",
        "from tensorflow.keras.layers import LSTM\n",
        "from sklearn.preprocessing import MinMaxScaler\n",
        "from sklearn.metrics import mean_squared_error\n",
        "from datetime import datetime\n",
        "from keras.layers import Dropout"
      ]
    },
    {
      "cell_type": "code",
      "execution_count": 118,
      "metadata": {
        "id": "NnbZMkBTxxx8"
      },
      "outputs": [],
      "source": [
        "# fix random seed for reproducibility\n",
        "tf.random.set_seed(7)"
      ]
    },
    {
      "cell_type": "markdown",
      "metadata": {
        "id": "91J8oMpJKYkO"
      },
      "source": [
        "## load the dataset\n",
        "### Dataset path : 5- Time series forecasting/2-2- Time Series Forecasting (LSTM and GRU)\n",
        "/ LAB/Dataset/traffic.csv\n"
      ]
    },
    {
      "cell_type": "code",
      "execution_count": 119,
      "metadata": {
        "id": "Cyx1SwgJJ8Y9"
      },
      "outputs": [],
      "source": [
        "dataframe = pd.read_csv('/content/traffic-2.csv',index_col='DateTime', parse_dates=True)\n",
        "# dataframe['DateTime'] = dataframe['DateTime'].apply(lambda x: x.timestamp())\n",
        "# dataset = dataframe.values\n",
        "# dataset = dataset.astype('float32')\n",
        "\n"
      ]
    },
    {
      "cell_type": "code",
      "execution_count": 67,
      "metadata": {
        "colab": {
          "base_uri": "https://localhost:8080/"
        },
        "id": "TdqW-v7HrhK4",
        "outputId": "faecf603-66d2-4698-ff5b-8c822a1701fe"
      },
      "outputs": [
        {
          "name": "stdout",
          "output_type": "stream",
          "text": [
            "<class 'pandas.core.frame.DataFrame'>\n",
            "DatetimeIndex: 48120 entries, 2015-11-01 00:00:00 to 2017-06-30 23:00:00\n",
            "Data columns (total 3 columns):\n",
            " #   Column    Non-Null Count  Dtype\n",
            "---  ------    --------------  -----\n",
            " 0   Junction  48120 non-null  int64\n",
            " 1   Vehicles  48120 non-null  int64\n",
            " 2   ID        48120 non-null  int64\n",
            "dtypes: int64(3)\n",
            "memory usage: 1.5 MB\n"
          ]
        }
      ],
      "source": [
        "dataframe.info()"
      ]
    },
    {
      "cell_type": "code",
      "execution_count": 120,
      "metadata": {
        "id": "5ss3u6K89Ttv"
      },
      "outputs": [],
      "source": [
        "dataframe = dataframe.drop('ID',axis=1)"
      ]
    },
    {
      "cell_type": "markdown",
      "metadata": {
        "id": "i7yyKGkVKi88"
      },
      "source": [
        "## Normalize the dataset"
      ]
    },
    {
      "cell_type": "code",
      "execution_count": 129,
      "metadata": {
        "id": "dacoPvqbKdpP"
      },
      "outputs": [],
      "source": [
        "scaler = MinMaxScaler(feature_range=(0, 1))\n",
        "dataframe[['Vehicles']] = scaler.fit_transform(dataframe[['Vehicles']])\n",
        "dataframe[['Junction']] = scaler.fit_transform(dataframe[['Junction']])"
      ]
    },
    {
      "cell_type": "markdown",
      "metadata": {
        "id": "GV-4d-zxKvJI"
      },
      "source": [
        "## split into train and test sets"
      ]
    },
    {
      "cell_type": "code",
      "execution_count": 137,
      "metadata": {
        "colab": {
          "base_uri": "https://localhost:8080/"
        },
        "id": "4K7bNBFiKr_j",
        "outputId": "5068585c-a13b-4c78-c760-a07a65132b75"
      },
      "outputs": [
        {
          "name": "stdout",
          "output_type": "stream",
          "text": [
            "38496 9624\n"
          ]
        }
      ],
      "source": [
        "train_size = int(len(dataframe) * 0.80)\n",
        "test_size = len(dataframe) - train_size\n",
        "train, test = dataframe.iloc[0:train_size, :], dataframe.iloc[train_size:len(dataframe),:]\n",
        "print(len(train), len(test))\n",
        "\n",
        "# train_size = int(len(dataset) * 0.80)\n",
        "# test_size = len(dataset) - train_size\n",
        "# train, test = dataset.iloc[0:train_size,:], dataset.iloc[train_size:len(dataset),:]\n",
        "\n",
        "# # split into train and test sets\n",
        "# train_size = int(len(dataset) * 0.7)\n",
        "# test_size = len(dataset) - train_size\n",
        "# train, test = dataset[0:train_size,:], dataset[train_size:len(dataset),:]\n",
        "# print(len(train), len(test))"
      ]
    },
    {
      "cell_type": "code",
      "execution_count": 138,
      "metadata": {
        "id": "PA5BYDEfuvwa"
      },
      "outputs": [],
      "source": [
        "def create_dataset(dataframe, look_back=1):\n",
        "    dataX, dataY = [], []\n",
        "    for i in range(len(dataframe)-look_back-1):\n",
        "        a = dataframe.iloc[i:(i+look_back), 0]  # Indent this line\n",
        "        dataX.append(a)\n",
        "        dataY.append(dataframe.iloc[i + look_back, 0])\n",
        "    return np.array(dataX), np.array(dataY)\n",
        "\n"
      ]
    },
    {
      "cell_type": "code",
      "execution_count": 139,
      "metadata": {
        "id": "_m1Dx9Y_uz6d"
      },
      "outputs": [],
      "source": [
        "# reshape into X=t and Y=t+1\n",
        "look_back = 10\n",
        "trainX, trainY = create_dataset(train, look_back)\n",
        "testX, testY = create_dataset(test, look_back)\n",
        "\n",
        "\n"
      ]
    },
    {
      "cell_type": "code",
      "execution_count": 140,
      "metadata": {
        "id": "zZrRKBVnu3SE"
      },
      "outputs": [],
      "source": [
        "# reshape input to be [samples, time steps, features]\n",
        "trainX = np.reshape(trainX, (trainX.shape[0], 1, trainX.shape[1]))\n",
        "testX = np.reshape(testX, (testX.shape[0], 1, testX.shape[1]))\n",
        "\n",
        "\n"
      ]
    },
    {
      "cell_type": "markdown",
      "metadata": {
        "id": "Enlx1TQhLcp5"
      },
      "source": [
        "## Fit the LSTM"
      ]
    },
    {
      "cell_type": "code",
      "execution_count": 141,
      "metadata": {
        "colab": {
          "base_uri": "https://localhost:8080/"
        },
        "id": "xymbIf0Yv511",
        "outputId": "0d934754-d74a-4cb3-be9e-75ad18b50d0f"
      },
      "outputs": [
        {
          "name": "stdout",
          "output_type": "stream",
          "text": [
            "Epoch 1/20\n"
          ]
        },
        {
          "name": "stderr",
          "output_type": "stream",
          "text": [
            "/usr/local/lib/python3.10/dist-packages/keras/src/layers/rnn/rnn.py:204: UserWarning: Do not pass an `input_shape`/`input_dim` argument to a layer. When using Sequential models, prefer using an `Input(shape)` object as the first layer in the model instead.\n",
            "  super().__init__(**kwargs)\n"
          ]
        },
        {
          "name": "stdout",
          "output_type": "stream",
          "text": [
            "1203/1203 - 5s - 4ms/step - loss: 0.0132\n",
            "Epoch 2/20\n",
            "1203/1203 - 2s - 2ms/step - loss: 0.0047\n",
            "Epoch 3/20\n",
            "1203/1203 - 2s - 2ms/step - loss: 0.0041\n",
            "Epoch 4/20\n",
            "1203/1203 - 2s - 2ms/step - loss: 0.0040\n",
            "Epoch 5/20\n",
            "1203/1203 - 3s - 2ms/step - loss: 0.0040\n",
            "Epoch 6/20\n",
            "1203/1203 - 3s - 3ms/step - loss: 0.0039\n",
            "Epoch 7/20\n",
            "1203/1203 - 2s - 2ms/step - loss: 0.0040\n",
            "Epoch 8/20\n",
            "1203/1203 - 3s - 2ms/step - loss: 0.0040\n",
            "Epoch 9/20\n",
            "1203/1203 - 3s - 2ms/step - loss: 0.0039\n",
            "Epoch 10/20\n",
            "1203/1203 - 2s - 2ms/step - loss: 0.0040\n",
            "Epoch 11/20\n",
            "1203/1203 - 3s - 3ms/step - loss: 0.0040\n",
            "Epoch 12/20\n",
            "1203/1203 - 4s - 3ms/step - loss: 0.0040\n",
            "Epoch 13/20\n",
            "1203/1203 - 3s - 2ms/step - loss: 0.0040\n",
            "Epoch 14/20\n",
            "1203/1203 - 2s - 2ms/step - loss: 0.0039\n",
            "Epoch 15/20\n",
            "1203/1203 - 3s - 2ms/step - loss: 0.0040\n",
            "Epoch 16/20\n",
            "1203/1203 - 5s - 4ms/step - loss: 0.0040\n",
            "Epoch 17/20\n",
            "1203/1203 - 2s - 2ms/step - loss: 0.0040\n",
            "Epoch 18/20\n",
            "1203/1203 - 2s - 2ms/step - loss: 0.0040\n",
            "Epoch 19/20\n",
            "1203/1203 - 3s - 2ms/step - loss: 0.0040\n",
            "Epoch 20/20\n",
            "1203/1203 - 4s - 3ms/step - loss: 0.0039\n"
          ]
        },
        {
          "data": {
            "text/plain": [
              "<keras.src.callbacks.history.History at 0x7f4752e3bb80>"
            ]
          },
          "execution_count": 141,
          "metadata": {},
          "output_type": "execute_result"
        }
      ],
      "source": [
        "model = Sequential()\n",
        "model.add(LSTM(4, input_shape=(1, look_back)))\n",
        "model.add(Dropout(0.2))\n",
        "model.add(Dense(1))\n",
        "model.compile(loss='mean_squared_error', optimizer='adam')\n",
        "model.fit(trainX, trainY, epochs=20, batch_size=32, verbose=2)\n",
        "\n",
        "\n"
      ]
    },
    {
      "cell_type": "markdown",
      "metadata": {
        "id": "NwP_TpFfL7nA"
      },
      "source": [
        "## Make preductuion and evaluatuin matrix."
      ]
    },
    {
      "cell_type": "code",
      "execution_count": 142,
      "metadata": {
        "colab": {
          "base_uri": "https://localhost:8080/"
        },
        "id": "FLAfZUYU0PwN",
        "outputId": "8960ead6-54f8-49c8-a9f3-ae3860724822"
      },
      "outputs": [
        {
          "name": "stdout",
          "output_type": "stream",
          "text": [
            "\u001b[1m1203/1203\u001b[0m \u001b[32m━━━━━━━━━━━━━━━━━━━━\u001b[0m\u001b[37m\u001b[0m \u001b[1m2s\u001b[0m 1ms/step\n",
            "\u001b[1m301/301\u001b[0m \u001b[32m━━━━━━━━━━━━━━━━━━━━\u001b[0m\u001b[37m\u001b[0m \u001b[1m0s\u001b[0m 1ms/step\n",
            "Train Score: 0.02 RMSE\n",
            "Test Score: 0.10 RMSE\n"
          ]
        }
      ],
      "source": [
        "# make predictions\n",
        "trainPredict = model.predict(trainX)\n",
        "testPredict = model.predict(testX)\n",
        "\n",
        "# invert predictions\n",
        "trainPredict = scaler.inverse_transform(trainPredict)\n",
        "trainY = scaler.inverse_transform([trainY])\n",
        "testPredict = scaler.inverse_transform(testPredict)\n",
        "testY = scaler.inverse_transform([testY])\n",
        "\n",
        "# calculate root mean squared error\n",
        "trainScore = np.sqrt(mean_squared_error(trainY[0], trainPredict[:,0]))\n",
        "print('Train Score: %.2f RMSE' % (trainScore))\n",
        "testScore = np.sqrt(mean_squared_error(testY[0], testPredict[:,0]))\n",
        "print('Test Score: %.2f RMSE' % (testScore))"
      ]
    },
    {
      "cell_type": "markdown",
      "metadata": {
        "id": "ZpkMef5uMULa"
      },
      "source": [
        "## Visualize the result"
      ]
    },
    {
      "cell_type": "code",
      "execution_count": 148,
      "metadata": {
        "colab": {
          "base_uri": "https://localhost:8080/",
          "height": 430
        },
        "id": "B1T1VicEMXC_",
        "outputId": "ad61d6fc-f405-4f90-8980-288d254a3046"
      },
      "outputs": [
        {
          "data": {
            "image/png": "[encoded data removed]",
            "text/plain": [
              "<Figure size 640x480 with 1 Axes>"
            ]
          },
          "metadata": {},
          "output_type": "display_data"
        }
      ],
      "source": [
        "# shift train predictions for plotting\n",
        "trainPredictPlot = np.empty_like(dataframe)\n",
        "trainPredictPlot[:, :] = np.nan\n",
        "trainPredictPlot[look_back:len(trainPredict)+look_back, :] = trainPredict\n",
        "# shift test predictions for plotting\n",
        "testPredictPlot = np.empty_like(dataframe)\n",
        "testPredictPlot[:, :] = np.nan\n",
        "testPredictPlot[len(trainPredict)+(look_back*2)+1:len(dataframe)-1, :] = testPredict\n",
        "# plot baseline and predictions\n",
        "#plt.plot(scaler.inverse_transform(dataframe))\n",
        "plt.plot(trainPredictPlot)\n",
        "plt.plot(testPredictPlot)\n",
        "plt.show()\n"
      ]
    },
    {
      "cell_type": "markdown",
      "metadata": {
        "id": "_80frLg-MENd"
      },
      "source": [
        "# **Well done** :)"
      ]
    }
  ],
  "metadata": {
    "colab": {
      "provenance": []
    },
    "kernelspec": {
      "display_name": "Python 3",
      "name": "python3"
    },
    "language_info": {
      "name": "python"
    }
  },
  "nbformat": 4,
  "nbformat_minor": 0
}
