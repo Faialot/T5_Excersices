{
 "cells": [
  {
   "cell_type": "markdown",
   "metadata": {
    "id": "0PzxgQHw9ccz"
   },
   "source": [
    "#**SVD**"
   ]
  },
  {
   "cell_type": "markdown",
   "metadata": {
    "id": "luFPiQ2i9myX"
   },
   "source": [
    "#import libraries"
   ]
  },
  {
   "cell_type": "code",
   "execution_count": 1,
   "metadata": {
    "id": "G-4zglvy9WkS"
   },
   "outputs": [],
   "source": [
    "import numpy as np"
   ]
  },
  {
   "cell_type": "markdown",
   "metadata": {
    "id": "nZFDaio79sgu"
   },
   "source": [
    "#Load the tabular dataset :\n",
    "\n",
    "dataset :\n",
    "\n",
    "\n",
    "    [1, 2, 1, 0, 4],\n",
    "\n",
    "    [2, 3, 4, 0, 2],\n",
    "\n",
    "    [3, 1, 1, 0, 5],\n",
    "\n",
    "    [4, 0, 2, 5, 0],\n",
    "\n",
    "    [5, 4, 0, 1, 2]\n"
   ]
  },
  {
   "cell_type": "code",
   "execution_count": 3,
   "metadata": {
    "id": "MQ009CYG9qQS"
   },
   "outputs": [],
   "source": [
    "dataset = np.array([\n",
    "    [1, 2, 1, 0, 4],\n",
    "\n",
    "[2, 3, 4, 0, 2],\n",
    "\n",
    "[3, 1, 1, 0, 5],\n",
    "\n",
    "[4, 0, 2, 5, 0],\n",
    "\n",
    "[5, 4, 0, 1, 2]\n",
    "])\n"
   ]
  },
  {
   "cell_type": "markdown",
   "metadata": {
    "id": "2roOK1gZ9yQo"
   },
   "source": [
    "#Perform Singular Value Decomposition (SVD)\n"
   ]
  },
  {
   "cell_type": "code",
   "execution_count": 5,
   "metadata": {
    "id": "0I7M_W_E9vka"
   },
   "outputs": [],
   "source": [
    "U, s, VT = np.linalg.svd(dataset)"
   ]
  },
  {
   "cell_type": "markdown",
   "metadata": {
    "id": "5ygCLQNt96Vb"
   },
   "source": [
    "# Extract the singular values and vectors"
   ]
  },
  {
   "cell_type": "code",
   "execution_count": 7,
   "metadata": {
    "id": "d_hE13Sn94k5"
   },
   "outputs": [],
   "source": [
    "singular_values = np.diag(s)\n",
    "left_singular_vectors = U\n",
    "right_singular_vectors = VT.T"
   ]
  },
  {
   "cell_type": "markdown",
   "metadata": {
    "id": "piU0jgug9_gD"
   },
   "source": [
    "# Perform dimensionality reduction by selecting top k singular values and vectors\n"
   ]
  },
  {
   "cell_type": "code",
   "execution_count": null,
   "metadata": {
    "id": "c55uNNCH9-5d"
   },
   "outputs": [],
   "source": []
  },
  {
   "cell_type": "markdown",
   "metadata": {
    "id": "4raXfdzz-Gex"
   },
   "source": [
    "# Print the original and reduced datasets\n"
   ]
  },
  {
   "cell_type": "code",
   "execution_count": null,
   "metadata": {
    "id": "c7YIIN3S-DTl"
   },
   "outputs": [],
   "source": []
  },
  {
   "cell_type": "markdown",
   "metadata": {
    "id": "ASLB0yos-Ofm"
   },
   "source": [
    "#**Well done :)**"
   ]
  }
 ],
 "metadata": {
  "colab": {
   "provenance": []
  },
  "kernelspec": {
   "display_name": "Python 3 (ipykernel)",
   "language": "python",
   "name": "python3"
  },
  "language_info": {
   "codemirror_mode": {
    "name": "ipython",
    "version": 3
   },
   "file_extension": ".py",
   "mimetype": "text/x-python",
   "name": "python",
   "nbconvert_exporter": "python",
   "pygments_lexer": "ipython3",
   "version": "3.12.2"
  }
 },
 "nbformat": 4,
 "nbformat_minor": 4
}
