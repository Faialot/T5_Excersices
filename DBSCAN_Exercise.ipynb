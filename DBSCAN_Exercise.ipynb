{
 "cells": [
  {
   "cell_type": "markdown",
   "metadata": {
    "id": "WLQzuoxi9Nfq"
   },
   "source": [
    "#**DBSCAN**\n"
   ]
  },
  {
   "cell_type": "markdown",
   "metadata": {
    "id": "_3zW-i7I9O_b"
   },
   "source": [
    "#Step 1 : Import Libraries\n",
    "\n"
   ]
  },
  {
   "cell_type": "code",
   "execution_count": 3,
   "metadata": {
    "id": "cAhG72k89JCs"
   },
   "outputs": [],
   "source": [
    "import matplotlib.pyplot as plt\n",
    "import numpy as np\n",
    "from sklearn.cluster import DBSCAN\n",
    "from sklearn import metrics\n",
    "from sklearn.datasets import make_blobs\n",
    "from sklearn.preprocessing import StandardScaler\n",
    "from sklearn import datasets\n"
   ]
  },
  {
   "cell_type": "markdown",
   "metadata": {
    "id": "5Knv40zd9TeJ"
   },
   "source": [
    "#Step 2 : Prepare dataset\n",
    "###**use make blobs with different numbers**\n",
    "\n"
   ]
  },
  {
   "cell_type": "code",
   "execution_count": 31,
   "metadata": {
    "id": "NqEujM0J9TCn"
   },
   "outputs": [],
   "source": [
    "X, y_true = make_blobs(n_samples=100, centers=3,\n",
    "                       cluster_std=0.50, random_state=30)\n",
    "\n"
   ]
  },
  {
   "cell_type": "markdown",
   "metadata": {
    "id": "8GtmnKoI9kNm"
   },
   "source": [
    "#Step 3 : Modeling The Data Using DBSCAN\n",
    "\n"
   ]
  },
  {
   "cell_type": "code",
   "execution_count": 33,
   "metadata": {
    "id": "fOTAfBFA9i_y"
   },
   "outputs": [
    {
     "name": "stdout",
     "output_type": "stream",
     "text": [
      "['y', 'b', 'g', 'r']\n"
     ]
    },
    {
     "data": {
      "image/png": "[encoded data removed]",
      "text/plain": [
       "<Figure size 640x480 with 1 Axes>"
      ]
     },
     "metadata": {},
     "output_type": "display_data"
    }
   ],
   "source": [
    "db = DBSCAN(eps=0.3, min_samples=10).fit(X)\n",
    "core_samples_mask = np.zeros_like(db.labels_, dtype=bool)\n",
    "core_samples_mask[db.core_sample_indices_] = True\n",
    "labels = db.labels_\n",
    "\n",
    "# Number of clusters in labels, ignoring noise if present.\n",
    "n_clusters_ = len(set(labels)) - (1 if -1 in labels else 0)\n",
    "\n",
    "# Plot result\n",
    "\n",
    "# Black removed and is used for noise instead.\n",
    "unique_labels = set(labels)\n",
    "colors = ['y', 'b', 'g', 'r']\n",
    "print(colors)\n",
    "for k, col in zip(unique_labels, colors):\n",
    "\tif k == -1:\n",
    "\t\t# Black used for noise.\n",
    "\t\tcol = 'k'\n",
    "\n",
    "\tclass_member_mask = (labels == k)\n",
    "\n",
    "\txy = X[class_member_mask & core_samples_mask]\n",
    "\tplt.plot(xy[:, 0], xy[:, 1], 'o', markerfacecolor=col,\n",
    "\t\t\tmarkeredgecolor='k',\n",
    "\t\t\tmarkersize=6)\n",
    "\n",
    "\txy = X[class_member_mask & ~core_samples_mask]\n",
    "\tplt.plot(xy[:, 0], xy[:, 1], 'o', markerfacecolor=col,\n",
    "\t\t\tmarkeredgecolor='k',\n",
    "\t\t\tmarkersize=6)\n",
    "\n",
    "plt.title('number of clusters: %d' % n_clusters_)\n",
    "plt.show()\n"
   ]
  },
  {
   "cell_type": "markdown",
   "metadata": {
    "id": "ijz9iIqa9u3g"
   },
   "source": [
    "#Step 4 : Evaluation Metrics For DBSCAN Algorithm In Machine Learning\n"
   ]
  },
  {
   "cell_type": "code",
   "execution_count": 35,
   "metadata": {
    "id": "PFmYeD5U9x2S"
   },
   "outputs": [
    {
     "name": "stdout",
     "output_type": "stream",
     "text": [
      "Silhouette Coefficient:0.25\n",
      "Adjusted Rand Index: 0.07\n"
     ]
    }
   ],
   "source": [
    "# evaluation metrics\n",
    "from sklearn import metrics\n",
    "sc = metrics.silhouette_score(X, labels)\n",
    "print(\"Silhouette Coefficient:%0.2f\" % sc)\n",
    "ari = metrics.adjusted_rand_score(y_true, labels) # Import adjusted_rand_score\n",
    "print(\"Adjusted Rand Index: %0.2f\" % ari)"
   ]
  },
  {
   "cell_type": "markdown",
   "metadata": {
    "id": "ZzXNoxfh9-y9"
   },
   "source": [
    "#**Well Done :)**"
   ]
  }
 ],
 "metadata": {
  "colab": {
   "provenance": []
  },
  "kernelspec": {
   "display_name": "Python 3 (ipykernel)",
   "language": "python",
   "name": "python3"
  },
  "language_info": {
   "codemirror_mode": {
    "name": "ipython",
    "version": 3
   },
   "file_extension": ".py",
   "mimetype": "text/x-python",
   "name": "python",
   "nbconvert_exporter": "python",
   "pygments_lexer": "ipython3",
   "version": "3.12.2"
  }
 },
 "nbformat": 4,
 "nbformat_minor": 4
}
