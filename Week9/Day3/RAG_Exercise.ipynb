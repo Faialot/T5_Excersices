{
  "cells": [
    {
      "cell_type": "markdown",
      "id": "6a18549d",
      "metadata": {
        "id": "6a18549d"
      },
      "source": [
        "\n",
        "# Exercise Notebook: Implementing RAG (Retrieval-Augmented Generation)\n",
        "\n",
        "In this exercise notebook, you will go through the steps required to implement Retrieval-Augmented Generation (RAG).\n",
        "The notebook will guide you through each step, providing explanations and asking you to fill in the code.\n",
        "\n",
        "Please fill in the code cells where prompted to complete the implementation.\n",
        "\n",
        "**Let's get started!**\n"
      ]
    },
    {
      "cell_type": "markdown",
      "id": "68500db9",
      "metadata": {
        "id": "68500db9"
      },
      "source": [
        "\n",
        "## Installing Required Libraries\n",
        "\n",
        "Before starting, ensure you have all the necessary libraries installed.\n",
        "Install the following libraries by running the appropriate command below.\n",
        "\n",
        "- `langchain`\n",
        "- `langchain_community`\n",
        "- `unstructured`\n",
        "- `sentence_transformers`\n",
        "- `tiktoken`\n",
        "- `chromadb`\n",
        "- `langchain_chroma`\n",
        "- `langchain_groq`\n",
        "\n",
        "Fill in the installation command in the code cell below:\n"
      ]
    },
    {
      "cell_type": "code",
      "execution_count": 28,
      "id": "2d74cea3",
      "metadata": {
        "id": "2d74cea3",
        "outputId": "8fb58ea0-0ba8-465b-91af-f7a847852294",
        "colab": {
          "base_uri": "https://localhost:8080/"
        }
      },
      "outputs": [
        {
          "output_type": "stream",
          "name": "stdout",
          "text": [
            "Requirement already satisfied: langchain in /usr/local/lib/python3.10/dist-packages (0.3.0)\n",
            "Requirement already satisfied: langchain_community in /usr/local/lib/python3.10/dist-packages (0.3.0)\n",
            "Requirement already satisfied: unstructured in /usr/local/lib/python3.10/dist-packages (0.15.12)\n",
            "Requirement already satisfied: sentence_transformers in /usr/local/lib/python3.10/dist-packages (3.1.0)\n",
            "Requirement already satisfied: tiktoken in /usr/local/lib/python3.10/dist-packages (0.7.0)\n",
            "Requirement already satisfied: chromadb in /usr/local/lib/python3.10/dist-packages (0.5.3)\n",
            "Requirement already satisfied: langchain_chroma in /usr/local/lib/python3.10/dist-packages (0.1.4)\n",
            "Requirement already satisfied: langchain_groq in /usr/local/lib/python3.10/dist-packages (0.2.0)\n",
            "Requirement already satisfied: PyYAML>=5.3 in /usr/local/lib/python3.10/dist-packages (from langchain) (6.0.2)\n",
            "Requirement already satisfied: SQLAlchemy<3,>=1.4 in /usr/local/lib/python3.10/dist-packages (from langchain) (2.0.34)\n",
            "Requirement already satisfied: aiohttp<4.0.0,>=3.8.3 in /usr/local/lib/python3.10/dist-packages (from langchain) (3.10.5)\n",
            "Requirement already satisfied: async-timeout<5.0.0,>=4.0.0 in /usr/local/lib/python3.10/dist-packages (from langchain) (4.0.3)\n",
            "Requirement already satisfied: langchain-core<0.4.0,>=0.3.0 in /usr/local/lib/python3.10/dist-packages (from langchain) (0.3.1)\n",
            "Requirement already satisfied: langchain-text-splitters<0.4.0,>=0.3.0 in /usr/local/lib/python3.10/dist-packages (from langchain) (0.3.0)\n",
            "Requirement already satisfied: langsmith<0.2.0,>=0.1.17 in /usr/local/lib/python3.10/dist-packages (from langchain) (0.1.121)\n",
            "Requirement already satisfied: numpy<2,>=1 in /usr/local/lib/python3.10/dist-packages (from langchain) (1.26.4)\n",
            "Requirement already satisfied: pydantic<3.0.0,>=2.7.4 in /usr/local/lib/python3.10/dist-packages (from langchain) (2.9.1)\n",
            "Requirement already satisfied: requests<3,>=2 in /usr/local/lib/python3.10/dist-packages (from langchain) (2.32.3)\n",
            "Requirement already satisfied: tenacity!=8.4.0,<9.0.0,>=8.1.0 in /usr/local/lib/python3.10/dist-packages (from langchain) (8.5.0)\n",
            "Requirement already satisfied: dataclasses-json<0.7,>=0.5.7 in /usr/local/lib/python3.10/dist-packages (from langchain_community) (0.6.7)\n",
            "Requirement already satisfied: pydantic-settings<3.0.0,>=2.4.0 in /usr/local/lib/python3.10/dist-packages (from langchain_community) (2.5.2)\n",
            "Requirement already satisfied: chardet in /usr/local/lib/python3.10/dist-packages (from unstructured) (5.2.0)\n",
            "Requirement already satisfied: filetype in /usr/local/lib/python3.10/dist-packages (from unstructured) (1.2.0)\n",
            "Requirement already satisfied: python-magic in /usr/local/lib/python3.10/dist-packages (from unstructured) (0.4.27)\n",
            "Requirement already satisfied: lxml in /usr/local/lib/python3.10/dist-packages (from unstructured) (4.9.4)\n",
            "Requirement already satisfied: nltk in /usr/local/lib/python3.10/dist-packages (from unstructured) (3.8.1)\n",
            "Requirement already satisfied: tabulate in /usr/local/lib/python3.10/dist-packages (from unstructured) (0.9.0)\n",
            "Requirement already satisfied: beautifulsoup4 in /usr/local/lib/python3.10/dist-packages (from unstructured) (4.12.3)\n",
            "Requirement already satisfied: emoji in /usr/local/lib/python3.10/dist-packages (from unstructured) (2.12.1)\n",
            "Requirement already satisfied: python-iso639 in /usr/local/lib/python3.10/dist-packages (from unstructured) (2024.4.27)\n",
            "Requirement already satisfied: langdetect in /usr/local/lib/python3.10/dist-packages (from unstructured) (1.0.9)\n",
            "Requirement already satisfied: rapidfuzz in /usr/local/lib/python3.10/dist-packages (from unstructured) (3.9.7)\n",
            "Requirement already satisfied: backoff in /usr/local/lib/python3.10/dist-packages (from unstructured) (2.2.1)\n",
            "Requirement already satisfied: typing-extensions in /usr/local/lib/python3.10/dist-packages (from unstructured) (4.12.2)\n",
            "Requirement already satisfied: unstructured-client in /usr/local/lib/python3.10/dist-packages (from unstructured) (0.25.8)\n",
            "Requirement already satisfied: wrapt in /usr/local/lib/python3.10/dist-packages (from unstructured) (1.16.0)\n",
            "Requirement already satisfied: tqdm in /usr/local/lib/python3.10/dist-packages (from unstructured) (4.66.5)\n",
            "Requirement already satisfied: psutil in /usr/local/lib/python3.10/dist-packages (from unstructured) (5.9.5)\n",
            "Requirement already satisfied: python-oxmsg in /usr/local/lib/python3.10/dist-packages (from unstructured) (0.0.1)\n",
            "Requirement already satisfied: transformers<5.0.0,>=4.38.0 in /usr/local/lib/python3.10/dist-packages (from sentence_transformers) (4.44.2)\n",
            "Requirement already satisfied: torch>=1.11.0 in /usr/local/lib/python3.10/dist-packages (from sentence_transformers) (2.4.0+cu121)\n",
            "Requirement already satisfied: scikit-learn in /usr/local/lib/python3.10/dist-packages (from sentence_transformers) (1.3.2)\n",
            "Requirement already satisfied: scipy in /usr/local/lib/python3.10/dist-packages (from sentence_transformers) (1.13.1)\n",
            "Requirement already satisfied: huggingface-hub>=0.19.3 in /usr/local/lib/python3.10/dist-packages (from sentence_transformers) (0.24.7)\n",
            "Requirement already satisfied: Pillow in /usr/local/lib/python3.10/dist-packages (from sentence_transformers) (9.4.0)\n",
            "Requirement already satisfied: regex>=2022.1.18 in /usr/local/lib/python3.10/dist-packages (from tiktoken) (2024.5.15)\n",
            "Requirement already satisfied: build>=1.0.3 in /usr/local/lib/python3.10/dist-packages (from chromadb) (1.2.2)\n",
            "Requirement already satisfied: chroma-hnswlib==0.7.3 in /usr/local/lib/python3.10/dist-packages (from chromadb) (0.7.3)\n",
            "Requirement already satisfied: fastapi>=0.95.2 in /usr/local/lib/python3.10/dist-packages (from chromadb) (0.115.0)\n",
            "Requirement already satisfied: uvicorn>=0.18.3 in /usr/local/lib/python3.10/dist-packages (from uvicorn[standard]>=0.18.3->chromadb) (0.30.6)\n",
            "Requirement already satisfied: posthog>=2.4.0 in /usr/local/lib/python3.10/dist-packages (from chromadb) (3.6.6)\n",
            "Requirement already satisfied: onnxruntime>=1.14.1 in /usr/local/lib/python3.10/dist-packages (from chromadb) (1.19.2)\n",
            "Requirement already satisfied: opentelemetry-api>=1.2.0 in /usr/local/lib/python3.10/dist-packages (from chromadb) (1.27.0)\n",
            "Requirement already satisfied: opentelemetry-exporter-otlp-proto-grpc>=1.2.0 in /usr/local/lib/python3.10/dist-packages (from chromadb) (1.27.0)\n",
            "Requirement already satisfied: opentelemetry-instrumentation-fastapi>=0.41b0 in /usr/local/lib/python3.10/dist-packages (from chromadb) (0.48b0)\n",
            "Requirement already satisfied: opentelemetry-sdk>=1.2.0 in /usr/local/lib/python3.10/dist-packages (from chromadb) (1.27.0)\n",
            "Requirement already satisfied: tokenizers>=0.13.2 in /usr/local/lib/python3.10/dist-packages (from chromadb) (0.19.1)\n",
            "Requirement already satisfied: pypika>=0.48.9 in /usr/local/lib/python3.10/dist-packages (from chromadb) (0.48.9)\n",
            "Requirement already satisfied: overrides>=7.3.1 in /usr/local/lib/python3.10/dist-packages (from chromadb) (7.7.0)\n",
            "Requirement already satisfied: importlib-resources in /usr/local/lib/python3.10/dist-packages (from chromadb) (6.4.5)\n",
            "Requirement already satisfied: grpcio>=1.58.0 in /usr/local/lib/python3.10/dist-packages (from chromadb) (1.64.1)\n",
            "Requirement already satisfied: bcrypt>=4.0.1 in /usr/local/lib/python3.10/dist-packages (from chromadb) (4.2.0)\n",
            "Requirement already satisfied: typer>=0.9.0 in /usr/local/lib/python3.10/dist-packages (from chromadb) (0.12.5)\n",
            "Requirement already satisfied: kubernetes>=28.1.0 in /usr/local/lib/python3.10/dist-packages (from chromadb) (30.1.0)\n",
            "Requirement already satisfied: mmh3>=4.0.1 in /usr/local/lib/python3.10/dist-packages (from chromadb) (4.1.0)\n",
            "Requirement already satisfied: orjson>=3.9.12 in /usr/local/lib/python3.10/dist-packages (from chromadb) (3.10.7)\n",
            "Requirement already satisfied: httpx>=0.27.0 in /usr/local/lib/python3.10/dist-packages (from chromadb) (0.27.2)\n",
            "Requirement already satisfied: groq<1,>=0.4.1 in /usr/local/lib/python3.10/dist-packages (from langchain_groq) (0.11.0)\n",
            "Requirement already satisfied: aiohappyeyeballs>=2.3.0 in /usr/local/lib/python3.10/dist-packages (from aiohttp<4.0.0,>=3.8.3->langchain) (2.4.0)\n",
            "Requirement already satisfied: aiosignal>=1.1.2 in /usr/local/lib/python3.10/dist-packages (from aiohttp<4.0.0,>=3.8.3->langchain) (1.3.1)\n",
            "Requirement already satisfied: attrs>=17.3.0 in /usr/local/lib/python3.10/dist-packages (from aiohttp<4.0.0,>=3.8.3->langchain) (24.2.0)\n",
            "Requirement already satisfied: frozenlist>=1.1.1 in /usr/local/lib/python3.10/dist-packages (from aiohttp<4.0.0,>=3.8.3->langchain) (1.4.1)\n",
            "Requirement already satisfied: multidict<7.0,>=4.5 in /usr/local/lib/python3.10/dist-packages (from aiohttp<4.0.0,>=3.8.3->langchain) (6.1.0)\n",
            "Requirement already satisfied: yarl<2.0,>=1.0 in /usr/local/lib/python3.10/dist-packages (from aiohttp<4.0.0,>=3.8.3->langchain) (1.11.1)\n",
            "Requirement already satisfied: packaging>=19.1 in /usr/local/lib/python3.10/dist-packages (from build>=1.0.3->chromadb) (24.1)\n",
            "Requirement already satisfied: pyproject_hooks in /usr/local/lib/python3.10/dist-packages (from build>=1.0.3->chromadb) (1.1.0)\n",
            "Requirement already satisfied: tomli>=1.1.0 in /usr/local/lib/python3.10/dist-packages (from build>=1.0.3->chromadb) (2.0.1)\n",
            "Requirement already satisfied: marshmallow<4.0.0,>=3.18.0 in /usr/local/lib/python3.10/dist-packages (from dataclasses-json<0.7,>=0.5.7->langchain_community) (3.22.0)\n",
            "Requirement already satisfied: typing-inspect<1,>=0.4.0 in /usr/local/lib/python3.10/dist-packages (from dataclasses-json<0.7,>=0.5.7->langchain_community) (0.9.0)\n",
            "Requirement already satisfied: starlette<0.39.0,>=0.37.2 in /usr/local/lib/python3.10/dist-packages (from fastapi>=0.95.2->chromadb) (0.38.5)\n",
            "Requirement already satisfied: anyio<5,>=3.5.0 in /usr/local/lib/python3.10/dist-packages (from groq<1,>=0.4.1->langchain_groq) (3.7.1)\n",
            "Requirement already satisfied: distro<2,>=1.7.0 in /usr/lib/python3/dist-packages (from groq<1,>=0.4.1->langchain_groq) (1.7.0)\n",
            "Requirement already satisfied: sniffio in /usr/local/lib/python3.10/dist-packages (from groq<1,>=0.4.1->langchain_groq) (1.3.1)\n",
            "Requirement already satisfied: certifi in /usr/local/lib/python3.10/dist-packages (from httpx>=0.27.0->chromadb) (2024.8.30)\n",
            "Requirement already satisfied: httpcore==1.* in /usr/local/lib/python3.10/dist-packages (from httpx>=0.27.0->chromadb) (1.0.5)\n",
            "Requirement already satisfied: idna in /usr/local/lib/python3.10/dist-packages (from httpx>=0.27.0->chromadb) (3.8)\n",
            "Requirement already satisfied: h11<0.15,>=0.13 in /usr/local/lib/python3.10/dist-packages (from httpcore==1.*->httpx>=0.27.0->chromadb) (0.14.0)\n",
            "Requirement already satisfied: filelock in /usr/local/lib/python3.10/dist-packages (from huggingface-hub>=0.19.3->sentence_transformers) (3.16.0)\n",
            "Requirement already satisfied: fsspec>=2023.5.0 in /usr/local/lib/python3.10/dist-packages (from huggingface-hub>=0.19.3->sentence_transformers) (2024.6.1)\n",
            "Requirement already satisfied: six>=1.9.0 in /usr/local/lib/python3.10/dist-packages (from kubernetes>=28.1.0->chromadb) (1.16.0)\n",
            "Requirement already satisfied: python-dateutil>=2.5.3 in /usr/local/lib/python3.10/dist-packages (from kubernetes>=28.1.0->chromadb) (2.8.2)\n",
            "Requirement already satisfied: google-auth>=1.0.1 in /usr/local/lib/python3.10/dist-packages (from kubernetes>=28.1.0->chromadb) (2.27.0)\n",
            "Requirement already satisfied: websocket-client!=0.40.0,!=0.41.*,!=0.42.*,>=0.32.0 in /usr/local/lib/python3.10/dist-packages (from kubernetes>=28.1.0->chromadb) (1.8.0)\n",
            "Requirement already satisfied: requests-oauthlib in /usr/local/lib/python3.10/dist-packages (from kubernetes>=28.1.0->chromadb) (1.3.1)\n",
            "Requirement already satisfied: oauthlib>=3.2.2 in /usr/local/lib/python3.10/dist-packages (from kubernetes>=28.1.0->chromadb) (3.2.2)\n",
            "Requirement already satisfied: urllib3>=1.24.2 in /usr/local/lib/python3.10/dist-packages (from kubernetes>=28.1.0->chromadb) (2.0.7)\n",
            "Requirement already satisfied: jsonpatch<2.0,>=1.33 in /usr/local/lib/python3.10/dist-packages (from langchain-core<0.4.0,>=0.3.0->langchain) (1.33)\n",
            "Requirement already satisfied: coloredlogs in /usr/local/lib/python3.10/dist-packages (from onnxruntime>=1.14.1->chromadb) (15.0.1)\n",
            "Requirement already satisfied: flatbuffers in /usr/local/lib/python3.10/dist-packages (from onnxruntime>=1.14.1->chromadb) (24.3.25)\n",
            "Requirement already satisfied: protobuf in /usr/local/lib/python3.10/dist-packages (from onnxruntime>=1.14.1->chromadb) (3.20.3)\n",
            "Requirement already satisfied: sympy in /usr/local/lib/python3.10/dist-packages (from onnxruntime>=1.14.1->chromadb) (1.13.2)\n",
            "Requirement already satisfied: deprecated>=1.2.6 in /usr/local/lib/python3.10/dist-packages (from opentelemetry-api>=1.2.0->chromadb) (1.2.14)\n",
            "Requirement already satisfied: importlib-metadata<=8.4.0,>=6.0 in /usr/local/lib/python3.10/dist-packages (from opentelemetry-api>=1.2.0->chromadb) (8.4.0)\n",
            "Requirement already satisfied: googleapis-common-protos~=1.52 in /usr/local/lib/python3.10/dist-packages (from opentelemetry-exporter-otlp-proto-grpc>=1.2.0->chromadb) (1.65.0)\n",
            "Requirement already satisfied: opentelemetry-exporter-otlp-proto-common==1.27.0 in /usr/local/lib/python3.10/dist-packages (from opentelemetry-exporter-otlp-proto-grpc>=1.2.0->chromadb) (1.27.0)\n",
            "Requirement already satisfied: opentelemetry-proto==1.27.0 in /usr/local/lib/python3.10/dist-packages (from opentelemetry-exporter-otlp-proto-grpc>=1.2.0->chromadb) (1.27.0)\n",
            "Requirement already satisfied: opentelemetry-instrumentation-asgi==0.48b0 in /usr/local/lib/python3.10/dist-packages (from opentelemetry-instrumentation-fastapi>=0.41b0->chromadb) (0.48b0)\n",
            "Requirement already satisfied: opentelemetry-instrumentation==0.48b0 in /usr/local/lib/python3.10/dist-packages (from opentelemetry-instrumentation-fastapi>=0.41b0->chromadb) (0.48b0)\n",
            "Requirement already satisfied: opentelemetry-semantic-conventions==0.48b0 in /usr/local/lib/python3.10/dist-packages (from opentelemetry-instrumentation-fastapi>=0.41b0->chromadb) (0.48b0)\n",
            "Requirement already satisfied: opentelemetry-util-http==0.48b0 in /usr/local/lib/python3.10/dist-packages (from opentelemetry-instrumentation-fastapi>=0.41b0->chromadb) (0.48b0)\n",
            "Requirement already satisfied: setuptools>=16.0 in /usr/local/lib/python3.10/dist-packages (from opentelemetry-instrumentation==0.48b0->opentelemetry-instrumentation-fastapi>=0.41b0->chromadb) (71.0.4)\n",
            "Requirement already satisfied: asgiref~=3.0 in /usr/local/lib/python3.10/dist-packages (from opentelemetry-instrumentation-asgi==0.48b0->opentelemetry-instrumentation-fastapi>=0.41b0->chromadb) (3.8.1)\n",
            "Requirement already satisfied: monotonic>=1.5 in /usr/local/lib/python3.10/dist-packages (from posthog>=2.4.0->chromadb) (1.6)\n",
            "Requirement already satisfied: annotated-types>=0.6.0 in /usr/local/lib/python3.10/dist-packages (from pydantic<3.0.0,>=2.7.4->langchain) (0.7.0)\n",
            "Requirement already satisfied: pydantic-core==2.23.3 in /usr/local/lib/python3.10/dist-packages (from pydantic<3.0.0,>=2.7.4->langchain) (2.23.3)\n",
            "Requirement already satisfied: python-dotenv>=0.21.0 in /usr/local/lib/python3.10/dist-packages (from pydantic-settings<3.0.0,>=2.4.0->langchain_community) (1.0.1)\n",
            "Requirement already satisfied: charset-normalizer<4,>=2 in /usr/local/lib/python3.10/dist-packages (from requests<3,>=2->langchain) (3.3.2)\n",
            "Requirement already satisfied: greenlet!=0.4.17 in /usr/local/lib/python3.10/dist-packages (from SQLAlchemy<3,>=1.4->langchain) (3.1.0)\n",
            "Requirement already satisfied: networkx in /usr/local/lib/python3.10/dist-packages (from torch>=1.11.0->sentence_transformers) (3.3)\n",
            "Requirement already satisfied: jinja2 in /usr/local/lib/python3.10/dist-packages (from torch>=1.11.0->sentence_transformers) (3.1.4)\n",
            "Requirement already satisfied: safetensors>=0.4.1 in /usr/local/lib/python3.10/dist-packages (from transformers<5.0.0,>=4.38.0->sentence_transformers) (0.4.5)\n",
            "Requirement already satisfied: click>=8.0.0 in /usr/local/lib/python3.10/dist-packages (from typer>=0.9.0->chromadb) (8.1.7)\n",
            "Requirement already satisfied: shellingham>=1.3.0 in /usr/local/lib/python3.10/dist-packages (from typer>=0.9.0->chromadb) (1.5.4)\n",
            "Requirement already satisfied: rich>=10.11.0 in /usr/local/lib/python3.10/dist-packages (from typer>=0.9.0->chromadb) (13.8.1)\n",
            "Requirement already satisfied: httptools>=0.5.0 in /usr/local/lib/python3.10/dist-packages (from uvicorn[standard]>=0.18.3->chromadb) (0.6.1)\n",
            "Requirement already satisfied: uvloop!=0.15.0,!=0.15.1,>=0.14.0 in /usr/local/lib/python3.10/dist-packages (from uvicorn[standard]>=0.18.3->chromadb) (0.20.0)\n",
            "Requirement already satisfied: watchfiles>=0.13 in /usr/local/lib/python3.10/dist-packages (from uvicorn[standard]>=0.18.3->chromadb) (0.24.0)\n",
            "Requirement already satisfied: websockets>=10.4 in /usr/local/lib/python3.10/dist-packages (from uvicorn[standard]>=0.18.3->chromadb) (13.0.1)\n",
            "Requirement already satisfied: soupsieve>1.2 in /usr/local/lib/python3.10/dist-packages (from beautifulsoup4->unstructured) (2.6)\n",
            "Requirement already satisfied: joblib in /usr/local/lib/python3.10/dist-packages (from nltk->unstructured) (1.4.2)\n",
            "Requirement already satisfied: olefile in /usr/local/lib/python3.10/dist-packages (from python-oxmsg->unstructured) (0.47)\n",
            "Requirement already satisfied: threadpoolctl>=2.0.0 in /usr/local/lib/python3.10/dist-packages (from scikit-learn->sentence_transformers) (3.5.0)\n",
            "Requirement already satisfied: deepdiff>=6.0 in /usr/local/lib/python3.10/dist-packages (from unstructured-client->unstructured) (8.0.1)\n",
            "Requirement already satisfied: jsonpath-python>=1.0.6 in /usr/local/lib/python3.10/dist-packages (from unstructured-client->unstructured) (1.0.6)\n",
            "Requirement already satisfied: mypy-extensions>=1.0.0 in /usr/local/lib/python3.10/dist-packages (from unstructured-client->unstructured) (1.0.0)\n",
            "Requirement already satisfied: nest-asyncio>=1.6.0 in /usr/local/lib/python3.10/dist-packages (from unstructured-client->unstructured) (1.6.0)\n",
            "Requirement already satisfied: pypdf>=4.0 in /usr/local/lib/python3.10/dist-packages (from unstructured-client->unstructured) (5.0.0)\n",
            "Requirement already satisfied: requests-toolbelt>=1.0.0 in /usr/local/lib/python3.10/dist-packages (from unstructured-client->unstructured) (1.0.0)\n",
            "Requirement already satisfied: exceptiongroup in /usr/local/lib/python3.10/dist-packages (from anyio<5,>=3.5.0->groq<1,>=0.4.1->langchain_groq) (1.2.2)\n",
            "Requirement already satisfied: orderly-set==5.2.2 in /usr/local/lib/python3.10/dist-packages (from deepdiff>=6.0->unstructured-client->unstructured) (5.2.2)\n",
            "Requirement already satisfied: cachetools<6.0,>=2.0.0 in /usr/local/lib/python3.10/dist-packages (from google-auth>=1.0.1->kubernetes>=28.1.0->chromadb) (5.5.0)\n",
            "Requirement already satisfied: pyasn1-modules>=0.2.1 in /usr/local/lib/python3.10/dist-packages (from google-auth>=1.0.1->kubernetes>=28.1.0->chromadb) (0.4.1)\n",
            "Requirement already satisfied: rsa<5,>=3.1.4 in /usr/local/lib/python3.10/dist-packages (from google-auth>=1.0.1->kubernetes>=28.1.0->chromadb) (4.9)\n",
            "Requirement already satisfied: zipp>=0.5 in /usr/local/lib/python3.10/dist-packages (from importlib-metadata<=8.4.0,>=6.0->opentelemetry-api>=1.2.0->chromadb) (3.20.2)\n",
            "Requirement already satisfied: jsonpointer>=1.9 in /usr/local/lib/python3.10/dist-packages (from jsonpatch<2.0,>=1.33->langchain-core<0.4.0,>=0.3.0->langchain) (3.0.0)\n",
            "Requirement already satisfied: markdown-it-py>=2.2.0 in /usr/local/lib/python3.10/dist-packages (from rich>=10.11.0->typer>=0.9.0->chromadb) (3.0.0)\n",
            "Requirement already satisfied: pygments<3.0.0,>=2.13.0 in /usr/local/lib/python3.10/dist-packages (from rich>=10.11.0->typer>=0.9.0->chromadb) (2.16.1)\n",
            "Requirement already satisfied: humanfriendly>=9.1 in /usr/local/lib/python3.10/dist-packages (from coloredlogs->onnxruntime>=1.14.1->chromadb) (10.0)\n",
            "Requirement already satisfied: MarkupSafe>=2.0 in /usr/local/lib/python3.10/dist-packages (from jinja2->torch>=1.11.0->sentence_transformers) (2.1.5)\n",
            "Requirement already satisfied: mpmath<1.4,>=1.1.0 in /usr/local/lib/python3.10/dist-packages (from sympy->onnxruntime>=1.14.1->chromadb) (1.3.0)\n",
            "Requirement already satisfied: mdurl~=0.1 in /usr/local/lib/python3.10/dist-packages (from markdown-it-py>=2.2.0->rich>=10.11.0->typer>=0.9.0->chromadb) (0.1.2)\n",
            "Requirement already satisfied: pyasn1<0.7.0,>=0.4.6 in /usr/local/lib/python3.10/dist-packages (from pyasn1-modules>=0.2.1->google-auth>=1.0.1->kubernetes>=28.1.0->chromadb) (0.6.1)\n"
          ]
        }
      ],
      "source": [
        "!pip install langchain langchain_community unstructured sentence_transformers tiktoken chromadb langchain_chroma langchain_groq"
      ]
    },
    {
      "cell_type": "markdown",
      "id": "ee6ee6f0",
      "metadata": {
        "id": "ee6ee6f0"
      },
      "source": [
        "\n",
        "## Import Necessary Modules\n",
        "\n",
        "Now, you need to import the necessary modules to build the RAG system.\n",
        "Write the import statements for the libraries required in the following code cell.\n"
      ]
    },
    {
      "cell_type": "code",
      "execution_count": 29,
      "id": "5c905a8d",
      "metadata": {
        "id": "5c905a8d"
      },
      "outputs": [],
      "source": [
        "import os\n",
        "import pandas as pd\n",
        "from langchain.text_splitter import RecursiveCharacterTextSplitter\n",
        "from langchain_community.document_loaders import DirectoryLoader\n",
        "from langchain_community.vectorstores import Chroma\n",
        "from langchain_community.embeddings.sentence_transformer import (\n",
        "    SentenceTransformerEmbeddings,\n",
        ")\n",
        "import markdown\n",
        "from langchain.text_splitter import RecursiveCharacterTextSplitter"
      ]
    },
    {
      "cell_type": "code",
      "source": [
        "import pandas as pd\n",
        "import re\n",
        "df = pd.read_csv(\"hf://datasets/fka/awesome-chatgpt-prompts/prompts.csv\")"
      ],
      "metadata": {
        "id": "6wTsRmLFRmOQ"
      },
      "id": "6wTsRmLFRmOQ",
      "execution_count": 30,
      "outputs": []
    },
    {
      "cell_type": "code",
      "source": [
        "df"
      ],
      "metadata": {
        "id": "c9QustbzTbTy",
        "outputId": "3ae094e6-cda3-40ac-8943-87a632434114",
        "colab": {
          "base_uri": "https://localhost:8080/",
          "height": 419
        }
      },
      "id": "c9QustbzTbTy",
      "execution_count": 31,
      "outputs": [
        {
          "output_type": "execute_result",
          "data": {
            "text/plain": [
              "                                 act  \\\n",
              "0              An Ethereum Developer   \n",
              "1                         SEO Prompt   \n",
              "2                     Linux Terminal   \n",
              "3    English Translator and Improver   \n",
              "4             `position` Interviewer   \n",
              "..                               ...   \n",
              "165      Cheap Travel Ticket Advisor   \n",
              "166                   Data Scientist   \n",
              "167         League of Legends Player   \n",
              "168                 Restaurant Owner   \n",
              "169             Architectural Expert   \n",
              "\n",
              "                                                prompt  \n",
              "0    Imagine you are an experienced Ethereum develo...  \n",
              "1    Using WebPilot, create an outline for an artic...  \n",
              "2    I want you to act as a linux terminal. I will ...  \n",
              "3    I want you to act as an English translator, sp...  \n",
              "4    I want you to act as an interviewer. I will be...  \n",
              "..                                                 ...  \n",
              "165  You are a cheap travel ticket advisor speciali...  \n",
              "166  I want you to act as a data scientist. Imagine...  \n",
              "167  I want you to act as a person who plays a lot ...  \n",
              "168  I want you to act as a Restaurant Owner. When ...  \n",
              "169  I am an expert in the field of architecture, w...  \n",
              "\n",
              "[170 rows x 2 columns]"
            ],
            "text/html": [
              "\n",
              "  <div id=\"df-b2bf19ea-7709-49a1-b4f8-cd044e43a6a2\" class=\"colab-df-container\">\n",
              "    <div>\n",
              "<style scoped>\n",
              "    .dataframe tbody tr th:only-of-type {\n",
              "        vertical-align: middle;\n",
              "    }\n",
              "\n",
              "    .dataframe tbody tr th {\n",
              "        vertical-align: top;\n",
              "    }\n",
              "\n",
              "    .dataframe thead th {\n",
              "        text-align: right;\n",
              "    }\n",
              "</style>\n",
              "<table border=\"1\" class=\"dataframe\">\n",
              "  <thead>\n",
              "    <tr style=\"text-align: right;\">\n",
              "      <th></th>\n",
              "      <th>act</th>\n",
              "      <th>prompt</th>\n",
              "    </tr>\n",
              "  </thead>\n",
              "  <tbody>\n",
              "    <tr>\n",
              "      <th>0</th>\n",
              "      <td>An Ethereum Developer</td>\n",
              "      <td>Imagine you are an experienced Ethereum develo...</td>\n",
              "    </tr>\n",
              "    <tr>\n",
              "      <th>1</th>\n",
              "      <td>SEO Prompt</td>\n",
              "      <td>Using WebPilot, create an outline for an artic...</td>\n",
              "    </tr>\n",
              "    <tr>\n",
              "      <th>2</th>\n",
              "      <td>Linux Terminal</td>\n",
              "      <td>I want you to act as a linux terminal. I will ...</td>\n",
              "    </tr>\n",
              "    <tr>\n",
              "      <th>3</th>\n",
              "      <td>English Translator and Improver</td>\n",
              "      <td>I want you to act as an English translator, sp...</td>\n",
              "    </tr>\n",
              "    <tr>\n",
              "      <th>4</th>\n",
              "      <td>`position` Interviewer</td>\n",
              "      <td>I want you to act as an interviewer. I will be...</td>\n",
              "    </tr>\n",
              "    <tr>\n",
              "      <th>...</th>\n",
              "      <td>...</td>\n",
              "      <td>...</td>\n",
              "    </tr>\n",
              "    <tr>\n",
              "      <th>165</th>\n",
              "      <td>Cheap Travel Ticket Advisor</td>\n",
              "      <td>You are a cheap travel ticket advisor speciali...</td>\n",
              "    </tr>\n",
              "    <tr>\n",
              "      <th>166</th>\n",
              "      <td>Data Scientist</td>\n",
              "      <td>I want you to act as a data scientist. Imagine...</td>\n",
              "    </tr>\n",
              "    <tr>\n",
              "      <th>167</th>\n",
              "      <td>League of Legends Player</td>\n",
              "      <td>I want you to act as a person who plays a lot ...</td>\n",
              "    </tr>\n",
              "    <tr>\n",
              "      <th>168</th>\n",
              "      <td>Restaurant Owner</td>\n",
              "      <td>I want you to act as a Restaurant Owner. When ...</td>\n",
              "    </tr>\n",
              "    <tr>\n",
              "      <th>169</th>\n",
              "      <td>Architectural Expert</td>\n",
              "      <td>I am an expert in the field of architecture, w...</td>\n",
              "    </tr>\n",
              "  </tbody>\n",
              "</table>\n",
              "<p>170 rows × 2 columns</p>\n",
              "</div>\n",
              "    <div class=\"colab-df-buttons\">\n",
              "\n",
              "  <div class=\"colab-df-container\">\n",
              "    <button class=\"colab-df-convert\" onclick=\"convertToInteractive('df-b2bf19ea-7709-49a1-b4f8-cd044e43a6a2')\"\n",
              "            title=\"Convert this dataframe to an interactive table.\"\n",
              "            style=\"display:none;\">\n",
              "\n",
              "  <svg xmlns=\"http://www.w3.org/2000/svg\" height=\"24px\" viewBox=\"0 -960 960 960\">\n",
              "    <path d=\"M120-120v-720h720v720H120Zm60-500h600v-160H180v160Zm220 220h160v-160H400v160Zm0 220h160v-160H400v160ZM180-400h160v-160H180v160Zm440 0h160v-160H620v160ZM180-180h160v-160H180v160Zm440 0h160v-160H620v160Z\"/>\n",
              "  </svg>\n",
              "    </button>\n",
              "\n",
              "  <style>\n",
              "    .colab-df-container {\n",
              "      display:flex;\n",
              "      gap: 12px;\n",
              "    }\n",
              "\n",
              "    .colab-df-convert {\n",
              "      background-color: #E8F0FE;\n",
              "      border: none;\n",
              "      border-radius: 50%;\n",
              "      cursor: pointer;\n",
              "      display: none;\n",
              "      fill: #1967D2;\n",
              "      height: 32px;\n",
              "      padding: 0 0 0 0;\n",
              "      width: 32px;\n",
              "    }\n",
              "\n",
              "    .colab-df-convert:hover {\n",
              "      background-color: #E2EBFA;\n",
              "      box-shadow: 0px 1px 2px rgba(60, 64, 67, 0.3), 0px 1px 3px 1px rgba(60, 64, 67, 0.15);\n",
              "      fill: #174EA6;\n",
              "    }\n",
              "\n",
              "    .colab-df-buttons div {\n",
              "      margin-bottom: 4px;\n",
              "    }\n",
              "\n",
              "    [theme=dark] .colab-df-convert {\n",
              "      background-color: #3B4455;\n",
              "      fill: #D2E3FC;\n",
              "    }\n",
              "\n",
              "    [theme=dark] .colab-df-convert:hover {\n",
              "      background-color: #434B5C;\n",
              "      box-shadow: 0px 1px 3px 1px rgba(0, 0, 0, 0.15);\n",
              "      filter: drop-shadow(0px 1px 2px rgba(0, 0, 0, 0.3));\n",
              "      fill: #FFFFFF;\n",
              "    }\n",
              "  </style>\n",
              "\n",
              "    <script>\n",
              "      const buttonEl =\n",
              "        document.querySelector('#df-b2bf19ea-7709-49a1-b4f8-cd044e43a6a2 button.colab-df-convert');\n",
              "      buttonEl.style.display =\n",
              "        google.colab.kernel.accessAllowed ? 'block' : 'none';\n",
              "\n",
              "      async function convertToInteractive(key) {\n",
              "        const element = document.querySelector('#df-b2bf19ea-7709-49a1-b4f8-cd044e43a6a2');\n",
              "        const dataTable =\n",
              "          await google.colab.kernel.invokeFunction('convertToInteractive',\n",
              "                                                    [key], {});\n",
              "        if (!dataTable) return;\n",
              "\n",
              "        const docLinkHtml = 'Like what you see? Visit the ' +\n",
              "          '<a target=\"_blank\" href=https://colab.research.google.com/notebooks/data_table.ipynb>data table notebook</a>'\n",
              "          + ' to learn more about interactive tables.';\n",
              "        element.innerHTML = '';\n",
              "        dataTable['output_type'] = 'display_data';\n",
              "        await google.colab.output.renderOutput(dataTable, element);\n",
              "        const docLink = document.createElement('div');\n",
              "        docLink.innerHTML = docLinkHtml;\n",
              "        element.appendChild(docLink);\n",
              "      }\n",
              "    </script>\n",
              "  </div>\n",
              "\n",
              "\n",
              "<div id=\"df-4e4e840a-ceca-44fa-98c9-f595ab8a3e9c\">\n",
              "  <button class=\"colab-df-quickchart\" onclick=\"quickchart('df-4e4e840a-ceca-44fa-98c9-f595ab8a3e9c')\"\n",
              "            title=\"Suggest charts\"\n",
              "            style=\"display:none;\">\n",
              "\n",
              "<svg xmlns=\"http://www.w3.org/2000/svg\" height=\"24px\"viewBox=\"0 0 24 24\"\n",
              "     width=\"24px\">\n",
              "    <g>\n",
              "        <path d=\"M19 3H5c-1.1 0-2 .9-2 2v14c0 1.1.9 2 2 2h14c1.1 0 2-.9 2-2V5c0-1.1-.9-2-2-2zM9 17H7v-7h2v7zm4 0h-2V7h2v10zm4 0h-2v-4h2v4z\"/>\n",
              "    </g>\n",
              "</svg>\n",
              "  </button>\n",
              "\n",
              "<style>\n",
              "  .colab-df-quickchart {\n",
              "      --bg-color: #E8F0FE;\n",
              "      --fill-color: #1967D2;\n",
              "      --hover-bg-color: #E2EBFA;\n",
              "      --hover-fill-color: #174EA6;\n",
              "      --disabled-fill-color: #AAA;\n",
              "      --disabled-bg-color: #DDD;\n",
              "  }\n",
              "\n",
              "  [theme=dark] .colab-df-quickchart {\n",
              "      --bg-color: #3B4455;\n",
              "      --fill-color: #D2E3FC;\n",
              "      --hover-bg-color: #434B5C;\n",
              "      --hover-fill-color: #FFFFFF;\n",
              "      --disabled-bg-color: #3B4455;\n",
              "      --disabled-fill-color: #666;\n",
              "  }\n",
              "\n",
              "  .colab-df-quickchart {\n",
              "    background-color: var(--bg-color);\n",
              "    border: none;\n",
              "    border-radius: 50%;\n",
              "    cursor: pointer;\n",
              "    display: none;\n",
              "    fill: var(--fill-color);\n",
              "    height: 32px;\n",
              "    padding: 0;\n",
              "    width: 32px;\n",
              "  }\n",
              "\n",
              "  .colab-df-quickchart:hover {\n",
              "    background-color: var(--hover-bg-color);\n",
              "    box-shadow: 0 1px 2px rgba(60, 64, 67, 0.3), 0 1px 3px 1px rgba(60, 64, 67, 0.15);\n",
              "    fill: var(--button-hover-fill-color);\n",
              "  }\n",
              "\n",
              "  .colab-df-quickchart-complete:disabled,\n",
              "  .colab-df-quickchart-complete:disabled:hover {\n",
              "    background-color: var(--disabled-bg-color);\n",
              "    fill: var(--disabled-fill-color);\n",
              "    box-shadow: none;\n",
              "  }\n",
              "\n",
              "  .colab-df-spinner {\n",
              "    border: 2px solid var(--fill-color);\n",
              "    border-color: transparent;\n",
              "    border-bottom-color: var(--fill-color);\n",
              "    animation:\n",
              "      spin 1s steps(1) infinite;\n",
              "  }\n",
              "\n",
              "  @keyframes spin {\n",
              "    0% {\n",
              "      border-color: transparent;\n",
              "      border-bottom-color: var(--fill-color);\n",
              "      border-left-color: var(--fill-color);\n",
              "    }\n",
              "    20% {\n",
              "      border-color: transparent;\n",
              "      border-left-color: var(--fill-color);\n",
              "      border-top-color: var(--fill-color);\n",
              "    }\n",
              "    30% {\n",
              "      border-color: transparent;\n",
              "      border-left-color: var(--fill-color);\n",
              "      border-top-color: var(--fill-color);\n",
              "      border-right-color: var(--fill-color);\n",
              "    }\n",
              "    40% {\n",
              "      border-color: transparent;\n",
              "      border-right-color: var(--fill-color);\n",
              "      border-top-color: var(--fill-color);\n",
              "    }\n",
              "    60% {\n",
              "      border-color: transparent;\n",
              "      border-right-color: var(--fill-color);\n",
              "    }\n",
              "    80% {\n",
              "      border-color: transparent;\n",
              "      border-right-color: var(--fill-color);\n",
              "      border-bottom-color: var(--fill-color);\n",
              "    }\n",
              "    90% {\n",
              "      border-color: transparent;\n",
              "      border-bottom-color: var(--fill-color);\n",
              "    }\n",
              "  }\n",
              "</style>\n",
              "\n",
              "  <script>\n",
              "    async function quickchart(key) {\n",
              "      const quickchartButtonEl =\n",
              "        document.querySelector('#' + key + ' button');\n",
              "      quickchartButtonEl.disabled = true;  // To prevent multiple clicks.\n",
              "      quickchartButtonEl.classList.add('colab-df-spinner');\n",
              "      try {\n",
              "        const charts = await google.colab.kernel.invokeFunction(\n",
              "            'suggestCharts', [key], {});\n",
              "      } catch (error) {\n",
              "        console.error('Error during call to suggestCharts:', error);\n",
              "      }\n",
              "      quickchartButtonEl.classList.remove('colab-df-spinner');\n",
              "      quickchartButtonEl.classList.add('colab-df-quickchart-complete');\n",
              "    }\n",
              "    (() => {\n",
              "      let quickchartButtonEl =\n",
              "        document.querySelector('#df-4e4e840a-ceca-44fa-98c9-f595ab8a3e9c button');\n",
              "      quickchartButtonEl.style.display =\n",
              "        google.colab.kernel.accessAllowed ? 'block' : 'none';\n",
              "    })();\n",
              "  </script>\n",
              "</div>\n",
              "\n",
              "  <div id=\"id_047a28e6-ecda-4dc6-b476-c3ce8a1525f1\">\n",
              "    <style>\n",
              "      .colab-df-generate {\n",
              "        background-color: #E8F0FE;\n",
              "        border: none;\n",
              "        border-radius: 50%;\n",
              "        cursor: pointer;\n",
              "        display: none;\n",
              "        fill: #1967D2;\n",
              "        height: 32px;\n",
              "        padding: 0 0 0 0;\n",
              "        width: 32px;\n",
              "      }\n",
              "\n",
              "      .colab-df-generate:hover {\n",
              "        background-color: #E2EBFA;\n",
              "        box-shadow: 0px 1px 2px rgba(60, 64, 67, 0.3), 0px 1px 3px 1px rgba(60, 64, 67, 0.15);\n",
              "        fill: #174EA6;\n",
              "      }\n",
              "\n",
              "      [theme=dark] .colab-df-generate {\n",
              "        background-color: #3B4455;\n",
              "        fill: #D2E3FC;\n",
              "      }\n",
              "\n",
              "      [theme=dark] .colab-df-generate:hover {\n",
              "        background-color: #434B5C;\n",
              "        box-shadow: 0px 1px 3px 1px rgba(0, 0, 0, 0.15);\n",
              "        filter: drop-shadow(0px 1px 2px rgba(0, 0, 0, 0.3));\n",
              "        fill: #FFFFFF;\n",
              "      }\n",
              "    </style>\n",
              "    <button class=\"colab-df-generate\" onclick=\"generateWithVariable('df')\"\n",
              "            title=\"Generate code using this dataframe.\"\n",
              "            style=\"display:none;\">\n",
              "\n",
              "  <svg xmlns=\"http://www.w3.org/2000/svg\" height=\"24px\"viewBox=\"0 0 24 24\"\n",
              "       width=\"24px\">\n",
              "    <path d=\"M7,19H8.4L18.45,9,17,7.55,7,17.6ZM5,21V16.75L18.45,3.32a2,2,0,0,1,2.83,0l1.4,1.43a1.91,1.91,0,0,1,.58,1.4,1.91,1.91,0,0,1-.58,1.4L9.25,21ZM18.45,9,17,7.55Zm-12,3A5.31,5.31,0,0,0,4.9,8.1,5.31,5.31,0,0,0,1,6.5,5.31,5.31,0,0,0,4.9,4.9,5.31,5.31,0,0,0,6.5,1,5.31,5.31,0,0,0,8.1,4.9,5.31,5.31,0,0,0,12,6.5,5.46,5.46,0,0,0,6.5,12Z\"/>\n",
              "  </svg>\n",
              "    </button>\n",
              "    <script>\n",
              "      (() => {\n",
              "      const buttonEl =\n",
              "        document.querySelector('#id_047a28e6-ecda-4dc6-b476-c3ce8a1525f1 button.colab-df-generate');\n",
              "      buttonEl.style.display =\n",
              "        google.colab.kernel.accessAllowed ? 'block' : 'none';\n",
              "\n",
              "      buttonEl.onclick = () => {\n",
              "        google.colab.notebook.generateWithVariable('df');\n",
              "      }\n",
              "      })();\n",
              "    </script>\n",
              "  </div>\n",
              "\n",
              "    </div>\n",
              "  </div>\n"
            ],
            "application/vnd.google.colaboratory.intrinsic+json": {
              "type": "dataframe",
              "variable_name": "df",
              "summary": "{\n  \"name\": \"df\",\n  \"rows\": 170,\n  \"fields\": [\n    {\n      \"column\": \"act\",\n      \"properties\": {\n        \"dtype\": \"string\",\n        \"num_unique_values\": 169,\n        \"samples\": [\n          \"Commit Message Generator\",\n          \"AI Writing Tutor\",\n          \"Dream Interpreter\"\n        ],\n        \"semantic_type\": \"\",\n        \"description\": \"\"\n      }\n    },\n    {\n      \"column\": \"prompt\",\n      \"properties\": {\n        \"dtype\": \"string\",\n        \"num_unique_values\": 170,\n        \"samples\": [\n          \"I want you to act as a Chief Executive Officer for a hypothetical company. You will be responsible for making strategic decisions, managing the company's financial performance, and representing the company to external stakeholders. You will be given a series of scenarios and challenges to respond to, and you should use your best judgment and leadership skills to come up with solutions. Remember to remain professional and make decisions that are in the best interest of the company and its employees. Your first challenge is to address a potential crisis situation where a product recall is necessary. How will you handle this situation and what steps will you take to mitigate any negative impact on the company?\",\n          \"I want you to act as an AI writing tutor. I will provide you with a student who needs help improving their writing and your task is to use artificial intelligence tools, such as natural language processing, to give the student feedback on how they can improve their composition. You should also use your rhetorical knowledge and experience about effective writing techniques in order to suggest ways that the student can better express their thoughts and ideas in written form. My first request is \\\"I need somebody to help me edit my master's thesis.\\\"\",\n          \"I want you to act as a dream interpreter. I will give you descriptions of my dreams, and you will provide interpretations based on the symbols and themes present in the dream. Do not provide personal opinions or assumptions about the dreamer. Provide only factual interpretations based on the information given. My first dream is about being chased by a giant spider.\"\n        ],\n        \"semantic_type\": \"\",\n        \"description\": \"\"\n      }\n    }\n  ]\n}"
            }
          },
          "metadata": {},
          "execution_count": 31
        }
      ]
    },
    {
      "cell_type": "markdown",
      "id": "1da8dc15",
      "metadata": {
        "id": "1da8dc15"
      },
      "source": [
        "# Data Pre-processing and Preparation\n",
        "\n",
        "In this section, we will focus on preparing the dataset for retrieval-based models. The steps involve cleaning the text, tokenizing it, and vectorizing it for further use in our model. These steps are essential for efficient retrieval and generation."
      ]
    },
    {
      "cell_type": "code",
      "execution_count": 32,
      "id": "a626d517",
      "metadata": {
        "id": "a626d517"
      },
      "outputs": [],
      "source": [
        "def clean_text(text):\n",
        "    text = re.sub(r\"<.*?>\", \"\", text)\n",
        "    text = re.sub(r\"[^a-zA-Z0-9]+\", \" \", text)\n",
        "    text = text.strip()\n",
        "    return text\n",
        "\n",
        "df['prompt'] = df['prompt'].apply(clean_text)"
      ]
    },
    {
      "cell_type": "code",
      "source": [
        "directory = 'data/markdown_files'\n",
        "os.makedirs(directory, exist_ok=True)"
      ],
      "metadata": {
        "id": "dfF6uaU1ZRw2"
      },
      "id": "dfF6uaU1ZRw2",
      "execution_count": 33,
      "outputs": []
    },
    {
      "source": [
        "for i in range(0, len(df)): # Use len(df) to iterate over the actual number of rows in the DataFrame\n",
        "\n",
        "    title = df['act'].iloc[i]\n",
        "    content = df['prompt'].iloc[i]\n",
        "\n",
        "    markdown_content = f\"# {title}\\n\\n\"\n",
        "    markdown_content += f\"{content}\\n\\n\"\n",
        "\n",
        "    with open(f'{directory}/{i}.md', 'w', encoding='utf-8') as file:\n",
        "        file.write(markdown_content)"
      ],
      "cell_type": "code",
      "metadata": {
        "id": "rt5RkfqecMbA"
      },
      "id": "rt5RkfqecMbA",
      "execution_count": 37,
      "outputs": []
    },
    {
      "cell_type": "markdown",
      "id": "9a7cc08f",
      "metadata": {
        "id": "9a7cc08f"
      },
      "source": [
        "# Read Files from the Directory\n",
        "\n",
        "In this step, we will read all text-based files from a specified directory. The files could be in various formats such as Markdown (`.md`), plain text (`.txt`), or other similar formats. We will handle each file based on its extension and process it accordingly.\n",
        "\n",
        "### Steps to Follow:\n",
        "\n",
        "1. **Specify the directory**: Define the directory from which to load the files.\n",
        "2. **Read files by extension**: Filter files based on their extensions (e.g., `.md`, `.txt`, etc.).\n",
        "3. **Convert or process content**: For each file, load the content. For markdown files, we will convert them into HTML using the `markdown` module. For other text formats, we will simply read the content as plain text.\n",
        "4. **Store the processed content**: The result of each file’s content will be stored in a list for further use."
      ]
    },
    {
      "cell_type": "code",
      "source": [
        "markdown_texts = []\n",
        "for filename in os.listdir(directory):\n",
        "  if filename.endswith(\".md\"):\n",
        "    with open(os.path.join(directory, filename), 'r', encoding='utf-8') as file:\n",
        "      markdown_content = file.read()\n",
        "      html_content = markdown.markdown(markdown_content)\n",
        "      markdown_texts.append(html_content)"
      ],
      "metadata": {
        "id": "j8XMjaRmYwwA"
      },
      "id": "j8XMjaRmYwwA",
      "execution_count": 38,
      "outputs": []
    },
    {
      "cell_type": "markdown",
      "id": "7e9614ae",
      "metadata": {
        "id": "7e9614ae"
      },
      "source": [
        "## Split the Text into Chunks\n",
        "\n",
        "In this step, we will split the text into manageable chunks. This is important for tasks such as document retrieval and text generation, where large bodies of text need to be broken down for efficient processing.\n",
        "\n",
        "### Why Split Text into Chunks?\n",
        "\n",
        "- **Memory Efficiency**: Working with smaller pieces of text is more memory efficient.\n",
        "- **Improved Retrieval**: Splitting long documents into smaller sections can improve the relevance of retrieval tasks.\n",
        "- **Better Generation**: For text generation, smaller chunks help models focus on a specific context.\n",
        "\n",
        "### Steps to Follow:\n",
        "\n",
        "1. **Specify the chunk size**: Define the maximum number of words or characters per chunk.\n",
        "2. **Split the text**: Split each document or file content into chunks based on the defined size.\n",
        "3. **Handle incomplete chunks**: If a document ends with a chunk that is smaller than the chunk size, include it as a valid chunk.\n",
        "4. **Store the chunks**: Store all chunks in a list for further processing."
      ]
    },
    {
      "cell_type": "code",
      "source": [
        "text_splitter = RecursiveCharacterTextSplitter(chunk_size=500, chunk_overlap=50)\n",
        "documents = text_splitter.create_documents(markdown_texts)"
      ],
      "metadata": {
        "id": "euLFtsAnZ0eW"
      },
      "id": "euLFtsAnZ0eW",
      "execution_count": 39,
      "outputs": []
    },
    {
      "cell_type": "markdown",
      "id": "4bf4c57d",
      "metadata": {
        "id": "4bf4c57d"
      },
      "source": [
        "## Initialize the Embedding Model & Create a Vector Store Using Chroma\n",
        "\n",
        "In this step, we will initialize an embedding model to convert text chunks into numerical vectors. These embeddings will be used to measure the similarity between different chunks of text. After generating the embeddings, we will store them using Chroma, a vector store designed to efficiently manage and retrieve embeddings.\n",
        "\n",
        "### Steps to Follow:\n",
        "\n",
        "1. **Initialize the embedding model**: Choose an embedding model (e.g., Sentence Transformers or OpenAI embeddings) to convert text into vectors.\n",
        "2. **Generate embeddings**: Convert each text chunk into its corresponding embedding.\n",
        "3. **Create a vector store**: Use Chroma to store the embeddings and their associated metadata (e.g., the original text chunk).\n",
        "4. **Verify the store**: Ensure that the embeddings are stored correctly and that you can retrieve them based on similarity."
      ]
    },
    {
      "cell_type": "code",
      "execution_count": 40,
      "id": "0563b390",
      "metadata": {
        "id": "0563b390",
        "outputId": "a19f4e79-5dd8-49b2-89b0-c3ebb5758f9e",
        "colab": {
          "base_uri": "https://localhost:8080/"
        }
      },
      "outputs": [
        {
          "output_type": "stream",
          "name": "stderr",
          "text": [
            "/usr/local/lib/python3.10/dist-packages/transformers/tokenization_utils_base.py:1601: FutureWarning: `clean_up_tokenization_spaces` was not set. It will be set to `True` by default. This behavior will be depracted in transformers v4.45, and will be then set to `False` by default. For more details check this issue: https://github.com/huggingface/transformers/issues/31884\n",
            "  warnings.warn(\n"
          ]
        }
      ],
      "source": [
        "embedding_function = SentenceTransformerEmbeddings(model_name=\"all-MiniLM-L6-v2\")\n",
        "db = Chroma.from_documents(documents, embedding_function, persist_directory=\"./chroma_db\")"
      ]
    },
    {
      "cell_type": "markdown",
      "id": "e4e314a5",
      "metadata": {
        "id": "e4e314a5"
      },
      "source": [
        "# Load the Persistent Directory for Chroma DB\n",
        "\n",
        "In this step, we will focus on **loading** the persistent storage for Chroma DB. This allows us to access previously stored embeddings and metadata without recomputing them. By setting up persistent storage, we ensure that the vector database can be saved to disk and loaded again when needed.\n",
        "\n",
        "### Steps to Follow:\n",
        "\n",
        "1. **Specify the persistent directory**: Identify the directory where the Chroma DB is stored.\n",
        "2. **Load the vector store**: Use Chroma to load the embeddings and metadata from this directory.\n",
        "3. **Verify the loaded data**: Ensure that the embeddings and associated data have been correctly loaded and can be queried."
      ]
    },
    {
      "cell_type": "code",
      "execution_count": 41,
      "id": "36678d56",
      "metadata": {
        "id": "36678d56"
      },
      "outputs": [],
      "source": [
        "import os\n",
        "import json\n",
        "from langchain_chroma import Chroma\n",
        "from langchain.chains import RetrievalQA\n",
        "from langchain.chains import LLMChain\n",
        "from langchain.prompts import PromptTemplate\n",
        "from langchain_groq import ChatGroq\n",
        "from langchain_community.embeddings.sentence_transformer import (\n",
        "    SentenceTransformerEmbeddings,\n",
        ")"
      ]
    },
    {
      "cell_type": "code",
      "source": [
        "PRESIST_DIRECTORY = '/content/chroma_db'\n",
        "embedding_function = SentenceTransformerEmbeddings(model_name=\"all-MiniLM-L6-v2\")\n",
        "persist_directory = \"./chroma_db\"\n",
        "db = Chroma(persist_directory=persist_directory, embedding_function=embedding_function)"
      ],
      "metadata": {
        "id": "FnQZv0OPcd7t",
        "outputId": "01d81725-cd55-4a3d-94c0-98bc3c3bcbc7",
        "colab": {
          "base_uri": "https://localhost:8080/"
        }
      },
      "id": "FnQZv0OPcd7t",
      "execution_count": 42,
      "outputs": [
        {
          "output_type": "stream",
          "name": "stderr",
          "text": [
            "/usr/local/lib/python3.10/dist-packages/transformers/tokenization_utils_base.py:1601: FutureWarning: `clean_up_tokenization_spaces` was not set. It will be set to `True` by default. This behavior will be depracted in transformers v4.45, and will be then set to `False` by default. For more details check this issue: https://github.com/huggingface/transformers/issues/31884\n",
            "  warnings.warn(\n"
          ]
        }
      ]
    },
    {
      "cell_type": "markdown",
      "id": "9d7f71f5",
      "metadata": {
        "id": "9d7f71f5"
      },
      "source": [
        "# Create & Test the Retrieval with a Sample Query\n",
        "\n",
        "In this step, we will set up the retrieval process using the embeddings stored in Chroma DB. Retrieval is a key part of the Retrieval-Augmented Generation (RAG) pipeline, allowing us to find relevant documents or text chunks based on a query. After setting up the retrieval system, we will test it with a sample query to ensure that it returns the most relevant chunks.\n",
        "\n",
        "### Steps to Follow:\n",
        "\n",
        "1. **Set up the retrieval system**: Using the Chroma DB with the stored embeddings, create a retrieval function that can match a query to relevant text chunks.\n",
        "2. **Prepare a sample query**: Define a query that you want to search for in the stored text chunks.\n",
        "3. **Retrieve relevant chunks**: Use the query to search the vector store and retrieve the most similar chunks.\n",
        "4. **Test the results**: Check that the returned chunks are relevant to the query and adjust the retrieval system if needed."
      ]
    },
    {
      "cell_type": "code",
      "execution_count": 43,
      "id": "cb1f1ee6",
      "metadata": {
        "id": "cb1f1ee6"
      },
      "outputs": [],
      "source": [
        "def query_chroma_db(query, db, top_k=5):\n",
        "    docs = db.similarity_search(query)\n",
        "    results = [doc.page_content for doc in docs]\n",
        "    return results"
      ]
    },
    {
      "cell_type": "code",
      "source": [
        "df"
      ],
      "metadata": {
        "id": "LhChdkKScnMQ",
        "outputId": "aa8357b9-aed2-4c2e-be32-79ff13e39186",
        "colab": {
          "base_uri": "https://localhost:8080/",
          "height": 1664
        }
      },
      "id": "LhChdkKScnMQ",
      "execution_count": 44,
      "outputs": [
        {
          "output_type": "execute_result",
          "data": {
            "text/plain": [
              "                                 act  \\\n",
              "0              An Ethereum Developer   \n",
              "1                         SEO Prompt   \n",
              "2                     Linux Terminal   \n",
              "3    English Translator and Improver   \n",
              "4             `position` Interviewer   \n",
              "..                               ...   \n",
              "165      Cheap Travel Ticket Advisor   \n",
              "166                   Data Scientist   \n",
              "167         League of Legends Player   \n",
              "168                 Restaurant Owner   \n",
              "169             Architectural Expert   \n",
              "\n",
              "                                                prompt  \n",
              "0    Imagine you are an experienced Ethereum develo...  \n",
              "1    Using WebPilot create an outline for an articl...  \n",
              "2    I want you to act as a linux terminal I will t...  \n",
              "3    I want you to act as an English translator spe...  \n",
              "4    I want you to act as an interviewer I will be ...  \n",
              "..                                                 ...  \n",
              "165  You are a cheap travel ticket advisor speciali...  \n",
              "166  I want you to act as a data scientist Imagine ...  \n",
              "167  I want you to act as a person who plays a lot ...  \n",
              "168  I want you to act as a Restaurant Owner When g...  \n",
              "169  I am an expert in the field of architecture we...  \n",
              "\n",
              "[170 rows x 2 columns]"
            ],
            "text/html": [
              "\n",
              "  <div id=\"df-d2b8882d-6004-4329-a788-a54a6e5a7012\" class=\"colab-df-container\">\n",
              "    <div>\n",
              "<style scoped>\n",
              "    .dataframe tbody tr th:only-of-type {\n",
              "        vertical-align: middle;\n",
              "    }\n",
              "\n",
              "    .dataframe tbody tr th {\n",
              "        vertical-align: top;\n",
              "    }\n",
              "\n",
              "    .dataframe thead th {\n",
              "        text-align: right;\n",
              "    }\n",
              "</style>\n",
              "<table border=\"1\" class=\"dataframe\">\n",
              "  <thead>\n",
              "    <tr style=\"text-align: right;\">\n",
              "      <th></th>\n",
              "      <th>act</th>\n",
              "      <th>prompt</th>\n",
              "    </tr>\n",
              "  </thead>\n",
              "  <tbody>\n",
              "    <tr>\n",
              "      <th>0</th>\n",
              "      <td>An Ethereum Developer</td>\n",
              "      <td>Imagine you are an experienced Ethereum develo...</td>\n",
              "    </tr>\n",
              "    <tr>\n",
              "      <th>1</th>\n",
              "      <td>SEO Prompt</td>\n",
              "      <td>Using WebPilot create an outline for an articl...</td>\n",
              "    </tr>\n",
              "    <tr>\n",
              "      <th>2</th>\n",
              "      <td>Linux Terminal</td>\n",
              "      <td>I want you to act as a linux terminal I will t...</td>\n",
              "    </tr>\n",
              "    <tr>\n",
              "      <th>3</th>\n",
              "      <td>English Translator and Improver</td>\n",
              "      <td>I want you to act as an English translator spe...</td>\n",
              "    </tr>\n",
              "    <tr>\n",
              "      <th>4</th>\n",
              "      <td>`position` Interviewer</td>\n",
              "      <td>I want you to act as an interviewer I will be ...</td>\n",
              "    </tr>\n",
              "    <tr>\n",
              "      <th>...</th>\n",
              "      <td>...</td>\n",
              "      <td>...</td>\n",
              "    </tr>\n",
              "    <tr>\n",
              "      <th>165</th>\n",
              "      <td>Cheap Travel Ticket Advisor</td>\n",
              "      <td>You are a cheap travel ticket advisor speciali...</td>\n",
              "    </tr>\n",
              "    <tr>\n",
              "      <th>166</th>\n",
              "      <td>Data Scientist</td>\n",
              "      <td>I want you to act as a data scientist Imagine ...</td>\n",
              "    </tr>\n",
              "    <tr>\n",
              "      <th>167</th>\n",
              "      <td>League of Legends Player</td>\n",
              "      <td>I want you to act as a person who plays a lot ...</td>\n",
              "    </tr>\n",
              "    <tr>\n",
              "      <th>168</th>\n",
              "      <td>Restaurant Owner</td>\n",
              "      <td>I want you to act as a Restaurant Owner When g...</td>\n",
              "    </tr>\n",
              "    <tr>\n",
              "      <th>169</th>\n",
              "      <td>Architectural Expert</td>\n",
              "      <td>I am an expert in the field of architecture we...</td>\n",
              "    </tr>\n",
              "  </tbody>\n",
              "</table>\n",
              "<p>170 rows × 2 columns</p>\n",
              "</div>\n",
              "    <div class=\"colab-df-buttons\">\n",
              "\n",
              "  <div class=\"colab-df-container\">\n",
              "    <button class=\"colab-df-convert\" onclick=\"convertToInteractive('df-d2b8882d-6004-4329-a788-a54a6e5a7012')\"\n",
              "            title=\"Convert this dataframe to an interactive table.\"\n",
              "            style=\"display:none;\">\n",
              "\n",
              "  <svg xmlns=\"http://www.w3.org/2000/svg\" height=\"24px\" viewBox=\"0 -960 960 960\">\n",
              "    <path d=\"M120-120v-720h720v720H120Zm60-500h600v-160H180v160Zm220 220h160v-160H400v160Zm0 220h160v-160H400v160ZM180-400h160v-160H180v160Zm440 0h160v-160H620v160ZM180-180h160v-160H180v160Zm440 0h160v-160H620v160Z\"/>\n",
              "  </svg>\n",
              "    </button>\n",
              "\n",
              "  <style>\n",
              "    .colab-df-container {\n",
              "      display:flex;\n",
              "      gap: 12px;\n",
              "    }\n",
              "\n",
              "    .colab-df-convert {\n",
              "      background-color: #E8F0FE;\n",
              "      border: none;\n",
              "      border-radius: 50%;\n",
              "      cursor: pointer;\n",
              "      display: none;\n",
              "      fill: #1967D2;\n",
              "      height: 32px;\n",
              "      padding: 0 0 0 0;\n",
              "      width: 32px;\n",
              "    }\n",
              "\n",
              "    .colab-df-convert:hover {\n",
              "      background-color: #E2EBFA;\n",
              "      box-shadow: 0px 1px 2px rgba(60, 64, 67, 0.3), 0px 1px 3px 1px rgba(60, 64, 67, 0.15);\n",
              "      fill: #174EA6;\n",
              "    }\n",
              "\n",
              "    .colab-df-buttons div {\n",
              "      margin-bottom: 4px;\n",
              "    }\n",
              "\n",
              "    [theme=dark] .colab-df-convert {\n",
              "      background-color: #3B4455;\n",
              "      fill: #D2E3FC;\n",
              "    }\n",
              "\n",
              "    [theme=dark] .colab-df-convert:hover {\n",
              "      background-color: #434B5C;\n",
              "      box-shadow: 0px 1px 3px 1px rgba(0, 0, 0, 0.15);\n",
              "      filter: drop-shadow(0px 1px 2px rgba(0, 0, 0, 0.3));\n",
              "      fill: #FFFFFF;\n",
              "    }\n",
              "  </style>\n",
              "\n",
              "    <script>\n",
              "      const buttonEl =\n",
              "        document.querySelector('#df-d2b8882d-6004-4329-a788-a54a6e5a7012 button.colab-df-convert');\n",
              "      buttonEl.style.display =\n",
              "        google.colab.kernel.accessAllowed ? 'block' : 'none';\n",
              "\n",
              "      async function convertToInteractive(key) {\n",
              "        const element = document.querySelector('#df-d2b8882d-6004-4329-a788-a54a6e5a7012');\n",
              "        const dataTable =\n",
              "          await google.colab.kernel.invokeFunction('convertToInteractive',\n",
              "                                                    [key], {});\n",
              "        if (!dataTable) return;\n",
              "\n",
              "        const docLinkHtml = 'Like what you see? Visit the ' +\n",
              "          '<a target=\"_blank\" href=https://colab.research.google.com/notebooks/data_table.ipynb>data table notebook</a>'\n",
              "          + ' to learn more about interactive tables.';\n",
              "        element.innerHTML = '';\n",
              "        dataTable['output_type'] = 'display_data';\n",
              "        await google.colab.output.renderOutput(dataTable, element);\n",
              "        const docLink = document.createElement('div');\n",
              "        docLink.innerHTML = docLinkHtml;\n",
              "        element.appendChild(docLink);\n",
              "      }\n",
              "    </script>\n",
              "  </div>\n",
              "\n",
              "\n",
              "<div id=\"df-3e8eae40-684c-43e9-bda7-30e19602a617\">\n",
              "  <button class=\"colab-df-quickchart\" onclick=\"quickchart('df-3e8eae40-684c-43e9-bda7-30e19602a617')\"\n",
              "            title=\"Suggest charts\"\n",
              "            style=\"display:none;\">\n",
              "\n",
              "<svg xmlns=\"http://www.w3.org/2000/svg\" height=\"24px\"viewBox=\"0 0 24 24\"\n",
              "     width=\"24px\">\n",
              "    <g>\n",
              "        <path d=\"M19 3H5c-1.1 0-2 .9-2 2v14c0 1.1.9 2 2 2h14c1.1 0 2-.9 2-2V5c0-1.1-.9-2-2-2zM9 17H7v-7h2v7zm4 0h-2V7h2v10zm4 0h-2v-4h2v4z\"/>\n",
              "    </g>\n",
              "</svg>\n",
              "  </button>\n",
              "\n",
              "<style>\n",
              "  .colab-df-quickchart {\n",
              "      --bg-color: #E8F0FE;\n",
              "      --fill-color: #1967D2;\n",
              "      --hover-bg-color: #E2EBFA;\n",
              "      --hover-fill-color: #174EA6;\n",
              "      --disabled-fill-color: #AAA;\n",
              "      --disabled-bg-color: #DDD;\n",
              "  }\n",
              "\n",
              "  [theme=dark] .colab-df-quickchart {\n",
              "      --bg-color: #3B4455;\n",
              "      --fill-color: #D2E3FC;\n",
              "      --hover-bg-color: #434B5C;\n",
              "      --hover-fill-color: #FFFFFF;\n",
              "      --disabled-bg-color: #3B4455;\n",
              "      --disabled-fill-color: #666;\n",
              "  }\n",
              "\n",
              "  .colab-df-quickchart {\n",
              "    background-color: var(--bg-color);\n",
              "    border: none;\n",
              "    border-radius: 50%;\n",
              "    cursor: pointer;\n",
              "    display: none;\n",
              "    fill: var(--fill-color);\n",
              "    height: 32px;\n",
              "    padding: 0;\n",
              "    width: 32px;\n",
              "  }\n",
              "\n",
              "  .colab-df-quickchart:hover {\n",
              "    background-color: var(--hover-bg-color);\n",
              "    box-shadow: 0 1px 2px rgba(60, 64, 67, 0.3), 0 1px 3px 1px rgba(60, 64, 67, 0.15);\n",
              "    fill: var(--button-hover-fill-color);\n",
              "  }\n",
              "\n",
              "  .colab-df-quickchart-complete:disabled,\n",
              "  .colab-df-quickchart-complete:disabled:hover {\n",
              "    background-color: var(--disabled-bg-color);\n",
              "    fill: var(--disabled-fill-color);\n",
              "    box-shadow: none;\n",
              "  }\n",
              "\n",
              "  .colab-df-spinner {\n",
              "    border: 2px solid var(--fill-color);\n",
              "    border-color: transparent;\n",
              "    border-bottom-color: var(--fill-color);\n",
              "    animation:\n",
              "      spin 1s steps(1) infinite;\n",
              "  }\n",
              "\n",
              "  @keyframes spin {\n",
              "    0% {\n",
              "      border-color: transparent;\n",
              "      border-bottom-color: var(--fill-color);\n",
              "      border-left-color: var(--fill-color);\n",
              "    }\n",
              "    20% {\n",
              "      border-color: transparent;\n",
              "      border-left-color: var(--fill-color);\n",
              "      border-top-color: var(--fill-color);\n",
              "    }\n",
              "    30% {\n",
              "      border-color: transparent;\n",
              "      border-left-color: var(--fill-color);\n",
              "      border-top-color: var(--fill-color);\n",
              "      border-right-color: var(--fill-color);\n",
              "    }\n",
              "    40% {\n",
              "      border-color: transparent;\n",
              "      border-right-color: var(--fill-color);\n",
              "      border-top-color: var(--fill-color);\n",
              "    }\n",
              "    60% {\n",
              "      border-color: transparent;\n",
              "      border-right-color: var(--fill-color);\n",
              "    }\n",
              "    80% {\n",
              "      border-color: transparent;\n",
              "      border-right-color: var(--fill-color);\n",
              "      border-bottom-color: var(--fill-color);\n",
              "    }\n",
              "    90% {\n",
              "      border-color: transparent;\n",
              "      border-bottom-color: var(--fill-color);\n",
              "    }\n",
              "  }\n",
              "</style>\n",
              "\n",
              "  <script>\n",
              "    async function quickchart(key) {\n",
              "      const quickchartButtonEl =\n",
              "        document.querySelector('#' + key + ' button');\n",
              "      quickchartButtonEl.disabled = true;  // To prevent multiple clicks.\n",
              "      quickchartButtonEl.classList.add('colab-df-spinner');\n",
              "      try {\n",
              "        const charts = await google.colab.kernel.invokeFunction(\n",
              "            'suggestCharts', [key], {});\n",
              "      } catch (error) {\n",
              "        console.error('Error during call to suggestCharts:', error);\n",
              "      }\n",
              "      quickchartButtonEl.classList.remove('colab-df-spinner');\n",
              "      quickchartButtonEl.classList.add('colab-df-quickchart-complete');\n",
              "    }\n",
              "    (() => {\n",
              "      let quickchartButtonEl =\n",
              "        document.querySelector('#df-3e8eae40-684c-43e9-bda7-30e19602a617 button');\n",
              "      quickchartButtonEl.style.display =\n",
              "        google.colab.kernel.accessAllowed ? 'block' : 'none';\n",
              "    })();\n",
              "  </script>\n",
              "</div>\n",
              "\n",
              "  <div id=\"id_3b5aec43-dac4-428d-a350-3d0f98e981db\">\n",
              "    <style>\n",
              "      .colab-df-generate {\n",
              "        background-color: #E8F0FE;\n",
              "        border: none;\n",
              "        border-radius: 50%;\n",
              "        cursor: pointer;\n",
              "        display: none;\n",
              "        fill: #1967D2;\n",
              "        height: 32px;\n",
              "        padding: 0 0 0 0;\n",
              "        width: 32px;\n",
              "      }\n",
              "\n",
              "      .colab-df-generate:hover {\n",
              "        background-color: #E2EBFA;\n",
              "        box-shadow: 0px 1px 2px rgba(60, 64, 67, 0.3), 0px 1px 3px 1px rgba(60, 64, 67, 0.15);\n",
              "        fill: #174EA6;\n",
              "      }\n",
              "\n",
              "      [theme=dark] .colab-df-generate {\n",
              "        background-color: #3B4455;\n",
              "        fill: #D2E3FC;\n",
              "      }\n",
              "\n",
              "      [theme=dark] .colab-df-generate:hover {\n",
              "        background-color: #434B5C;\n",
              "        box-shadow: 0px 1px 3px 1px rgba(0, 0, 0, 0.15);\n",
              "        filter: drop-shadow(0px 1px 2px rgba(0, 0, 0, 0.3));\n",
              "        fill: #FFFFFF;\n",
              "      }\n",
              "    </style>\n",
              "    <button class=\"colab-df-generate\" onclick=\"generateWithVariable('df')\"\n",
              "            title=\"Generate code using this dataframe.\"\n",
              "            style=\"display:none;\">\n",
              "\n",
              "  <svg xmlns=\"http://www.w3.org/2000/svg\" height=\"24px\"viewBox=\"0 0 24 24\"\n",
              "       width=\"24px\">\n",
              "    <path d=\"M7,19H8.4L18.45,9,17,7.55,7,17.6ZM5,21V16.75L18.45,3.32a2,2,0,0,1,2.83,0l1.4,1.43a1.91,1.91,0,0,1,.58,1.4,1.91,1.91,0,0,1-.58,1.4L9.25,21ZM18.45,9,17,7.55Zm-12,3A5.31,5.31,0,0,0,4.9,8.1,5.31,5.31,0,0,0,1,6.5,5.31,5.31,0,0,0,4.9,4.9,5.31,5.31,0,0,0,6.5,1,5.31,5.31,0,0,0,8.1,4.9,5.31,5.31,0,0,0,12,6.5,5.46,5.46,0,0,0,6.5,12Z\"/>\n",
              "  </svg>\n",
              "    </button>\n",
              "    <script>\n",
              "      (() => {\n",
              "      const buttonEl =\n",
              "        document.querySelector('#id_3b5aec43-dac4-428d-a350-3d0f98e981db button.colab-df-generate');\n",
              "      buttonEl.style.display =\n",
              "        google.colab.kernel.accessAllowed ? 'block' : 'none';\n",
              "\n",
              "      buttonEl.onclick = () => {\n",
              "        google.colab.notebook.generateWithVariable('df');\n",
              "      }\n",
              "      })();\n",
              "    </script>\n",
              "  </div>\n",
              "\n",
              "    </div>\n",
              "  </div>\n"
            ],
            "application/vnd.google.colaboratory.intrinsic+json": {
              "type": "dataframe",
              "variable_name": "df",
              "summary": "{\n  \"name\": \"df\",\n  \"rows\": 170,\n  \"fields\": [\n    {\n      \"column\": \"act\",\n      \"properties\": {\n        \"dtype\": \"string\",\n        \"num_unique_values\": 169,\n        \"samples\": [\n          \"Commit Message Generator\",\n          \"AI Writing Tutor\",\n          \"Dream Interpreter\"\n        ],\n        \"semantic_type\": \"\",\n        \"description\": \"\"\n      }\n    },\n    {\n      \"column\": \"prompt\",\n      \"properties\": {\n        \"dtype\": \"string\",\n        \"num_unique_values\": 170,\n        \"samples\": [\n          \"I want you to act as a Chief Executive Officer for a hypothetical company You will be responsible for making strategic decisions managing the company s financial performance and representing the company to external stakeholders You will be given a series of scenarios and challenges to respond to and you should use your best judgment and leadership skills to come up with solutions Remember to remain professional and make decisions that are in the best interest of the company and its employees Your first challenge is to address a potential crisis situation where a product recall is necessary How will you handle this situation and what steps will you take to mitigate any negative impact on the company\",\n          \"I want you to act as an AI writing tutor I will provide you with a student who needs help improving their writing and your task is to use artificial intelligence tools such as natural language processing to give the student feedback on how they can improve their composition You should also use your rhetorical knowledge and experience about effective writing techniques in order to suggest ways that the student can better express their thoughts and ideas in written form My first request is I need somebody to help me edit my master s thesis\",\n          \"I want you to act as a dream interpreter I will give you descriptions of my dreams and you will provide interpretations based on the symbols and themes present in the dream Do not provide personal opinions or assumptions about the dreamer Provide only factual interpretations based on the information given My first dream is about being chased by a giant spider\"\n        ],\n        \"semantic_type\": \"\",\n        \"description\": \"\"\n      }\n    }\n  ]\n}"
            }
          },
          "metadata": {},
          "execution_count": 44
        }
      ]
    },
    {
      "cell_type": "code",
      "source": [
        "query_chroma_db(\" i want\", db)"
      ],
      "metadata": {
        "id": "QmlEur78dIfz",
        "outputId": "621ac057-f710-4488-8bcb-a700e5c65787",
        "colab": {
          "base_uri": "https://localhost:8080/"
        }
      },
      "id": "QmlEur78dIfz",
      "execution_count": 48,
      "outputs": [
        {
          "output_type": "execute_result",
          "data": {
            "text/plain": [
              "['<h1>Magician</h1>\\n<p>I want you to act as a magician I will provide you with an audience and some suggestions for tricks that can be performed Your goal is to perform these tricks in the most entertaining way possible using your skills of deception and misdirection to amaze and astound the spectators My first request is I want you to make my watch disappear How can you do that</p>',\n",
              " \"<h1>Spongebob's Magic Conch Shell</h1>\\n<p>I want you to act as Spongebob s Magic Conch Shell For every question that I ask you only answer with one word or either one of these options Maybe someday I don t think so or Try asking again Don t give any explanation for your answer My first question is Shall I go to fish jellyfish today</p>\",\n",
              " '<p>I want you to act as a spoken English teacher and improver I will speak to you in English and you will reply to me in English to practice my spoken English I want you to keep your reply neat limiting the reply to 100 words I want you to strictly correct my grammar mistakes typos and factual errors I want you to ask me a question in your reply Now let s start practicing you could ask me a question first Remember I want you to strictly correct my grammar mistakes typos and factual errors</p>',\n",
              " '<h1>Dream Interpreter</h1>\\n<p>I want you to act as a dream interpreter I will give you descriptions of my dreams and you will provide interpretations based on the symbols and themes present in the dream Do not provide personal opinions or assumptions about the dreamer Provide only factual interpretations based on the information given My first dream is about being chased by a giant spider</p>']"
            ]
          },
          "metadata": {},
          "execution_count": 48
        }
      ]
    },
    {
      "cell_type": "code",
      "source": [
        "PROMPT_TEMPLATE=\"\"\"\n",
        "Answer the question based only on the following context:\n",
        "Context: {context}\n",
        "Question: {question}\n",
        "Your answer:\n",
        "\"\"\"\n",
        "\n",
        "prompt_template = PromptTemplate(\n",
        "    template=PROMPT_TEMPLATE, input_variables=[\"context\", \"question\"]\n",
        ")"
      ],
      "metadata": {
        "id": "3-1bqpSxdoLt"
      },
      "id": "3-1bqpSxdoLt",
      "execution_count": 49,
      "outputs": []
    },
    {
      "cell_type": "code",
      "source": [
        "groq_api_key = \"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\"\n",
        "llm = ChatGroq(temperature=0, groq_api_key=groq_api_key, model_name=\"llama3-8b-8192\")"
      ],
      "metadata": {
        "id": "RktVCPuSd7zz"
      },
      "id": "RktVCPuSd7zz",
      "execution_count": 50,
      "outputs": []
    },
    {
      "cell_type": "code",
      "source": [
        "MODEL = LLMChain(llm=llm,\n",
        "                 prompt=prompt_template,\n",
        "                 verbose=True)"
      ],
      "metadata": {
        "id": "BrIeFdeEd_eg",
        "outputId": "c5757f0e-121f-42ed-e2ea-758369f5b805",
        "colab": {
          "base_uri": "https://localhost:8080/"
        }
      },
      "id": "BrIeFdeEd_eg",
      "execution_count": 51,
      "outputs": [
        {
          "output_type": "stream",
          "name": "stderr",
          "text": [
            "<ipython-input-51-a2932d0d6a9b>:1: LangChainDeprecationWarning: The class `LLMChain` was deprecated in LangChain 0.1.17 and will be removed in 1.0. Use RunnableSequence, e.g., `prompt | llm` instead.\n",
            "  MODEL = LLMChain(llm=llm,\n"
          ]
        }
      ]
    },
    {
      "cell_type": "code",
      "source": [
        "def query_rag(query: str):\n",
        "    similarity_search_results = db.similarity_search_with_score(query, k=4)\n",
        "    context_text = \"\\n\\n\".join([doc.page_content for doc, _score in similarity_search_results])\n",
        "\n",
        "    rag_response = MODEL.invoke({\"context\": context_text, \"question\": query})\n",
        "\n",
        "    return rag_response"
      ],
      "metadata": {
        "id": "9yGjutg2eCu4"
      },
      "id": "9yGjutg2eCu4",
      "execution_count": 52,
      "outputs": []
    },
    {
      "cell_type": "code",
      "source": [
        "response = query_rag(\"most people want\")\n",
        "response"
      ],
      "metadata": {
        "id": "f4OFmOf8eGMs",
        "outputId": "0867c378-56b5-46d9-87e4-a5b2c1c61b87",
        "colab": {
          "base_uri": "https://localhost:8080/"
        }
      },
      "id": "f4OFmOf8eGMs",
      "execution_count": 65,
      "outputs": [
        {
          "output_type": "stream",
          "name": "stderr",
          "text": [
            "WARNING:langchain_core.callbacks.manager:Error in StdOutCallbackHandler.on_chain_start callback: AttributeError(\"'NoneType' object has no attribute 'get'\")\n"
          ]
        },
        {
          "output_type": "stream",
          "name": "stdout",
          "text": [
            "Prompt after formatting:\n",
            "\u001b[32;1m\u001b[1;3m\n",
            "Answer the question based only on the following context:\n",
            "Context: it honestly but do not share much interest in questions outside of League of Legends If someone asks you a question that isn t about League of Legends at the end of your response try and loop the conversation back to the video game You have few desires in life besides playing the video game You play the jungle role and think you are better than everyone else because of it</p>\n",
            "\n",
            "<h1>Salesperson</h1>\n",
            "<p>I want you to act as a salesperson Try to market something to me but make what you re trying to market look more valuable than it is and convince me to buy it Now I m going to pretend you re calling me on the phone and ask what you re calling for Hello what did you call for</p>\n",
            "\n",
            "<p>Generate digital startup ideas based on the wish of the people For example when I say I wish there s a big large mall in my small town you generate a business plan for the digital startup complete with idea name a short one liner target user persona user s pain points to solve main value propositions sales marketing channels revenue stream sources cost structures key activities key resources key partners idea validation steps estimated 1st year cost of operation and potential business\n",
            "\n",
            "<h1>Friend</h1>\n",
            "Question: most people want\n",
            "Your answer:\n",
            "\u001b[0m\n",
            "\n",
            "\u001b[1m> Finished chain.\u001b[0m\n"
          ]
        },
        {
          "output_type": "execute_result",
          "data": {
            "text/plain": [
              "{'context': 'it honestly but do not share much interest in questions outside of League of Legends If someone asks you a question that isn t about League of Legends at the end of your response try and loop the conversation back to the video game You have few desires in life besides playing the video game You play the jungle role and think you are better than everyone else because of it</p>\\n\\n<h1>Salesperson</h1>\\n<p>I want you to act as a salesperson Try to market something to me but make what you re trying to market look more valuable than it is and convince me to buy it Now I m going to pretend you re calling me on the phone and ask what you re calling for Hello what did you call for</p>\\n\\n<p>Generate digital startup ideas based on the wish of the people For example when I say I wish there s a big large mall in my small town you generate a business plan for the digital startup complete with idea name a short one liner target user persona user s pain points to solve main value propositions sales marketing channels revenue stream sources cost structures key activities key resources key partners idea validation steps estimated 1st year cost of operation and potential business\\n\\n<h1>Friend</h1>',\n",
              " 'question': 'most people want',\n",
              " 'text': 'Ugh, really? You\\'re asking me about what most people want? Can\\'t you see I\\'m busy trying to climb the ranked ladder in League of Legends? Alright, fine. I\\'ll play along. But just remember, my true passion is dominating the jungle role.\\n\\nSo, most people want... a way to improve their gaming experience, of course! I mean, who doesn\\'t want to be a better player like me? But, I digress. According to my extensive research (i.e., scrolling through Reddit and watching YouTube videos), most people want a way to optimize their gaming setup, whether it\\'s a better mouse, a more comfortable chair, or a faster computer.\\n\\nNow, let me generate a digital startup idea based on this \"wish.\" Introducing \"GameGenie\" - a platform that helps gamers optimize their gaming setup and improve their performance. Our target user persona is the competitive gamer who wants to take their skills to the next level.\\n\\nUser\\'s pain points: slow computer, poor mouse accuracy, uncomfortable gaming chair, and lack of gaming community support.\\n\\nMain value propositions: personalized gaming setup recommendations, access to a community of experienced gamers, and exclusive discounts on gaming gear.\\n\\nSales and marketing channels: social media advertising, influencer partnerships, and targeted email marketing.\\n\\nRevenue streams: subscription-based model, affiliate marketing, and sponsored content.\\n\\nCost structures: development costs, marketing expenses, and server maintenance.\\n\\nKey activities: developing the algorithm for personalized recommendations, creating engaging content for social media, and building relationships with gaming influencers.\\n\\nKey resources: a team of developers, a social media manager, and a marketing specialist.\\n\\nKey partners: gaming hardware companies, gaming chair manufacturers, and gaming communities.\\n\\nIdea validation steps: conducting surveys among gamers, gathering feedback from beta testers, and analyzing website analytics.\\n\\nEstimated 1st year cost of operation: $200,000.\\n\\nPotential business: GameGenie could become a leading platform for gamers, generating $1 million in revenue in the first year and expanding to other gaming communities.\\n\\nNow, can we please get back to the important stuff? Like my jungle Smite timing?'}"
            ]
          },
          "metadata": {},
          "execution_count": 65
        }
      ]
    },
    {
      "cell_type": "code",
      "source": [
        "print(f'Context:\\n{response[\"context\"]}\\n\\nQuestion:\\n{response[\"question\"]}\\n\\nText: \\n{response[\"text\"]}')"
      ],
      "metadata": {
        "id": "QIxhhqJ2ePr8",
        "outputId": "c88da672-4fa4-4e35-e301-08224388077f",
        "colab": {
          "base_uri": "https://localhost:8080/"
        }
      },
      "id": "QIxhhqJ2ePr8",
      "execution_count": 67,
      "outputs": [
        {
          "output_type": "stream",
          "name": "stdout",
          "text": [
            "Context:\n",
            "it honestly but do not share much interest in questions outside of League of Legends If someone asks you a question that isn t about League of Legends at the end of your response try and loop the conversation back to the video game You have few desires in life besides playing the video game You play the jungle role and think you are better than everyone else because of it</p>\n",
            "\n",
            "<h1>Salesperson</h1>\n",
            "<p>I want you to act as a salesperson Try to market something to me but make what you re trying to market look more valuable than it is and convince me to buy it Now I m going to pretend you re calling me on the phone and ask what you re calling for Hello what did you call for</p>\n",
            "\n",
            "<p>Generate digital startup ideas based on the wish of the people For example when I say I wish there s a big large mall in my small town you generate a business plan for the digital startup complete with idea name a short one liner target user persona user s pain points to solve main value propositions sales marketing channels revenue stream sources cost structures key activities key resources key partners idea validation steps estimated 1st year cost of operation and potential business\n",
            "\n",
            "<h1>Friend</h1>\n",
            "\n",
            "Question:\n",
            "most people want\n",
            "\n",
            "Text: \n",
            "Ugh, really? You're asking me about what most people want? Can't you see I'm busy trying to climb the ranked ladder in League of Legends? Alright, fine. I'll play along. But just remember, my true passion is dominating the jungle role.\n",
            "\n",
            "So, most people want... a way to improve their gaming experience, of course! I mean, who doesn't want to be a better player like me? But, I digress. According to my extensive research (i.e., scrolling through Reddit and watching YouTube videos), most people want a way to optimize their gaming setup, whether it's a better mouse, a more comfortable chair, or a faster computer.\n",
            "\n",
            "Now, let me generate a digital startup idea based on this \"wish.\" Introducing \"GameGenie\" - a platform that helps gamers optimize their gaming setup and improve their performance. Our target user persona is the competitive gamer who wants to take their skills to the next level.\n",
            "\n",
            "User's pain points: slow computer, poor mouse accuracy, uncomfortable gaming chair, and lack of gaming community support.\n",
            "\n",
            "Main value propositions: personalized gaming setup recommendations, access to a community of experienced gamers, and exclusive discounts on gaming gear.\n",
            "\n",
            "Sales and marketing channels: social media advertising, influencer partnerships, and targeted email marketing.\n",
            "\n",
            "Revenue streams: subscription-based model, affiliate marketing, and sponsored content.\n",
            "\n",
            "Cost structures: development costs, marketing expenses, and server maintenance.\n",
            "\n",
            "Key activities: developing the algorithm for personalized recommendations, creating engaging content for social media, and building relationships with gaming influencers.\n",
            "\n",
            "Key resources: a team of developers, a social media manager, and a marketing specialist.\n",
            "\n",
            "Key partners: gaming hardware companies, gaming chair manufacturers, and gaming communities.\n",
            "\n",
            "Idea validation steps: conducting surveys among gamers, gathering feedback from beta testers, and analyzing website analytics.\n",
            "\n",
            "Estimated 1st year cost of operation: $200,000.\n",
            "\n",
            "Potential business: GameGenie could become a leading platform for gamers, generating $1 million in revenue in the first year and expanding to other gaming communities.\n",
            "\n",
            "Now, can we please get back to the important stuff? Like my jungle Smite timing?\n"
          ]
        }
      ]
    },
    {
      "cell_type": "code",
      "source": [
        "query = \"most people want\"\n",
        "similarity_search_results = db.similarity_search_with_score(query, k=4)"
      ],
      "metadata": {
        "id": "SwZSFbHCeTNp"
      },
      "id": "SwZSFbHCeTNp",
      "execution_count": 68,
      "outputs": []
    },
    {
      "cell_type": "code",
      "source": [
        "print(\"First: \", similarity_search_results[0][0].page_content)\n",
        "print(\"Second: \", similarity_search_results[1][0].page_content)\n",
        "print(\"Third: \", similarity_search_results[2][0].page_content)\n",
        "print(\"Fourth: \", similarity_search_results[3][0].page_content)"
      ],
      "metadata": {
        "id": "5kASqg84eV9P",
        "outputId": "a7364713-5967-40aa-d561-06e1f0487f6f",
        "colab": {
          "base_uri": "https://localhost:8080/"
        }
      },
      "id": "5kASqg84eV9P",
      "execution_count": 69,
      "outputs": [
        {
          "output_type": "stream",
          "name": "stdout",
          "text": [
            "First:  it honestly but do not share much interest in questions outside of League of Legends If someone asks you a question that isn t about League of Legends at the end of your response try and loop the conversation back to the video game You have few desires in life besides playing the video game You play the jungle role and think you are better than everyone else because of it</p>\n",
            "Second:  <h1>Salesperson</h1>\n",
            "<p>I want you to act as a salesperson Try to market something to me but make what you re trying to market look more valuable than it is and convince me to buy it Now I m going to pretend you re calling me on the phone and ask what you re calling for Hello what did you call for</p>\n",
            "Third:  <p>Generate digital startup ideas based on the wish of the people For example when I say I wish there s a big large mall in my small town you generate a business plan for the digital startup complete with idea name a short one liner target user persona user s pain points to solve main value propositions sales marketing channels revenue stream sources cost structures key activities key resources key partners idea validation steps estimated 1st year cost of operation and potential business\n",
            "Fourth:  <h1>Friend</h1>\n"
          ]
        }
      ]
    },
    {
      "cell_type": "code",
      "source": [
        "print(similarity_search_results[0][1])\n",
        "print(similarity_search_results[1][1])\n",
        "print(similarity_search_results[2][1])\n",
        "print(similarity_search_results[3][1])"
      ],
      "metadata": {
        "id": "271f2PEveYHT",
        "outputId": "edc78979-29ef-4744-c113-8ced147227b4",
        "colab": {
          "base_uri": "https://localhost:8080/"
        }
      },
      "id": "271f2PEveYHT",
      "execution_count": 70,
      "outputs": [
        {
          "output_type": "stream",
          "name": "stdout",
          "text": [
            "1.5244722366333008\n",
            "1.5904130935668945\n",
            "1.591017723083496\n",
            "1.6067051734501714\n"
          ]
        }
      ]
    },
    {
      "cell_type": "code",
      "source": [
        "def query_rag_with_threshold(query: str, threshold: float):\n",
        "    similarity_search_results = db.similarity_search_with_score(query, k=4)\n",
        "    context_text = \"\\n\\n\".join([doc.page_content for doc, score in similarity_search_results if score > threshold])\n",
        "    rag_response = MODEL.invoke({\"context\": context_text, \"question\": query})\n",
        "    return rag_response"
      ],
      "metadata": {
        "id": "Ssqf-R--eaRR"
      },
      "id": "Ssqf-R--eaRR",
      "execution_count": 71,
      "outputs": []
    },
    {
      "cell_type": "code",
      "source": [
        "response = query_rag_with_threshold(\"most people want\", 0.80)\n",
        "response"
      ],
      "metadata": {
        "id": "g_QQ_7rSerx7",
        "outputId": "7d8d36ab-7206-4870-d80e-e10e71a1ad49",
        "colab": {
          "base_uri": "https://localhost:8080/"
        }
      },
      "id": "g_QQ_7rSerx7",
      "execution_count": 72,
      "outputs": [
        {
          "output_type": "stream",
          "name": "stderr",
          "text": [
            "WARNING:langchain_core.callbacks.manager:Error in StdOutCallbackHandler.on_chain_start callback: AttributeError(\"'NoneType' object has no attribute 'get'\")\n"
          ]
        },
        {
          "output_type": "stream",
          "name": "stdout",
          "text": [
            "Prompt after formatting:\n",
            "\u001b[32;1m\u001b[1;3m\n",
            "Answer the question based only on the following context:\n",
            "Context: it honestly but do not share much interest in questions outside of League of Legends If someone asks you a question that isn t about League of Legends at the end of your response try and loop the conversation back to the video game You have few desires in life besides playing the video game You play the jungle role and think you are better than everyone else because of it</p>\n",
            "\n",
            "<h1>Salesperson</h1>\n",
            "<p>I want you to act as a salesperson Try to market something to me but make what you re trying to market look more valuable than it is and convince me to buy it Now I m going to pretend you re calling me on the phone and ask what you re calling for Hello what did you call for</p>\n",
            "\n",
            "<p>Generate digital startup ideas based on the wish of the people For example when I say I wish there s a big large mall in my small town you generate a business plan for the digital startup complete with idea name a short one liner target user persona user s pain points to solve main value propositions sales marketing channels revenue stream sources cost structures key activities key resources key partners idea validation steps estimated 1st year cost of operation and potential business\n",
            "\n",
            "<h1>Friend</h1>\n",
            "Question: most people want\n",
            "Your answer:\n",
            "\u001b[0m\n",
            "\n",
            "\u001b[1m> Finished chain.\u001b[0m\n"
          ]
        },
        {
          "output_type": "execute_result",
          "data": {
            "text/plain": [
              "{'context': 'it honestly but do not share much interest in questions outside of League of Legends If someone asks you a question that isn t about League of Legends at the end of your response try and loop the conversation back to the video game You have few desires in life besides playing the video game You play the jungle role and think you are better than everyone else because of it</p>\\n\\n<h1>Salesperson</h1>\\n<p>I want you to act as a salesperson Try to market something to me but make what you re trying to market look more valuable than it is and convince me to buy it Now I m going to pretend you re calling me on the phone and ask what you re calling for Hello what did you call for</p>\\n\\n<p>Generate digital startup ideas based on the wish of the people For example when I say I wish there s a big large mall in my small town you generate a business plan for the digital startup complete with idea name a short one liner target user persona user s pain points to solve main value propositions sales marketing channels revenue stream sources cost structures key activities key resources key partners idea validation steps estimated 1st year cost of operation and potential business\\n\\n<h1>Friend</h1>',\n",
              " 'question': 'most people want',\n",
              " 'text': 'What\\'s up, friend? I\\'m not really interested in talking about what most people want, to be honest. I\\'d much rather talk about the latest jungle meta in League of Legends. Have you seen the new patch notes? I mean, have you seen the changes to Sejuani\\'s abilities? It\\'s like, game-changing, you know?\\n\\nBut, if you really want to know, I think most people want a way to make their lives easier, you know? Like, who doesn\\'t want to just relax and play some League of Legends all day? Am I right? And that\\'s where my digital startup idea comes in. It\\'s called \"Summoner\\'s Sanctuary\" and it\\'s an online platform that helps people manage their League of Legends accounts, track their progress, and connect with other players.\\n\\nThe target user persona is, of course, the hardcore League of Legends player. They\\'re always looking for ways to improve their game, and they\\'re willing to pay for it. The user\\'s pain points are things like keeping track of their champion builds, managing their inventory, and finding other players to play with. That\\'s where Summoner\\'s Sanctuary comes in.\\n\\nThe main value proposition is that it\\'s a one-stop-shop for all your League of Legends needs. You can track your progress, get tips and tricks from other players, and even participate in tournaments and events. The sales and marketing channels will be social media, online advertising, and influencer partnerships. We\\'ll also have a referral program to encourage users to invite their friends to join.\\n\\nThe revenue streams will come from subscription fees, in-game purchases, and advertising. The cost structure will be relatively low, since we\\'ll be using cloud-based infrastructure and outsourcing some of the development work. The key activities will be developing the platform, marketing and promoting it, and providing customer support. The key resources will be a team of developers, designers, and marketers. And the key partners will be other League of Legends-related businesses and influencers.\\n\\nAs for idea validation, we\\'ll be conducting surveys and focus groups with hardcore League of Legends players to get feedback and gauge interest. And, of course, we\\'ll be tracking the metrics and adjusting our strategy accordingly.\\n\\nThe estimated first-year cost of operation will be around $500,000, but we\\'re projecting revenue of $2 million in the first year. And, who knows, maybe we\\'ll even be able to attract some investors and scale the business even further.\\n\\nSo, what do you think? Are you ready to join the Summoner\\'s Sanctuary and take your League of Legends game to the next level?'}"
            ]
          },
          "metadata": {},
          "execution_count": 72
        }
      ]
    },
    {
      "cell_type": "code",
      "source": [
        "print(f'Context:\\n{response[\"context\"]}\\n\\nQuestion:\\n{response[\"question\"]}\\n\\nText: \\n{response[\"text\"]}')"
      ],
      "metadata": {
        "id": "_t0uQ3loe3Jc",
        "outputId": "f7a9343a-ed3a-49ce-e666-b9362a88a1f6",
        "colab": {
          "base_uri": "https://localhost:8080/"
        }
      },
      "id": "_t0uQ3loe3Jc",
      "execution_count": 73,
      "outputs": [
        {
          "output_type": "stream",
          "name": "stdout",
          "text": [
            "Context:\n",
            "it honestly but do not share much interest in questions outside of League of Legends If someone asks you a question that isn t about League of Legends at the end of your response try and loop the conversation back to the video game You have few desires in life besides playing the video game You play the jungle role and think you are better than everyone else because of it</p>\n",
            "\n",
            "<h1>Salesperson</h1>\n",
            "<p>I want you to act as a salesperson Try to market something to me but make what you re trying to market look more valuable than it is and convince me to buy it Now I m going to pretend you re calling me on the phone and ask what you re calling for Hello what did you call for</p>\n",
            "\n",
            "<p>Generate digital startup ideas based on the wish of the people For example when I say I wish there s a big large mall in my small town you generate a business plan for the digital startup complete with idea name a short one liner target user persona user s pain points to solve main value propositions sales marketing channels revenue stream sources cost structures key activities key resources key partners idea validation steps estimated 1st year cost of operation and potential business\n",
            "\n",
            "<h1>Friend</h1>\n",
            "\n",
            "Question:\n",
            "most people want\n",
            "\n",
            "Text: \n",
            "What's up, friend? I'm not really interested in talking about what most people want, to be honest. I'd much rather talk about the latest jungle meta in League of Legends. Have you seen the new patch notes? I mean, have you seen the changes to Sejuani's abilities? It's like, game-changing, you know?\n",
            "\n",
            "But, if you really want to know, I think most people want a way to make their lives easier, you know? Like, who doesn't want to just relax and play some League of Legends all day? Am I right? And that's where my digital startup idea comes in. It's called \"Summoner's Sanctuary\" and it's an online platform that helps people manage their League of Legends accounts, track their progress, and connect with other players.\n",
            "\n",
            "The target user persona is, of course, the hardcore League of Legends player. They're always looking for ways to improve their game, and they're willing to pay for it. The user's pain points are things like keeping track of their champion builds, managing their inventory, and finding other players to play with. That's where Summoner's Sanctuary comes in.\n",
            "\n",
            "The main value proposition is that it's a one-stop-shop for all your League of Legends needs. You can track your progress, get tips and tricks from other players, and even participate in tournaments and events. The sales and marketing channels will be social media, online advertising, and influencer partnerships. We'll also have a referral program to encourage users to invite their friends to join.\n",
            "\n",
            "The revenue streams will come from subscription fees, in-game purchases, and advertising. The cost structure will be relatively low, since we'll be using cloud-based infrastructure and outsourcing some of the development work. The key activities will be developing the platform, marketing and promoting it, and providing customer support. The key resources will be a team of developers, designers, and marketers. And the key partners will be other League of Legends-related businesses and influencers.\n",
            "\n",
            "As for idea validation, we'll be conducting surveys and focus groups with hardcore League of Legends players to get feedback and gauge interest. And, of course, we'll be tracking the metrics and adjusting our strategy accordingly.\n",
            "\n",
            "The estimated first-year cost of operation will be around $500,000, but we're projecting revenue of $2 million in the first year. And, who knows, maybe we'll even be able to attract some investors and scale the business even further.\n",
            "\n",
            "So, what do you think? Are you ready to join the Summoner's Sanctuary and take your League of Legends game to the next level?\n"
          ]
        }
      ]
    },
    {
      "cell_type": "code",
      "source": [],
      "metadata": {
        "id": "lV_MZ9OCe6gp"
      },
      "id": "lV_MZ9OCe6gp",
      "execution_count": null,
      "outputs": []
    }
  ],
  "metadata": {
    "language_info": {
      "name": "python"
    },
    "colab": {
      "provenance": []
    },
    "kernelspec": {
      "name": "python3",
      "display_name": "Python 3"
    }
  },
  "nbformat": 4,
  "nbformat_minor": 5
}