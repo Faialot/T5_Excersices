{
 "cells": [
  {
   "cell_type": "markdown",
   "id": "cda1ba95",
   "metadata": {},
   "source": [
    "# Exam on Artificial Neural Networks (ANN)\n",
    "\n",
    "Welcome the Artificial Neural Networks (ANN) practical exam. In this exam, you will work on a classification task to predict the outcome of incidents involving buses. You are provided with a dataset that records breakdowns and delays in bus operations. Your task is to build, train, and evaluate an ANN model.\n",
    "\n",
    "---\n",
    "\n",
    "## Dataset Overview\n",
    "\n",
    "### **Dataset:**\n",
    "* Just run the command under the `Load Data` section to get the data downloaded and unzipped or you can access it [here](https://drive.google.com/file/d/1Flvj3qDkV2rPw7GGi5zOR-WGJgEBtRk-/view?usp=sharing)\n",
    "\n",
    "### **Dataset Name:** Bus Breakdown and Delays\n",
    "\n",
    "### **Description:**  \n",
    "The dataset contains records of incidents involving buses that were either running late or experienced a breakdown. Your task is to predict whether the bus was delayed or had a breakdown based on the features provided.\n",
    "\n",
    "### **Features:**\n",
    "The dataset contains the following columns:\n",
    "\n",
    "- `School_Year`\n",
    "- `Busbreakdown_ID`\n",
    "- `Run_Type`\n",
    "- `Bus_No`\n",
    "- `Route_Number`\n",
    "- `Reason`\n",
    "- `Schools_Serviced`\n",
    "- `Occurred_On`\n",
    "- `Created_On`\n",
    "- `Boro`\n",
    "- `Bus_Company_Name`\n",
    "- `How_Long_Delayed`\n",
    "- `Number_Of_Students_On_The_Bus`\n",
    "- `Has_Contractor_Notified_Schools`\n",
    "- `Has_Contractor_Notified_Parents`\n",
    "- `Have_You_Alerted_OPT`\n",
    "- `Informed_On`\n",
    "- `Incident_Number`\n",
    "- `Last_Updated_On`\n",
    "- `Breakdown_or_Running_Late` (Target Column)\n",
    "- `School_Age_or_PreK`"
   ]
  },
  {
   "cell_type": "markdown",
   "id": "4c2b014b",
   "metadata": {},
   "source": [
    "## Load Data"
   ]
  },
  {
   "cell_type": "code",
   "execution_count": 3,
   "id": "98ad02f5",
   "metadata": {},
   "outputs": [
    {
     "name": "stdout",
     "output_type": "stream",
     "text": [
      "Requirement already satisfied: gdown in /opt/anaconda3/lib/python3.12/site-packages (5.2.0)\n",
      "Requirement already satisfied: beautifulsoup4 in /opt/anaconda3/lib/python3.12/site-packages (from gdown) (4.12.3)\n",
      "Requirement already satisfied: filelock in /opt/anaconda3/lib/python3.12/site-packages (from gdown) (3.13.1)\n",
      "Requirement already satisfied: requests[socks] in /opt/anaconda3/lib/python3.12/site-packages (from gdown) (2.32.2)\n",
      "Requirement already satisfied: tqdm in /opt/anaconda3/lib/python3.12/site-packages (from gdown) (4.66.4)\n",
      "Requirement already satisfied: soupsieve>1.2 in /opt/anaconda3/lib/python3.12/site-packages (from beautifulsoup4->gdown) (2.5)\n",
      "Requirement already satisfied: charset-normalizer<4,>=2 in /opt/anaconda3/lib/python3.12/site-packages (from requests[socks]->gdown) (2.0.4)\n",
      "Requirement already satisfied: idna<4,>=2.5 in /opt/anaconda3/lib/python3.12/site-packages (from requests[socks]->gdown) (3.7)\n",
      "Requirement already satisfied: urllib3<3,>=1.21.1 in /opt/anaconda3/lib/python3.12/site-packages (from requests[socks]->gdown) (2.2.2)\n",
      "Requirement already satisfied: certifi>=2017.4.17 in /opt/anaconda3/lib/python3.12/site-packages (from requests[socks]->gdown) (2024.7.4)\n",
      "Requirement already satisfied: PySocks!=1.5.7,>=1.5.6 in /opt/anaconda3/lib/python3.12/site-packages (from requests[socks]->gdown) (1.7.1)\n",
      "/opt/anaconda3/lib/python3.12/site-packages/gdown/__main__.py:140: FutureWarning: Option `--id` was deprecated in version 4.3.1 and will be removed in 5.0. You don't need to pass it anymore to use a file ID.\n",
      "  warnings.warn(\n",
      "Downloading...\n",
      "From: https://drive.google.com/uc?id=1Flvj3qDkV2rPw7GGi5zOR-WGJgEBtRk-\n",
      "To: /Users/faitalaqaladhyani/Desktop/T5/Bus_Breakdown_and_Delays.csv\n",
      "100%|██████████████████████████████████████| 34.4M/34.4M [00:06<00:00, 5.23MB/s]\n"
     ]
    }
   ],
   "source": [
    "#https://drive.google.com/file/d/1Flvj3qDkV2rPw7GGi5zOR-WGJgEBtRk-/view?usp=sharing\n",
    "!pip install gdown\n",
    "!gdown --id 1Flvj3qDkV2rPw7GGi5zOR-WGJgEBtRk-"
   ]
  },
  {
   "cell_type": "markdown",
   "id": "3e39620c",
   "metadata": {},
   "source": [
    "## Importing Libraries"
   ]
  },
  {
   "cell_type": "code",
   "execution_count": 5,
   "id": "62381953",
   "metadata": {},
   "outputs": [],
   "source": [
    "import pandas as pd\n",
    "import numpy as np\n",
    "from sklearn.model_selection import train_test_split\n",
    "from tensorflow.keras.models import Sequential\n",
    "from tensorflow.keras.layers import Dense\n",
    "from tensorflow.keras.optimizers import Adam\n",
    "from sklearn.preprocessing import OneHotEncoder, LabelEncoder\n",
    "import matplotlib.pyplot as plt\n",
    "import seaborn as sns\n",
    "from sklearn.metrics import accuracy_score, precision_score, recall_score, f1_score, confusion_matrix\n",
    "from sklearn.metrics import classification_report"
   ]
  },
  {
   "cell_type": "code",
   "execution_count": 6,
   "id": "225bd890-e808-4e70-9b39-8de42b20db78",
   "metadata": {},
   "outputs": [],
   "source": [
    "df = pd.read_csv('Bus_Breakdown_and_Delays.csv')"
   ]
  },
  {
   "cell_type": "markdown",
   "id": "71ccd4e2",
   "metadata": {},
   "source": [
    "## Exploratory Data Analysis (EDA)\n",
    "This could include:\n",
    "* **Inspect the dataset**\n",
    "\n",
    "* **Dataset structure**\n",
    "\n",
    "* **Summary statistics**\n",
    "\n",
    "* **Check for missing values**\n",
    "\n",
    "* **Distribution of features**\n",
    "\n",
    "* **Categorical feature analysis**\n",
    "\n",
    "* **Correlation matrix**\n",
    "\n",
    "* **Outlier detection**\n",
    "\n",
    "And add more as needed!"
   ]
  },
  {
   "cell_type": "code",
   "execution_count": 8,
   "id": "0b800b0c",
   "metadata": {},
   "outputs": [
    {
     "name": "stdout",
     "output_type": "stream",
     "text": [
      "<class 'pandas.core.frame.DataFrame'>\n",
      "RangeIndex: 147972 entries, 0 to 147971\n",
      "Data columns (total 21 columns):\n",
      " #   Column                           Non-Null Count   Dtype \n",
      "---  ------                           --------------   ----- \n",
      " 0   School_Year                      147972 non-null  object\n",
      " 1   Busbreakdown_ID                  147972 non-null  int64 \n",
      " 2   Run_Type                         147883 non-null  object\n",
      " 3   Bus_No                           147972 non-null  object\n",
      " 4   Route_Number                     147884 non-null  object\n",
      " 5   Reason                           147870 non-null  object\n",
      " 6   Schools_Serviced                 147972 non-null  object\n",
      " 7   Occurred_On                      147972 non-null  object\n",
      " 8   Created_On                       147972 non-null  object\n",
      " 9   Boro                             141654 non-null  object\n",
      " 10  Bus_Company_Name                 147972 non-null  object\n",
      " 11  How_Long_Delayed                 126342 non-null  object\n",
      " 12  Number_Of_Students_On_The_Bus    147972 non-null  int64 \n",
      " 13  Has_Contractor_Notified_Schools  147972 non-null  object\n",
      " 14  Has_Contractor_Notified_Parents  147972 non-null  object\n",
      " 15  Have_You_Alerted_OPT             147972 non-null  object\n",
      " 16  Informed_On                      147972 non-null  object\n",
      " 17  Incident_Number                  5632 non-null    object\n",
      " 18  Last_Updated_On                  147972 non-null  object\n",
      " 19  Breakdown_or_Running_Late        147972 non-null  object\n",
      " 20  School_Age_or_PreK               147972 non-null  object\n",
      "dtypes: int64(2), object(19)\n",
      "memory usage: 23.7+ MB\n"
     ]
    }
   ],
   "source": [
    "df.info()"
   ]
  },
  {
   "cell_type": "code",
   "execution_count": 9,
   "id": "25d7bbf3-d5f1-425f-a4e1-86431622f8fc",
   "metadata": {},
   "outputs": [
    {
     "data": {
      "text/plain": [
       "School_Year                             0\n",
       "Busbreakdown_ID                         0\n",
       "Run_Type                               89\n",
       "Bus_No                                  0\n",
       "Route_Number                           88\n",
       "Reason                                102\n",
       "Schools_Serviced                        0\n",
       "Occurred_On                             0\n",
       "Created_On                              0\n",
       "Boro                                 6318\n",
       "Bus_Company_Name                        0\n",
       "How_Long_Delayed                    21630\n",
       "Number_Of_Students_On_The_Bus           0\n",
       "Has_Contractor_Notified_Schools         0\n",
       "Has_Contractor_Notified_Parents         0\n",
       "Have_You_Alerted_OPT                    0\n",
       "Informed_On                             0\n",
       "Incident_Number                    142340\n",
       "Last_Updated_On                         0\n",
       "Breakdown_or_Running_Late               0\n",
       "School_Age_or_PreK                      0\n",
       "dtype: int64"
      ]
     },
     "execution_count": 9,
     "metadata": {},
     "output_type": "execute_result"
    }
   ],
   "source": [
    "df.isnull().sum()"
   ]
  },
  {
   "cell_type": "code",
   "execution_count": 10,
   "id": "c33fc74b-dbd1-4659-8099-b4c01c061a66",
   "metadata": {},
   "outputs": [
    {
     "data": {
      "text/plain": [
       "Index(['School_Year', 'Busbreakdown_ID', 'Run_Type', 'Bus_No', 'Route_Number',\n",
       "       'Reason', 'Schools_Serviced', 'Occurred_On', 'Created_On', 'Boro',\n",
       "       'Bus_Company_Name', 'How_Long_Delayed', 'Number_Of_Students_On_The_Bus',\n",
       "       'Has_Contractor_Notified_Schools', 'Has_Contractor_Notified_Parents',\n",
       "       'Have_You_Alerted_OPT', 'Informed_On', 'Incident_Number',\n",
       "       'Last_Updated_On', 'Breakdown_or_Running_Late', 'School_Age_or_PreK'],\n",
       "      dtype='object')"
      ]
     },
     "execution_count": 10,
     "metadata": {},
     "output_type": "execute_result"
    }
   ],
   "source": [
    "df.columns"
   ]
  },
  {
   "cell_type": "code",
   "execution_count": 11,
   "id": "69189d87-2f1b-4318-ac84-de8f6ec3c99e",
   "metadata": {},
   "outputs": [
    {
     "data": {
      "text/html": [
       "<div>\n",
       "<style scoped>\n",
       "    .dataframe tbody tr th:only-of-type {\n",
       "        vertical-align: middle;\n",
       "    }\n",
       "\n",
       "    .dataframe tbody tr th {\n",
       "        vertical-align: top;\n",
       "    }\n",
       "\n",
       "    .dataframe thead th {\n",
       "        text-align: right;\n",
       "    }\n",
       "</style>\n",
       "<table border=\"1\" class=\"dataframe\">\n",
       "  <thead>\n",
       "    <tr style=\"text-align: right;\">\n",
       "      <th></th>\n",
       "      <th>Busbreakdown_ID</th>\n",
       "      <th>Number_Of_Students_On_The_Bus</th>\n",
       "    </tr>\n",
       "  </thead>\n",
       "  <tbody>\n",
       "    <tr>\n",
       "      <th>count</th>\n",
       "      <td>1.479720e+05</td>\n",
       "      <td>147972.000000</td>\n",
       "    </tr>\n",
       "    <tr>\n",
       "      <th>mean</th>\n",
       "      <td>1.287779e+06</td>\n",
       "      <td>3.590071</td>\n",
       "    </tr>\n",
       "    <tr>\n",
       "      <th>std</th>\n",
       "      <td>4.324338e+04</td>\n",
       "      <td>55.365859</td>\n",
       "    </tr>\n",
       "    <tr>\n",
       "      <th>min</th>\n",
       "      <td>1.212681e+06</td>\n",
       "      <td>0.000000</td>\n",
       "    </tr>\n",
       "    <tr>\n",
       "      <th>25%</th>\n",
       "      <td>1.250438e+06</td>\n",
       "      <td>0.000000</td>\n",
       "    </tr>\n",
       "    <tr>\n",
       "      <th>50%</th>\n",
       "      <td>1.287844e+06</td>\n",
       "      <td>0.000000</td>\n",
       "    </tr>\n",
       "    <tr>\n",
       "      <th>75%</th>\n",
       "      <td>1.325191e+06</td>\n",
       "      <td>4.000000</td>\n",
       "    </tr>\n",
       "    <tr>\n",
       "      <th>max</th>\n",
       "      <td>1.362605e+06</td>\n",
       "      <td>9007.000000</td>\n",
       "    </tr>\n",
       "  </tbody>\n",
       "</table>\n",
       "</div>"
      ],
      "text/plain": [
       "       Busbreakdown_ID  Number_Of_Students_On_The_Bus\n",
       "count     1.479720e+05                  147972.000000\n",
       "mean      1.287779e+06                       3.590071\n",
       "std       4.324338e+04                      55.365859\n",
       "min       1.212681e+06                       0.000000\n",
       "25%       1.250438e+06                       0.000000\n",
       "50%       1.287844e+06                       0.000000\n",
       "75%       1.325191e+06                       4.000000\n",
       "max       1.362605e+06                    9007.000000"
      ]
     },
     "execution_count": 11,
     "metadata": {},
     "output_type": "execute_result"
    }
   ],
   "source": [
    "df.describe()"
   ]
  },
  {
   "cell_type": "code",
   "execution_count": 12,
   "id": "a40d053e-7123-44f7-acf6-ed28dc604514",
   "metadata": {},
   "outputs": [
    {
     "data": {
      "text/plain": [
       "0"
      ]
     },
     "execution_count": 12,
     "metadata": {},
     "output_type": "execute_result"
    }
   ],
   "source": [
    "df.duplicated().sum()"
   ]
  },
  {
   "cell_type": "code",
   "execution_count": 13,
   "id": "02e612a6-a7b8-4559-819b-216a1f0b4e98",
   "metadata": {},
   "outputs": [],
   "source": [
    "#uneccesary\n",
    "df=df.drop(['Incident_Number'], axis=1)"
   ]
  },
  {
   "cell_type": "code",
   "execution_count": 14,
   "id": "941aa39c-dbde-4c7d-adf8-f50a22585f73",
   "metadata": {},
   "outputs": [
    {
     "data": {
      "text/html": [
       "<div>\n",
       "<style scoped>\n",
       "    .dataframe tbody tr th:only-of-type {\n",
       "        vertical-align: middle;\n",
       "    }\n",
       "\n",
       "    .dataframe tbody tr th {\n",
       "        vertical-align: top;\n",
       "    }\n",
       "\n",
       "    .dataframe thead th {\n",
       "        text-align: right;\n",
       "    }\n",
       "</style>\n",
       "<table border=\"1\" class=\"dataframe\">\n",
       "  <thead>\n",
       "    <tr style=\"text-align: right;\">\n",
       "      <th></th>\n",
       "      <th>School_Year</th>\n",
       "      <th>Busbreakdown_ID</th>\n",
       "      <th>Run_Type</th>\n",
       "      <th>Bus_No</th>\n",
       "      <th>Route_Number</th>\n",
       "      <th>Reason</th>\n",
       "      <th>Schools_Serviced</th>\n",
       "      <th>Occurred_On</th>\n",
       "      <th>Created_On</th>\n",
       "      <th>Boro</th>\n",
       "      <th>Bus_Company_Name</th>\n",
       "      <th>How_Long_Delayed</th>\n",
       "      <th>Number_Of_Students_On_The_Bus</th>\n",
       "      <th>Has_Contractor_Notified_Schools</th>\n",
       "      <th>Has_Contractor_Notified_Parents</th>\n",
       "      <th>Have_You_Alerted_OPT</th>\n",
       "      <th>Informed_On</th>\n",
       "      <th>Last_Updated_On</th>\n",
       "      <th>Breakdown_or_Running_Late</th>\n",
       "      <th>School_Age_or_PreK</th>\n",
       "    </tr>\n",
       "  </thead>\n",
       "  <tbody>\n",
       "    <tr>\n",
       "      <th>0</th>\n",
       "      <td>2015-2016</td>\n",
       "      <td>1224901</td>\n",
       "      <td>Pre-K/EI</td>\n",
       "      <td>811</td>\n",
       "      <td>1</td>\n",
       "      <td>Other</td>\n",
       "      <td>C353</td>\n",
       "      <td>10/26/2015 08:30:00 AM</td>\n",
       "      <td>10/26/2015 08:40:00 AM</td>\n",
       "      <td>Bronx</td>\n",
       "      <td>G.V.C., LTD.</td>\n",
       "      <td>10MINUTES</td>\n",
       "      <td>5</td>\n",
       "      <td>Yes</td>\n",
       "      <td>Yes</td>\n",
       "      <td>No</td>\n",
       "      <td>10/26/2015 08:40:00 AM</td>\n",
       "      <td>10/26/2015 08:40:39 AM</td>\n",
       "      <td>Running Late</td>\n",
       "      <td>Pre-K</td>\n",
       "    </tr>\n",
       "    <tr>\n",
       "      <th>1</th>\n",
       "      <td>2015-2016</td>\n",
       "      <td>1225098</td>\n",
       "      <td>Pre-K/EI</td>\n",
       "      <td>9302</td>\n",
       "      <td>1</td>\n",
       "      <td>Heavy Traffic</td>\n",
       "      <td>C814</td>\n",
       "      <td>10/27/2015 07:10:00 AM</td>\n",
       "      <td>10/27/2015 07:11:00 AM</td>\n",
       "      <td>Bronx</td>\n",
       "      <td>G.V.C., LTD.</td>\n",
       "      <td>25 MINUTES</td>\n",
       "      <td>3</td>\n",
       "      <td>Yes</td>\n",
       "      <td>Yes</td>\n",
       "      <td>No</td>\n",
       "      <td>10/27/2015 07:11:00 AM</td>\n",
       "      <td>10/27/2015 07:11:22 AM</td>\n",
       "      <td>Running Late</td>\n",
       "      <td>Pre-K</td>\n",
       "    </tr>\n",
       "    <tr>\n",
       "      <th>2</th>\n",
       "      <td>2015-2016</td>\n",
       "      <td>1215800</td>\n",
       "      <td>Pre-K/EI</td>\n",
       "      <td>358</td>\n",
       "      <td>2</td>\n",
       "      <td>Heavy Traffic</td>\n",
       "      <td>C195</td>\n",
       "      <td>09/18/2015 07:36:00 AM</td>\n",
       "      <td>09/18/2015 07:38:00 AM</td>\n",
       "      <td>Bronx</td>\n",
       "      <td>G.V.C., LTD.</td>\n",
       "      <td>15 MINUTES</td>\n",
       "      <td>12</td>\n",
       "      <td>Yes</td>\n",
       "      <td>Yes</td>\n",
       "      <td>Yes</td>\n",
       "      <td>09/18/2015 07:38:00 AM</td>\n",
       "      <td>09/18/2015 07:38:44 AM</td>\n",
       "      <td>Running Late</td>\n",
       "      <td>Pre-K</td>\n",
       "    </tr>\n",
       "    <tr>\n",
       "      <th>3</th>\n",
       "      <td>2015-2016</td>\n",
       "      <td>1215511</td>\n",
       "      <td>Pre-K/EI</td>\n",
       "      <td>331</td>\n",
       "      <td>2</td>\n",
       "      <td>Other</td>\n",
       "      <td>C178</td>\n",
       "      <td>09/17/2015 08:08:00 AM</td>\n",
       "      <td>09/17/2015 08:12:00 AM</td>\n",
       "      <td>Bronx</td>\n",
       "      <td>G.V.C., LTD.</td>\n",
       "      <td>10 minutes</td>\n",
       "      <td>11</td>\n",
       "      <td>Yes</td>\n",
       "      <td>Yes</td>\n",
       "      <td>Yes</td>\n",
       "      <td>09/17/2015 08:12:00 AM</td>\n",
       "      <td>09/17/2015 08:12:08 AM</td>\n",
       "      <td>Running Late</td>\n",
       "      <td>Pre-K</td>\n",
       "    </tr>\n",
       "    <tr>\n",
       "      <th>4</th>\n",
       "      <td>2015-2016</td>\n",
       "      <td>1215828</td>\n",
       "      <td>Pre-K/EI</td>\n",
       "      <td>332</td>\n",
       "      <td>2</td>\n",
       "      <td>Other</td>\n",
       "      <td>S176</td>\n",
       "      <td>09/18/2015 07:39:00 AM</td>\n",
       "      <td>09/18/2015 07:45:00 AM</td>\n",
       "      <td>Bronx</td>\n",
       "      <td>G.V.C., LTD.</td>\n",
       "      <td>10MINUTES</td>\n",
       "      <td>12</td>\n",
       "      <td>Yes</td>\n",
       "      <td>Yes</td>\n",
       "      <td>No</td>\n",
       "      <td>09/18/2015 07:45:00 AM</td>\n",
       "      <td>09/18/2015 07:56:40 AM</td>\n",
       "      <td>Running Late</td>\n",
       "      <td>Pre-K</td>\n",
       "    </tr>\n",
       "  </tbody>\n",
       "</table>\n",
       "</div>"
      ],
      "text/plain": [
       "  School_Year  Busbreakdown_ID  Run_Type Bus_No Route_Number         Reason  \\\n",
       "0   2015-2016          1224901  Pre-K/EI    811            1          Other   \n",
       "1   2015-2016          1225098  Pre-K/EI   9302            1  Heavy Traffic   \n",
       "2   2015-2016          1215800  Pre-K/EI    358            2  Heavy Traffic   \n",
       "3   2015-2016          1215511  Pre-K/EI    331            2          Other   \n",
       "4   2015-2016          1215828  Pre-K/EI    332            2          Other   \n",
       "\n",
       "  Schools_Serviced             Occurred_On              Created_On   Boro  \\\n",
       "0             C353  10/26/2015 08:30:00 AM  10/26/2015 08:40:00 AM  Bronx   \n",
       "1             C814  10/27/2015 07:10:00 AM  10/27/2015 07:11:00 AM  Bronx   \n",
       "2             C195  09/18/2015 07:36:00 AM  09/18/2015 07:38:00 AM  Bronx   \n",
       "3             C178  09/17/2015 08:08:00 AM  09/17/2015 08:12:00 AM  Bronx   \n",
       "4             S176  09/18/2015 07:39:00 AM  09/18/2015 07:45:00 AM  Bronx   \n",
       "\n",
       "  Bus_Company_Name How_Long_Delayed  Number_Of_Students_On_The_Bus  \\\n",
       "0     G.V.C., LTD.        10MINUTES                              5   \n",
       "1     G.V.C., LTD.       25 MINUTES                              3   \n",
       "2     G.V.C., LTD.       15 MINUTES                             12   \n",
       "3     G.V.C., LTD.       10 minutes                             11   \n",
       "4     G.V.C., LTD.        10MINUTES                             12   \n",
       "\n",
       "  Has_Contractor_Notified_Schools Has_Contractor_Notified_Parents  \\\n",
       "0                             Yes                             Yes   \n",
       "1                             Yes                             Yes   \n",
       "2                             Yes                             Yes   \n",
       "3                             Yes                             Yes   \n",
       "4                             Yes                             Yes   \n",
       "\n",
       "  Have_You_Alerted_OPT             Informed_On         Last_Updated_On  \\\n",
       "0                   No  10/26/2015 08:40:00 AM  10/26/2015 08:40:39 AM   \n",
       "1                   No  10/27/2015 07:11:00 AM  10/27/2015 07:11:22 AM   \n",
       "2                  Yes  09/18/2015 07:38:00 AM  09/18/2015 07:38:44 AM   \n",
       "3                  Yes  09/17/2015 08:12:00 AM  09/17/2015 08:12:08 AM   \n",
       "4                   No  09/18/2015 07:45:00 AM  09/18/2015 07:56:40 AM   \n",
       "\n",
       "  Breakdown_or_Running_Late School_Age_or_PreK  \n",
       "0              Running Late              Pre-K  \n",
       "1              Running Late              Pre-K  \n",
       "2              Running Late              Pre-K  \n",
       "3              Running Late              Pre-K  \n",
       "4              Running Late              Pre-K  "
      ]
     },
     "execution_count": 14,
     "metadata": {},
     "output_type": "execute_result"
    }
   ],
   "source": [
    "df.head()"
   ]
  },
  {
   "cell_type": "code",
   "execution_count": 15,
   "id": "f6c12a39-f2b8-4de4-9918-2d1445bf0c03",
   "metadata": {},
   "outputs": [
    {
     "data": {
      "text/plain": [
       "<bound method DataFrame.corr of        School_Year  Busbreakdown_ID             Run_Type  Bus_No Route_Number  \\\n",
       "0        2015-2016          1224901             Pre-K/EI     811            1   \n",
       "1        2015-2016          1225098             Pre-K/EI    9302            1   \n",
       "2        2015-2016          1215800             Pre-K/EI     358            2   \n",
       "3        2015-2016          1215511             Pre-K/EI     331            2   \n",
       "4        2015-2016          1215828             Pre-K/EI     332            2   \n",
       "...            ...              ...                  ...     ...          ...   \n",
       "147967   2016-2017          1338452             Pre-K/EI    9345            2   \n",
       "147968   2016-2017          1341521             Pre-K/EI    0001            5   \n",
       "147969   2016-2017          1353044    Special Ed PM Run  GC0112         X928   \n",
       "147970   2016-2017          1353045    Special Ed PM Run   5525D         Q920   \n",
       "147971   2016-2017          1353046  Project Read PM Run    2530         K617   \n",
       "\n",
       "               Reason Schools_Serviced             Occurred_On  \\\n",
       "0               Other             C353  10/26/2015 08:30:00 AM   \n",
       "1       Heavy Traffic             C814  10/27/2015 07:10:00 AM   \n",
       "2       Heavy Traffic             C195  09/18/2015 07:36:00 AM   \n",
       "3               Other             C178  09/17/2015 08:08:00 AM   \n",
       "4               Other             S176  09/18/2015 07:39:00 AM   \n",
       "...               ...              ...                     ...   \n",
       "147967  Heavy Traffic             C530  04/05/2017 08:00:00 AM   \n",
       "147968  Heavy Traffic             C579  04/24/2017 07:42:00 AM   \n",
       "147969  Heavy Traffic            09003  05/25/2017 04:22:00 PM   \n",
       "147970    Won`t Start            24457  05/25/2017 04:27:00 PM   \n",
       "147971          Other            21436  05/25/2017 04:36:00 PM   \n",
       "\n",
       "                    Created_On      Boro           Bus_Company_Name  \\\n",
       "0       10/26/2015 08:40:00 AM     Bronx               G.V.C., LTD.   \n",
       "1       10/27/2015 07:11:00 AM     Bronx               G.V.C., LTD.   \n",
       "2       09/18/2015 07:38:00 AM     Bronx               G.V.C., LTD.   \n",
       "3       09/17/2015 08:12:00 AM     Bronx               G.V.C., LTD.   \n",
       "4       09/18/2015 07:45:00 AM     Bronx               G.V.C., LTD.   \n",
       "...                        ...       ...                        ...   \n",
       "147967  04/05/2017 08:10:00 AM     Bronx               G.V.C., LTD.   \n",
       "147968  04/24/2017 07:44:00 AM     Bronx               G.V.C., LTD.   \n",
       "147969  05/25/2017 04:28:00 PM     Bronx        G.V.C. LTD. (B2192)   \n",
       "147970  05/25/2017 04:30:00 PM    Queens  LITTLE RICHIE BUS SERVICE   \n",
       "147971  05/25/2017 04:37:00 PM  Brooklyn  RELIANT TRANS, INC. (B232   \n",
       "\n",
       "       How_Long_Delayed  Number_Of_Students_On_The_Bus  \\\n",
       "0             10MINUTES                              5   \n",
       "1            25 MINUTES                              3   \n",
       "2            15 MINUTES                             12   \n",
       "3            10 minutes                             11   \n",
       "4             10MINUTES                             12   \n",
       "...                 ...                            ...   \n",
       "147967            15-20                              7   \n",
       "147968          20 MINS                              0   \n",
       "147969        20-25MINS                              0   \n",
       "147970              NaN                              0   \n",
       "147971            45min                              7   \n",
       "\n",
       "       Has_Contractor_Notified_Schools Has_Contractor_Notified_Parents  \\\n",
       "0                                  Yes                             Yes   \n",
       "1                                  Yes                             Yes   \n",
       "2                                  Yes                             Yes   \n",
       "3                                  Yes                             Yes   \n",
       "4                                  Yes                             Yes   \n",
       "...                                ...                             ...   \n",
       "147967                             Yes                             Yes   \n",
       "147968                             Yes                             Yes   \n",
       "147969                             Yes                             Yes   \n",
       "147970                             Yes                             Yes   \n",
       "147971                             Yes                             Yes   \n",
       "\n",
       "       Have_You_Alerted_OPT             Informed_On         Last_Updated_On  \\\n",
       "0                        No  10/26/2015 08:40:00 AM  10/26/2015 08:40:39 AM   \n",
       "1                        No  10/27/2015 07:11:00 AM  10/27/2015 07:11:22 AM   \n",
       "2                       Yes  09/18/2015 07:38:00 AM  09/18/2015 07:38:44 AM   \n",
       "3                       Yes  09/17/2015 08:12:00 AM  09/17/2015 08:12:08 AM   \n",
       "4                        No  09/18/2015 07:45:00 AM  09/18/2015 07:56:40 AM   \n",
       "...                     ...                     ...                     ...   \n",
       "147967                   No  04/05/2017 08:10:00 AM  04/05/2017 08:10:15 AM   \n",
       "147968                   No  04/24/2017 07:44:00 AM  04/24/2017 07:44:15 AM   \n",
       "147969                  Yes  05/25/2017 04:28:00 PM  05/25/2017 04:34:36 PM   \n",
       "147970                   No  05/25/2017 04:30:00 PM  05/25/2017 04:30:07 PM   \n",
       "147971                  Yes  05/25/2017 04:37:00 PM  05/25/2017 04:37:37 PM   \n",
       "\n",
       "       Breakdown_or_Running_Late School_Age_or_PreK  \n",
       "0                   Running Late              Pre-K  \n",
       "1                   Running Late              Pre-K  \n",
       "2                   Running Late              Pre-K  \n",
       "3                   Running Late              Pre-K  \n",
       "4                   Running Late              Pre-K  \n",
       "...                          ...                ...  \n",
       "147967              Running Late              Pre-K  \n",
       "147968              Running Late              Pre-K  \n",
       "147969              Running Late         School-Age  \n",
       "147970                 Breakdown         School-Age  \n",
       "147971              Running Late         School-Age  \n",
       "\n",
       "[147972 rows x 20 columns]>"
      ]
     },
     "execution_count": 15,
     "metadata": {},
     "output_type": "execute_result"
    }
   ],
   "source": [
    "df.corr"
   ]
  },
  {
   "cell_type": "markdown",
   "id": "1a559e40",
   "metadata": {},
   "source": [
    "## Data Preprocessing\n",
    "This could include:\n",
    "\n",
    "* **Handle Missing Values**\n",
    "    * Impute missing values or drop them.\n",
    "\n",
    "* **Encode Categorical Variables**\n",
    "    * One-hot encoding\n",
    "    * Label encoding\n",
    "\n",
    "* **Scale and Normalize Data**\n",
    "    * Standardization (Z-score)\n",
    "    * Min-Max scaling\n",
    "\n",
    "* **Feature Engineering**\n",
    "    * Create new features\n",
    "    * Feature selection\n",
    "\n",
    "* **Handle Imbalanced Data**\n",
    "    * Oversampling\n",
    "    * Undersampling\n",
    "\n",
    "* **Handle Outliers**\n",
    "    * Remove outliers\n",
    "    * Transform outliers\n",
    "\n",
    "* **Remove Duplicates**\n",
    "    * Remove redundant or duplicate data\n",
    "\n",
    "\n",
    "And add more as needed!\n",
    "\n",
    "Please treat these as suggestions. Feel free to use your judgment for the rest."
   ]
  },
  {
   "cell_type": "code",
   "execution_count": 17,
   "id": "d033de2e-61c2-4204-a3f8-364e589aada8",
   "metadata": {},
   "outputs": [],
   "source": [
    "df['Run_Type'] = df['Run_Type'].fillna(df['Run_Type'].mode()[0])\n",
    "df['Route_Number'] = df['Route_Number'].fillna(df['Route_Number'].mode()[0])\n",
    "df['Reason'] = df['Reason'].fillna(df['Reason'].mode()[0])\n",
    "df['Boro'] = df['Boro'].fillna(df['Boro'].mode()[0])\n",
    "df['How_Long_Delayed'] = df['How_Long_Delayed'].fillna(df['How_Long_Delayed'].mode()[0])\n",
    "\n"
   ]
  },
  {
   "cell_type": "code",
   "execution_count": 18,
   "id": "e6867a7c",
   "metadata": {},
   "outputs": [],
   "source": [
    "LabelEncoder = LabelEncoder()"
   ]
  },
  {
   "cell_type": "code",
   "execution_count": 19,
   "id": "472fc381-1fd5-4f7e-a20a-4a8811c273b3",
   "metadata": {},
   "outputs": [],
   "source": [
    "for col in df.select_dtypes(include=['object']).columns:\n",
    "  df[col] = LabelEncoder.fit_transform(df[col])\n",
    "\n"
   ]
  },
  {
   "cell_type": "code",
   "execution_count": null,
   "id": "ed84100b-0c13-477a-a963-da0a5c4ea7c2",
   "metadata": {},
   "outputs": [],
   "source": []
  },
  {
   "cell_type": "code",
   "execution_count": 20,
   "id": "b9ab6802-a5fc-45af-b990-6fe35d886383",
   "metadata": {},
   "outputs": [],
   "source": [
    "#scale feature \n",
    "\n",
    "X = df.drop('Breakdown_or_Running_Late', axis=1)\n",
    "y = df['Breakdown_or_Running_Late']"
   ]
  },
  {
   "cell_type": "markdown",
   "id": "bc887660",
   "metadata": {},
   "source": [
    "## Split the Dataset\n",
    "Next, split the dataset into training, validation, and testing sets."
   ]
  },
  {
   "cell_type": "code",
   "execution_count": 22,
   "id": "fa5bbfd5",
   "metadata": {},
   "outputs": [],
   "source": [
    "X_train, X_test, y_train, y_test = train_test_split(X, y, test_size=0.2, random_state=42)"
   ]
  },
  {
   "cell_type": "markdown",
   "id": "7119b7d7",
   "metadata": {},
   "source": [
    "## Building the ANN Model\n",
    "In this section, define the architecture of the ANN by specifying the number of layers, neurons, and activation functions."
   ]
  },
  {
   "cell_type": "code",
   "execution_count": 24,
   "id": "8532b3b9",
   "metadata": {},
   "outputs": [
    {
     "name": "stderr",
     "output_type": "stream",
     "text": [
      "/opt/anaconda3/lib/python3.12/site-packages/keras/src/layers/core/dense.py:87: UserWarning: Do not pass an `input_shape`/`input_dim` argument to a layer. When using Sequential models, prefer using an `Input(shape)` object as the first layer in the model instead.\n",
      "  super().__init__(activity_regularizer=activity_regularizer, **kwargs)\n"
     ]
    }
   ],
   "source": [
    "model = Sequential()\n",
    "\n",
    "#input \n",
    "model.add(Dense(units=6, input_dim=X_train.shape[1], kernel_initializer='uniform',activation='relu'))\n",
    "\n",
    "#hidden \n",
    "model.add(Dense(units=6, activation='relu'))\n",
    "model.add(Dense(units=6, activation='relu'))\n",
    "\n",
    "#output\n",
    "model.add(Dense(units=1, activation='sigmoid'))"
   ]
  },
  {
   "cell_type": "markdown",
   "id": "ac5e52e1",
   "metadata": {},
   "source": [
    "## Compile the Model\n",
    "Compile the ANN model by defining the optimizer, loss function, and evaluation metrics."
   ]
  },
  {
   "cell_type": "code",
   "execution_count": 26,
   "id": "ab363be3",
   "metadata": {},
   "outputs": [],
   "source": [
    "model.compile(optimizer='adam', loss='binary_crossentropy', metrics=['accuracy'])"
   ]
  },
  {
   "cell_type": "markdown",
   "id": "e9a72223",
   "metadata": {},
   "source": [
    "## Training the Model\n",
    "Train the ANN model using the training data."
   ]
  },
  {
   "cell_type": "code",
   "execution_count": 49,
   "id": "02f67ec1-1cc3-4ab5-8055-0a67af5b9d28",
   "metadata": {},
   "outputs": [
    {
     "name": "stdout",
     "output_type": "stream",
     "text": [
      "Epoch 1/50\n",
      "\u001b[1m9471/9471\u001b[0m \u001b[32m━━━━━━━━━━━━━━━━━━━━\u001b[0m\u001b[37m\u001b[0m \u001b[1m4s\u001b[0m 449us/step - accuracy: 0.8824 - loss: 0.3622 - val_accuracy: 0.8860 - val_loss: 0.3548\n",
      "Epoch 2/50\n",
      "\u001b[1m9471/9471\u001b[0m \u001b[32m━━━━━━━━━━━━━━━━━━━━\u001b[0m\u001b[37m\u001b[0m \u001b[1m4s\u001b[0m 436us/step - accuracy: 0.8852 - loss: 0.3566 - val_accuracy: 0.8860 - val_loss: 0.3548\n",
      "Epoch 3/50\n",
      "\u001b[1m9471/9471\u001b[0m \u001b[32m━━━━━━━━━━━━━━━━━━━━\u001b[0m\u001b[37m\u001b[0m \u001b[1m4s\u001b[0m 433us/step - accuracy: 0.8817 - loss: 0.3635 - val_accuracy: 0.8860 - val_loss: 0.3548\n",
      "Epoch 4/50\n",
      "\u001b[1m9471/9471\u001b[0m \u001b[32m━━━━━━━━━━━━━━━━━━━━\u001b[0m\u001b[37m\u001b[0m \u001b[1m4s\u001b[0m 436us/step - accuracy: 0.8824 - loss: 0.3622 - val_accuracy: 0.8860 - val_loss: 0.3547\n",
      "Epoch 5/50\n",
      "\u001b[1m9471/9471\u001b[0m \u001b[32m━━━━━━━━━━━━━━━━━━━━\u001b[0m\u001b[37m\u001b[0m \u001b[1m4s\u001b[0m 435us/step - accuracy: 0.8814 - loss: 0.3641 - val_accuracy: 0.8860 - val_loss: 0.3547\n",
      "Epoch 6/50\n",
      "\u001b[1m9471/9471\u001b[0m \u001b[32m━━━━━━━━━━━━━━━━━━━━\u001b[0m\u001b[37m\u001b[0m \u001b[1m4s\u001b[0m 437us/step - accuracy: 0.8826 - loss: 0.3618 - val_accuracy: 0.8860 - val_loss: 0.3547\n",
      "Epoch 7/50\n",
      "\u001b[1m9471/9471\u001b[0m \u001b[32m━━━━━━━━━━━━━━━━━━━━\u001b[0m\u001b[37m\u001b[0m \u001b[1m4s\u001b[0m 435us/step - accuracy: 0.8809 - loss: 0.3652 - val_accuracy: 0.8860 - val_loss: 0.3547\n",
      "Epoch 8/50\n",
      "\u001b[1m9471/9471\u001b[0m \u001b[32m━━━━━━━━━━━━━━━━━━━━\u001b[0m\u001b[37m\u001b[0m \u001b[1m4s\u001b[0m 437us/step - accuracy: 0.8821 - loss: 0.3627 - val_accuracy: 0.8860 - val_loss: 0.3548\n",
      "Epoch 9/50\n",
      "\u001b[1m9471/9471\u001b[0m \u001b[32m━━━━━━━━━━━━━━━━━━━━\u001b[0m\u001b[37m\u001b[0m \u001b[1m4s\u001b[0m 439us/step - accuracy: 0.8818 - loss: 0.3635 - val_accuracy: 0.8860 - val_loss: 0.3547\n",
      "Epoch 10/50\n",
      "\u001b[1m9471/9471\u001b[0m \u001b[32m━━━━━━━━━━━━━━━━━━━━\u001b[0m\u001b[37m\u001b[0m \u001b[1m4s\u001b[0m 440us/step - accuracy: 0.8831 - loss: 0.3607 - val_accuracy: 0.8860 - val_loss: 0.3547\n",
      "Epoch 11/50\n",
      "\u001b[1m9471/9471\u001b[0m \u001b[32m━━━━━━━━━━━━━━━━━━━━\u001b[0m\u001b[37m\u001b[0m \u001b[1m4s\u001b[0m 436us/step - accuracy: 0.8843 - loss: 0.3583 - val_accuracy: 0.8860 - val_loss: 0.3548\n",
      "Epoch 12/50\n",
      "\u001b[1m9471/9471\u001b[0m \u001b[32m━━━━━━━━━━━━━━━━━━━━\u001b[0m\u001b[37m\u001b[0m \u001b[1m4s\u001b[0m 435us/step - accuracy: 0.8841 - loss: 0.3588 - val_accuracy: 0.8860 - val_loss: 0.3550\n",
      "Epoch 13/50\n",
      "\u001b[1m9471/9471\u001b[0m \u001b[32m━━━━━━━━━━━━━━━━━━━━\u001b[0m\u001b[37m\u001b[0m \u001b[1m4s\u001b[0m 439us/step - accuracy: 0.8823 - loss: 0.3623 - val_accuracy: 0.8860 - val_loss: 0.3547\n",
      "Epoch 14/50\n",
      "\u001b[1m9471/9471\u001b[0m \u001b[32m━━━━━━━━━━━━━━━━━━━━\u001b[0m\u001b[37m\u001b[0m \u001b[1m4s\u001b[0m 445us/step - accuracy: 0.8845 - loss: 0.3579 - val_accuracy: 0.8860 - val_loss: 0.3548\n",
      "Epoch 15/50\n",
      "\u001b[1m9471/9471\u001b[0m \u001b[32m━━━━━━━━━━━━━━━━━━━━\u001b[0m\u001b[37m\u001b[0m \u001b[1m4s\u001b[0m 438us/step - accuracy: 0.8814 - loss: 0.3641 - val_accuracy: 0.8860 - val_loss: 0.3547\n",
      "Epoch 16/50\n",
      "\u001b[1m9471/9471\u001b[0m \u001b[32m━━━━━━━━━━━━━━━━━━━━\u001b[0m\u001b[37m\u001b[0m \u001b[1m4s\u001b[0m 441us/step - accuracy: 0.8831 - loss: 0.3607 - val_accuracy: 0.8860 - val_loss: 0.3548\n",
      "Epoch 17/50\n",
      "\u001b[1m9471/9471\u001b[0m \u001b[32m━━━━━━━━━━━━━━━━━━━━\u001b[0m\u001b[37m\u001b[0m \u001b[1m4s\u001b[0m 438us/step - accuracy: 0.8844 - loss: 0.3581 - val_accuracy: 0.8860 - val_loss: 0.3548\n",
      "Epoch 18/50\n",
      "\u001b[1m9471/9471\u001b[0m \u001b[32m━━━━━━━━━━━━━━━━━━━━\u001b[0m\u001b[37m\u001b[0m \u001b[1m4s\u001b[0m 442us/step - accuracy: 0.8832 - loss: 0.3605 - val_accuracy: 0.8860 - val_loss: 0.3547\n",
      "Epoch 19/50\n",
      "\u001b[1m9471/9471\u001b[0m \u001b[32m━━━━━━━━━━━━━━━━━━━━\u001b[0m\u001b[37m\u001b[0m \u001b[1m4s\u001b[0m 440us/step - accuracy: 0.8841 - loss: 0.3588 - val_accuracy: 0.8860 - val_loss: 0.3548\n",
      "Epoch 20/50\n",
      "\u001b[1m9471/9471\u001b[0m \u001b[32m━━━━━━━━━━━━━━━━━━━━\u001b[0m\u001b[37m\u001b[0m \u001b[1m4s\u001b[0m 437us/step - accuracy: 0.8825 - loss: 0.3619 - val_accuracy: 0.8860 - val_loss: 0.3548\n",
      "Epoch 21/50\n",
      "\u001b[1m9471/9471\u001b[0m \u001b[32m━━━━━━━━━━━━━━━━━━━━\u001b[0m\u001b[37m\u001b[0m \u001b[1m4s\u001b[0m 439us/step - accuracy: 0.8829 - loss: 0.3611 - val_accuracy: 0.8860 - val_loss: 0.3547\n",
      "Epoch 22/50\n",
      "\u001b[1m9471/9471\u001b[0m \u001b[32m━━━━━━━━━━━━━━━━━━━━\u001b[0m\u001b[37m\u001b[0m \u001b[1m4s\u001b[0m 460us/step - accuracy: 0.8838 - loss: 0.3593 - val_accuracy: 0.8860 - val_loss: 0.3548\n",
      "Epoch 23/50\n",
      "\u001b[1m9471/9471\u001b[0m \u001b[32m━━━━━━━━━━━━━━━━━━━━\u001b[0m\u001b[37m\u001b[0m \u001b[1m4s\u001b[0m 443us/step - accuracy: 0.8816 - loss: 0.3638 - val_accuracy: 0.8860 - val_loss: 0.3547\n",
      "Epoch 24/50\n",
      "\u001b[1m9471/9471\u001b[0m \u001b[32m━━━━━━━━━━━━━━━━━━━━\u001b[0m\u001b[37m\u001b[0m \u001b[1m4s\u001b[0m 436us/step - accuracy: 0.8836 - loss: 0.3597 - val_accuracy: 0.8860 - val_loss: 0.3548\n",
      "Epoch 25/50\n",
      "\u001b[1m9471/9471\u001b[0m \u001b[32m━━━━━━━━━━━━━━━━━━━━\u001b[0m\u001b[37m\u001b[0m \u001b[1m4s\u001b[0m 439us/step - accuracy: 0.8839 - loss: 0.3591 - val_accuracy: 0.8860 - val_loss: 0.3548\n",
      "Epoch 26/50\n",
      "\u001b[1m9471/9471\u001b[0m \u001b[32m━━━━━━━━━━━━━━━━━━━━\u001b[0m\u001b[37m\u001b[0m \u001b[1m4s\u001b[0m 455us/step - accuracy: 0.8814 - loss: 0.3642 - val_accuracy: 0.8860 - val_loss: 0.3547\n",
      "Epoch 27/50\n",
      "\u001b[1m9471/9471\u001b[0m \u001b[32m━━━━━━━━━━━━━━━━━━━━\u001b[0m\u001b[37m\u001b[0m \u001b[1m4s\u001b[0m 447us/step - accuracy: 0.8835 - loss: 0.3599 - val_accuracy: 0.8860 - val_loss: 0.3548\n",
      "Epoch 28/50\n",
      "\u001b[1m9471/9471\u001b[0m \u001b[32m━━━━━━━━━━━━━━━━━━━━\u001b[0m\u001b[37m\u001b[0m \u001b[1m4s\u001b[0m 432us/step - accuracy: 0.8846 - loss: 0.3578 - val_accuracy: 0.8860 - val_loss: 0.3548\n",
      "Epoch 29/50\n",
      "\u001b[1m9471/9471\u001b[0m \u001b[32m━━━━━━━━━━━━━━━━━━━━\u001b[0m\u001b[37m\u001b[0m \u001b[1m4s\u001b[0m 437us/step - accuracy: 0.8813 - loss: 0.3643 - val_accuracy: 0.8860 - val_loss: 0.3548\n",
      "Epoch 30/50\n",
      "\u001b[1m9471/9471\u001b[0m \u001b[32m━━━━━━━━━━━━━━━━━━━━\u001b[0m\u001b[37m\u001b[0m \u001b[1m4s\u001b[0m 429us/step - accuracy: 0.8847 - loss: 0.3574 - val_accuracy: 0.8860 - val_loss: 0.3549\n",
      "Epoch 31/50\n",
      "\u001b[1m9471/9471\u001b[0m \u001b[32m━━━━━━━━━━━━━━━━━━━━\u001b[0m\u001b[37m\u001b[0m \u001b[1m4s\u001b[0m 427us/step - accuracy: 0.8819 - loss: 0.3631 - val_accuracy: 0.8860 - val_loss: 0.3547\n",
      "Epoch 32/50\n",
      "\u001b[1m9471/9471\u001b[0m \u001b[32m━━━━━━━━━━━━━━━━━━━━\u001b[0m\u001b[37m\u001b[0m \u001b[1m4s\u001b[0m 428us/step - accuracy: 0.8850 - loss: 0.3568 - val_accuracy: 0.8860 - val_loss: 0.3549\n",
      "Epoch 33/50\n",
      "\u001b[1m9471/9471\u001b[0m \u001b[32m━━━━━━━━━━━━━━━━━━━━\u001b[0m\u001b[37m\u001b[0m \u001b[1m4s\u001b[0m 437us/step - accuracy: 0.8824 - loss: 0.3622 - val_accuracy: 0.8860 - val_loss: 0.3547\n",
      "Epoch 34/50\n",
      "\u001b[1m9471/9471\u001b[0m \u001b[32m━━━━━━━━━━━━━━━━━━━━\u001b[0m\u001b[37m\u001b[0m \u001b[1m4s\u001b[0m 430us/step - accuracy: 0.8845 - loss: 0.3580 - val_accuracy: 0.8860 - val_loss: 0.3547\n",
      "Epoch 35/50\n",
      "\u001b[1m9471/9471\u001b[0m \u001b[32m━━━━━━━━━━━━━━━━━━━━\u001b[0m\u001b[37m\u001b[0m \u001b[1m4s\u001b[0m 429us/step - accuracy: 0.8828 - loss: 0.3613 - val_accuracy: 0.8860 - val_loss: 0.3547\n",
      "Epoch 36/50\n",
      "\u001b[1m9471/9471\u001b[0m \u001b[32m━━━━━━━━━━━━━━━━━━━━\u001b[0m\u001b[37m\u001b[0m \u001b[1m4s\u001b[0m 430us/step - accuracy: 0.8821 - loss: 0.3627 - val_accuracy: 0.8860 - val_loss: 0.3547\n",
      "Epoch 37/50\n",
      "\u001b[1m9471/9471\u001b[0m \u001b[32m━━━━━━━━━━━━━━━━━━━━\u001b[0m\u001b[37m\u001b[0m \u001b[1m4s\u001b[0m 437us/step - accuracy: 0.8832 - loss: 0.3605 - val_accuracy: 0.8860 - val_loss: 0.3549\n",
      "Epoch 38/50\n",
      "\u001b[1m9471/9471\u001b[0m \u001b[32m━━━━━━━━━━━━━━━━━━━━\u001b[0m\u001b[37m\u001b[0m \u001b[1m4s\u001b[0m 429us/step - accuracy: 0.8808 - loss: 0.3653 - val_accuracy: 0.8860 - val_loss: 0.3547\n",
      "Epoch 39/50\n",
      "\u001b[1m9471/9471\u001b[0m \u001b[32m━━━━━━━━━━━━━━━━━━━━\u001b[0m\u001b[37m\u001b[0m \u001b[1m4s\u001b[0m 430us/step - accuracy: 0.8838 - loss: 0.3594 - val_accuracy: 0.8860 - val_loss: 0.3549\n",
      "Epoch 40/50\n",
      "\u001b[1m9471/9471\u001b[0m \u001b[32m━━━━━━━━━━━━━━━━━━━━\u001b[0m\u001b[37m\u001b[0m \u001b[1m4s\u001b[0m 443us/step - accuracy: 0.8812 - loss: 0.3646 - val_accuracy: 0.8860 - val_loss: 0.3548\n",
      "Epoch 41/50\n",
      "\u001b[1m9471/9471\u001b[0m \u001b[32m━━━━━━━━━━━━━━━━━━━━\u001b[0m\u001b[37m\u001b[0m \u001b[1m4s\u001b[0m 439us/step - accuracy: 0.8848 - loss: 0.3572 - val_accuracy: 0.8860 - val_loss: 0.3548\n",
      "Epoch 42/50\n",
      "\u001b[1m9471/9471\u001b[0m \u001b[32m━━━━━━━━━━━━━━━━━━━━\u001b[0m\u001b[37m\u001b[0m \u001b[1m4s\u001b[0m 433us/step - accuracy: 0.8829 - loss: 0.3611 - val_accuracy: 0.8860 - val_loss: 0.3547\n",
      "Epoch 43/50\n",
      "\u001b[1m9471/9471\u001b[0m \u001b[32m━━━━━━━━━━━━━━━━━━━━\u001b[0m\u001b[37m\u001b[0m \u001b[1m4s\u001b[0m 440us/step - accuracy: 0.8825 - loss: 0.3619 - val_accuracy: 0.8860 - val_loss: 0.3547\n",
      "Epoch 44/50\n",
      "\u001b[1m9471/9471\u001b[0m \u001b[32m━━━━━━━━━━━━━━━━━━━━\u001b[0m\u001b[37m\u001b[0m \u001b[1m4s\u001b[0m 431us/step - accuracy: 0.8831 - loss: 0.3607 - val_accuracy: 0.8860 - val_loss: 0.3548\n",
      "Epoch 45/50\n",
      "\u001b[1m9471/9471\u001b[0m \u001b[32m━━━━━━━━━━━━━━━━━━━━\u001b[0m\u001b[37m\u001b[0m \u001b[1m4s\u001b[0m 435us/step - accuracy: 0.8838 - loss: 0.3594 - val_accuracy: 0.8860 - val_loss: 0.3547\n",
      "Epoch 46/50\n",
      "\u001b[1m9471/9471\u001b[0m \u001b[32m━━━━━━━━━━━━━━━━━━━━\u001b[0m\u001b[37m\u001b[0m \u001b[1m4s\u001b[0m 445us/step - accuracy: 0.8839 - loss: 0.3591 - val_accuracy: 0.8860 - val_loss: 0.3548\n",
      "Epoch 47/50\n",
      "\u001b[1m9471/9471\u001b[0m \u001b[32m━━━━━━━━━━━━━━━━━━━━\u001b[0m\u001b[37m\u001b[0m \u001b[1m4s\u001b[0m 440us/step - accuracy: 0.8832 - loss: 0.3606 - val_accuracy: 0.8860 - val_loss: 0.3548\n",
      "Epoch 48/50\n",
      "\u001b[1m9471/9471\u001b[0m \u001b[32m━━━━━━━━━━━━━━━━━━━━\u001b[0m\u001b[37m\u001b[0m \u001b[1m4s\u001b[0m 430us/step - accuracy: 0.8823 - loss: 0.3624 - val_accuracy: 0.8860 - val_loss: 0.3548\n",
      "Epoch 49/50\n",
      "\u001b[1m9471/9471\u001b[0m \u001b[32m━━━━━━━━━━━━━━━━━━━━\u001b[0m\u001b[37m\u001b[0m \u001b[1m4s\u001b[0m 433us/step - accuracy: 0.8815 - loss: 0.3639 - val_accuracy: 0.8860 - val_loss: 0.3547\n",
      "Epoch 50/50\n",
      "\u001b[1m9471/9471\u001b[0m \u001b[32m━━━━━━━━━━━━━━━━━━━━\u001b[0m\u001b[37m\u001b[0m \u001b[1m4s\u001b[0m 428us/step - accuracy: 0.8830 - loss: 0.3610 - val_accuracy: 0.8860 - val_loss: 0.3547\n"
     ]
    }
   ],
   "source": [
    "history = model.fit(X_train, y_train, batch_size=10, epochs=50, validation_split=0.2)"
   ]
  },
  {
   "cell_type": "markdown",
   "id": "20ce9661",
   "metadata": {},
   "source": [
    "## Evaluate the Model\n",
    "Evaluate the performance of the model on the test set."
   ]
  },
  {
   "cell_type": "code",
   "execution_count": 30,
   "id": "73167afc",
   "metadata": {},
   "outputs": [
    {
     "name": "stdout",
     "output_type": "stream",
     "text": [
      "\u001b[1m925/925\u001b[0m \u001b[32m━━━━━━━━━━━━━━━━━━━━\u001b[0m\u001b[37m\u001b[0m \u001b[1m0s\u001b[0m 297us/step - accuracy: 0.8859 - loss: 0.3550\n"
     ]
    },
    {
     "data": {
      "text/plain": [
       "[0.35272154211997986, 0.8870755434036255]"
      ]
     },
     "execution_count": 30,
     "metadata": {},
     "output_type": "execute_result"
    }
   ],
   "source": [
    "model.evaluate(X_test,y_test )"
   ]
  },
  {
   "cell_type": "markdown",
   "id": "08e9bc87",
   "metadata": {},
   "source": [
    "## Make Predictions\n",
    "Use the trained model to make predictions on new or unseen data."
   ]
  },
  {
   "cell_type": "code",
   "execution_count": 51,
   "id": "940fa394",
   "metadata": {},
   "outputs": [
    {
     "name": "stdout",
     "output_type": "stream",
     "text": [
      "\u001b[1m925/925\u001b[0m \u001b[32m━━━━━━━━━━━━━━━━━━━━\u001b[0m\u001b[37m\u001b[0m \u001b[1m0s\u001b[0m 260us/step\n",
      "              precision    recall  f1-score   support\n",
      "\n",
      "           0       0.11      1.00      0.20      3342\n",
      "           1       0.00      0.00      0.00     26253\n",
      "\n",
      "    accuracy                           0.11     29595\n",
      "   macro avg       0.06      0.50      0.10     29595\n",
      "weighted avg       0.01      0.11      0.02     29595\n",
      "\n"
     ]
    },
    {
     "name": "stderr",
     "output_type": "stream",
     "text": [
      "/opt/anaconda3/lib/python3.12/site-packages/sklearn/metrics/_classification.py:1531: UndefinedMetricWarning: Precision is ill-defined and being set to 0.0 in labels with no predicted samples. Use `zero_division` parameter to control this behavior.\n",
      "  _warn_prf(average, modifier, f\"{metric.capitalize()} is\", len(result))\n",
      "/opt/anaconda3/lib/python3.12/site-packages/sklearn/metrics/_classification.py:1531: UndefinedMetricWarning: Precision is ill-defined and being set to 0.0 in labels with no predicted samples. Use `zero_division` parameter to control this behavior.\n",
      "  _warn_prf(average, modifier, f\"{metric.capitalize()} is\", len(result))\n",
      "/opt/anaconda3/lib/python3.12/site-packages/sklearn/metrics/_classification.py:1531: UndefinedMetricWarning: Precision is ill-defined and being set to 0.0 in labels with no predicted samples. Use `zero_division` parameter to control this behavior.\n",
      "  _warn_prf(average, modifier, f\"{metric.capitalize()} is\", len(result))\n"
     ]
    }
   ],
   "source": [
    "y_pred = model.predict(X_test)\n",
    "y_pred_classes = np.argmax(y_pred, axis=1)\n",
    "\n",
    "print(classification_report(y_test, y_pred_classes))"
   ]
  },
  {
   "cell_type": "markdown",
   "id": "94942463",
   "metadata": {},
   "source": [
    "## Model Performance Visualization\n",
    "Visualize the performance metrics such as accuracy and loss over the epochs."
   ]
  },
  {
   "cell_type": "code",
   "execution_count": 67,
   "id": "b1955952",
   "metadata": {},
   "outputs": [
    {
     "data": {
      "image/png": "[encoded data removed]",
      "text/plain": [
       "<Figure size 1000x500 with 2 Axes>"
      ]
     },
     "metadata": {},
     "output_type": "display_data"
    }
   ],
   "source": [
    "plt.figure(figsize=[10,5])\n",
    "\n",
    "#accuracy\n",
    "plt.subplot(1,2,1)\n",
    "plt.plot(history.history['accuracy'], label = 'trainning acc')\n",
    "plt.plot(history.history['val_accuracy'], label = 'validation acc')\n",
    "plt.title('accuracy')\n",
    "plt.xlabel('epochs')\n",
    "plt.ylabel('accuracy')\n",
    "plt.legend()\n",
    "\n",
    "\n",
    "#loss\n",
    "plt.subplot(1,2,2)\n",
    "plt.plot(history.history['loss'], label = 'trainning loss')\n",
    "plt.plot(history.history['val_loss'], label = 'validation loss')\n",
    "plt.title('loss')\n",
    "plt.xlabel('epochs')\n",
    "plt.ylabel('loss')\n",
    "plt.legend()\n",
    "\n",
    "plt.tight_layout()\n",
    "plt.show()"
   ]
  },
  {
   "cell_type": "markdown",
   "id": "1d32965f",
   "metadata": {},
   "source": [
    "## Save the Model\n",
    "Save the trained model for submission."
   ]
  },
  {
   "cell_type": "code",
   "execution_count": 71,
   "id": "a4e1f00e",
   "metadata": {},
   "outputs": [],
   "source": [
    "model.save('my_model.keras')"
   ]
  },
  {
   "cell_type": "markdown",
   "id": "9ebe9b8d",
   "metadata": {},
   "source": [
    "## Project Questions:\n",
    "\n",
    "1. **Data Preprocessing**: Explain why you chose your specific data preprocessing techniques (e.g., normalization, encoding). How did these techniques help prepare the data for training the model?\n",
    "2. **Model Architecture**: Describe the reasoning behind your model’s architecture (e.g., the number of layers, type of layers, number of neurons, and activation functions). Why did you believe this architecture was appropriate for the problem at hand?\n",
    "3. **Training Process**: Discuss why you chose your batch size, number of epochs, and optimizer. How did these choices affect the training process? Did you experiment with different values, and what were the outcomes?\n",
    "4. **Loss Function and Metrics**: Why did you choose the specific loss function and evaluation metrics? How do they align with the objective of the task (e.g., regression vs classification)?\n",
    "5. **Regularization Techniques**: If you used regularization techniques such as dropout or weight decay, explain why you implemented them and how they influenced the model's performance.\n",
    "6. **Model Evaluation**: Justify your approach to evaluating the model. Why did you choose the specific performance metrics, and how do they reflect the model's success in solving the task?\n",
    "7. **Model Tuning (If Done)**: Describe any tuning you performed (e.g., hyperparameter tuning) and why you felt it was necessary. How did these adjustments improve model performance?\n",
    "8. **Overfitting and Underfitting**: Analyze whether the model encountered any overfitting or underfitting during training. What strategies could you implement to mitigate these issues?"
   ]
  },
  {
   "cell_type": "code",
   "execution_count": null,
   "id": "f1e41deb-e675-44ac-b21f-55661baf59b3",
   "metadata": {},
   "outputs": [],
   "source": [
    "#1- "
   ]
  },
  {
   "cell_type": "markdown",
   "id": "5f524a61",
   "metadata": {},
   "source": [
    "### Answer Here:"
   ]
  }
 ],
 "metadata": {
  "kernelspec": {
   "display_name": "Python 3 (ipykernel)",
   "language": "python",
   "name": "python3"
  },
  "language_info": {
   "codemirror_mode": {
    "name": "ipython",
    "version": 3
   },
   "file_extension": ".py",
   "mimetype": "text/x-python",
   "name": "python",
   "nbconvert_exporter": "python",
   "pygments_lexer": "ipython3",
   "version": "3.12.2"
  }
 },
 "nbformat": 4,
 "nbformat_minor": 5
}
