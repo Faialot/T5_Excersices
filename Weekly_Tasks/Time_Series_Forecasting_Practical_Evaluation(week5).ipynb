{
  "cells": [
    {
      "cell_type": "markdown",
      "id": "3e2b26be",
      "metadata": {
        "id": "3e2b26be"
      },
      "source": [
        "# Time Series Forecasting Exam\n",
        "\n",
        "In this exam, you will work on a time series forecasting task. The goal is to go through the entire workflow from loading the data to evaluating the model and making predictions. Follow each step carefully. The dataset is stored in you can access it [here](https://www.kaggle.com/datasets/khaledzsa/traffic-dataset), the target is to predict `traffic_volume` column. There is also command to download the dataset below.\n",
        "\n",
        "## Dataset: Traffic Dataset\n",
        "\n",
        "### Dataset Overview:\n",
        "\n",
        "- **Name**: Traffic Dataset\n",
        "- **Description**: This dataset contains hourly data on the traffic volume for westbound I-94, a major interstate highway in the US that connects Minneapolis and St Paul, Minnesota. The data was collected by the Minnesota Department of Transportation (MnDOT) from 2012 to 2018 at a station roughly midway between the two cities.\n",
        "- **Time Period**: Starting from 18-11-2016\n",
        "- **Frequency**: Hourly observations\n",
        "\n",
        "### Features:\n",
        "\n",
        "1. **temp:** a numeric variable that shows the average temperature in kelvin.\n",
        "2. **rain_1h:** a numeric variable that shows the amount of rain in mm that occurred in the hour.\n",
        "3. **snow_1h:** a numeric variable that shows the amount of snow in mm that occurred in the hour.\n",
        "4. **clouds_all:** a numeric variable that shows the percentage of cloud cover.\n",
        "5. **weather_main:** a categorical variable that gives a short textual description of the current weather (such as Clear, Clouds, Rain, etc.).\n",
        "6. **weather_description:** a categorical variable that gives a longer textual description of the current weather (such as light rain, overcast clouds, etc.).\n",
        "7. **date_time:** a datetime variable that shows the hour of the data collected in local CST time.\n",
        "8. **traffic_volume:** a numeric variable that shows the hourly I-94 reported westbound traffic volume.\n",
        "\n",
        "#### Feel free to add or rearrange steps as you see fit to optimize your workflow. One additional note: the model's performance doesn't need to be 100% accurate. Instead, focus on achieving the best possible results while balancing performance and generalization."
      ]
    },
    {
      "cell_type": "code",
      "execution_count": null,
      "id": "Hme1ycv_AJYu",
      "metadata": {
        "id": "Hme1ycv_AJYu"
      },
      "outputs": [],
      "source": [
        "\n",
        "# Importing required libraries\n",
        "import numpy as np\n",
        "import pandas as pd\n",
        "import matplotlib.pyplot as plt\n",
        "from statsmodels.tsa.seasonal import seasonal_decompose\n",
        "from sklearn.model_selection import train_test_split\n",
        "from sklearn.preprocessing import MinMaxScaler\n",
        "from sklearn.preprocessing import StandardScaler\n",
        "from sklearn.preprocessing import OneHotEncoder, LabelEncoder\n",
        "\n",
        "from keras.models import Sequential\n",
        "from keras.layers import LSTM, Dense\n",
        "from sklearn.metrics import mean_absolute_error, mean_squared_error\n",
        "from tensorflow.keras import optimizers\n",
        "from sklearn.model_selection import train_test_split\n",
        "from keras.layers import Dense, LSTM, Dropout, GRU\n",
        "from sklearn.metrics import mean_squared_error, mean_absolute_error, r2_score\n",
        "from keras.layers import SimpleRNN\n"
      ]
    },
    {
      "cell_type": "markdown",
      "id": "9d58f5eb",
      "metadata": {
        "id": "9d58f5eb"
      },
      "source": [
        "## Load the Data\n",
        "\n",
        "Load the time series dataset into a pandas DataFrame.\n",
        "\n",
        "**Instructions:**\n",
        "- Use `pandas` to load your dataset.\n",
        "- Display the first few rows to understand its structure.\n",
        "- Make sure the datetime column is correctly parsed."
      ]
    },
    {
      "cell_type": "code",
      "execution_count": null,
      "id": "tJG6da7n3tYZ",
      "metadata": {
        "colab": {
          "base_uri": "https://localhost:8080/"
        },
        "id": "tJG6da7n3tYZ",
        "outputId": "396223dc-edad-42fe-f4ee-f410167e95f6"
      },
      "outputs": [
        {
          "name": "stdout",
          "output_type": "stream",
          "text": [
            "Dataset URL: https://www.kaggle.com/datasets/khaledzsa/traffic-dataset\n",
            "License(s): unknown\n",
            "Downloading traffic-dataset.zip to /content\n",
            "  0% 0.00/235k [00:00<?, ?B/s]\n",
            "100% 235k/235k [00:00<00:00, 85.7MB/s]\n",
            "Archive:  traffic-dataset.zip\n",
            "  inflating: Traffic Data.csv        \n"
          ]
        }
      ],
      "source": [
        "# Here is a helping code that will download and unzip the dataset for you.\n",
        "# Once you download the dataset you may comment the code!\n",
        "!kaggle datasets download -d khaledzsa/traffic-dataset\n",
        "!unzip traffic-dataset.zip"
      ]
    },
    {
      "cell_type": "code",
      "execution_count": 160,
      "id": "aeb78ac1",
      "metadata": {
        "id": "aeb78ac1"
      },
      "outputs": [],
      "source": [
        "df = pd.read_csv('/content/Traffic Data.csv',index_col ='date_time',parse_dates = True)\n"
      ]
    },
    {
      "cell_type": "markdown",
      "id": "c3122466",
      "metadata": {
        "id": "c3122466"
      },
      "source": [
        "## Exploratory Data Analysis (EDA)\n",
        "\n",
        "Perform exploratory data analysis on the dataset.\n",
        "\n",
        "**Instructions:**\n",
        "- Plot the time series data.\n",
        "- Analyze trends, seasonality, and potential outliers.\n",
        "- Plot boxplots or scatter plots to identify any outliers or anomalies in the data.\n",
        "- Seasonal Decomposition: Use `seasonal_decompose` from the `statsmodels` library to break down the time series data into trend, seasonality, and residual components. Analyze each component to gain insights into the long-term movement (trend), regular patterns (seasonality), and remaining fluctuations (residuals).\n",
        "\n",
        "Do more if needed!"
      ]
    },
    {
      "cell_type": "code",
      "execution_count": 161,
      "id": "05f6fffa",
      "metadata": {
        "colab": {
          "base_uri": "https://localhost:8080/"
        },
        "id": "05f6fffa",
        "outputId": "82b135fd-c614-4216-c520-d1221abd6f8e"
      },
      "outputs": [
        {
          "name": "stdout",
          "output_type": "stream",
          "text": [
            "<class 'pandas.core.frame.DataFrame'>\n",
            "DatetimeIndex: 20000 entries, 2017-08-27 01:00:00 to 2018-05-31 18:00:00\n",
            "Data columns (total 7 columns):\n",
            " #   Column               Non-Null Count  Dtype  \n",
            "---  ------               --------------  -----  \n",
            " 0   traffic_volume       19980 non-null  float64\n",
            " 1   temp                 20000 non-null  float64\n",
            " 2   rain_1h              20000 non-null  float64\n",
            " 3   snow_1h              20000 non-null  float64\n",
            " 4   clouds_all           20000 non-null  int64  \n",
            " 5   weather_main         20000 non-null  object \n",
            " 6   weather_description  20000 non-null  object \n",
            "dtypes: float64(4), int64(1), object(2)\n",
            "memory usage: 1.2+ MB\n"
          ]
        }
      ],
      "source": [
        "df.info()"
      ]
    },
    {
      "cell_type": "code",
      "execution_count": 162,
      "id": "WrYVAF7HAZGF",
      "metadata": {
        "colab": {
          "base_uri": "https://localhost:8080/",
          "height": 235
        },
        "id": "WrYVAF7HAZGF",
        "outputId": "8d9393d3-9606-4bb7-b6d7-570e16387515"
      },
      "outputs": [
        {
          "data": {
            "application/vnd.google.colaboratory.intrinsic+json": {
              "summary": "{\n  \"name\": \"df\",\n  \"rows\": 20000,\n  \"fields\": [\n    {\n      \"column\": \"date_time\",\n      \"properties\": {\n        \"dtype\": \"date\",\n        \"min\": \"2016-11-18 15:00:00\",\n        \"max\": \"2018-09-30 23:00:00\",\n        \"num_unique_values\": 16269,\n        \"samples\": [\n          \"2016-12-24 10:00:00\",\n          \"2017-06-16 05:00:00\",\n          \"2017-09-16 20:00:00\"\n        ],\n        \"semantic_type\": \"\",\n        \"description\": \"\"\n      }\n    },\n    {\n      \"column\": \"traffic_volume\",\n      \"properties\": {\n        \"dtype\": \"number\",\n        \"std\": 1977.1713566381657,\n        \"min\": 113.0,\n        \"max\": 16781.0,\n        \"num_unique_values\": 5754,\n        \"samples\": [\n          2816.0,\n          6722.0,\n          3569.0\n        ],\n        \"semantic_type\": \"\",\n        \"description\": \"\"\n      }\n    },\n    {\n      \"column\": \"temp\",\n      \"properties\": {\n        \"dtype\": \"number\",\n        \"std\": 12.6612879499204,\n        \"min\": 243.39,\n        \"max\": 310.07,\n        \"num_unique_values\": 3901,\n        \"samples\": [\n          286.45,\n          262.46,\n          260.76\n        ],\n        \"semantic_type\": \"\",\n        \"description\": \"\"\n      }\n    },\n    {\n      \"column\": \"rain_1h\",\n      \"properties\": {\n        \"dtype\": \"number\",\n        \"std\": 0.39800673492769245,\n        \"min\": 0.0,\n        \"max\": 10.6,\n        \"num_unique_values\": 87,\n        \"samples\": [\n          5.62,\n          0.0,\n          0.76\n        ],\n        \"semantic_type\": \"\",\n        \"description\": \"\"\n      }\n    },\n    {\n      \"column\": \"snow_1h\",\n      \"properties\": {\n        \"dtype\": \"number\",\n        \"std\": 0.0,\n        \"min\": 0.0,\n        \"max\": 0.0,\n        \"num_unique_values\": 1,\n        \"samples\": [\n          0.0\n        ],\n        \"semantic_type\": \"\",\n        \"description\": \"\"\n      }\n    },\n    {\n      \"column\": \"clouds_all\",\n      \"properties\": {\n        \"dtype\": \"number\",\n        \"std\": 39,\n        \"min\": 0,\n        \"max\": 92,\n        \"num_unique_values\": 21,\n        \"samples\": [\n          90\n        ],\n        \"semantic_type\": \"\",\n        \"description\": \"\"\n      }\n    },\n    {\n      \"column\": \"weather_main\",\n      \"properties\": {\n        \"dtype\": \"category\",\n        \"num_unique_values\": 10,\n        \"samples\": [\n          \"Haze\"\n        ],\n        \"semantic_type\": \"\",\n        \"description\": \"\"\n      }\n    },\n    {\n      \"column\": \"weather_description\",\n      \"properties\": {\n        \"dtype\": \"category\",\n        \"num_unique_values\": 34,\n        \"samples\": [\n          \"heavy intensity rain\"\n        ],\n        \"semantic_type\": \"\",\n        \"description\": \"\"\n      }\n    }\n  ]\n}",
              "type": "dataframe",
              "variable_name": "df"
            },
            "text/html": [
              "\n",
              "  <div id=\"df-d20ece77-609f-46c2-8a36-9305ca78cb2b\" class=\"colab-df-container\">\n",
              "    <div>\n",
              "<style scoped>\n",
              "    .dataframe tbody tr th:only-of-type {\n",
              "        vertical-align: middle;\n",
              "    }\n",
              "\n",
              "    .dataframe tbody tr th {\n",
              "        vertical-align: top;\n",
              "    }\n",
              "\n",
              "    .dataframe thead th {\n",
              "        text-align: right;\n",
              "    }\n",
              "</style>\n",
              "<table border=\"1\" class=\"dataframe\">\n",
              "  <thead>\n",
              "    <tr style=\"text-align: right;\">\n",
              "      <th></th>\n",
              "      <th>traffic_volume</th>\n",
              "      <th>temp</th>\n",
              "      <th>rain_1h</th>\n",
              "      <th>snow_1h</th>\n",
              "      <th>clouds_all</th>\n",
              "      <th>weather_main</th>\n",
              "      <th>weather_description</th>\n",
              "    </tr>\n",
              "    <tr>\n",
              "      <th>date_time</th>\n",
              "      <th></th>\n",
              "      <th></th>\n",
              "      <th></th>\n",
              "      <th></th>\n",
              "      <th></th>\n",
              "      <th></th>\n",
              "      <th></th>\n",
              "    </tr>\n",
              "  </thead>\n",
              "  <tbody>\n",
              "    <tr>\n",
              "      <th>2017-08-27 01:00:00</th>\n",
              "      <td>1209.0</td>\n",
              "      <td>291.15</td>\n",
              "      <td>0.0</td>\n",
              "      <td>0.0</td>\n",
              "      <td>90</td>\n",
              "      <td>Mist</td>\n",
              "      <td>mist</td>\n",
              "    </tr>\n",
              "    <tr>\n",
              "      <th>2018-09-06 23:00:00</th>\n",
              "      <td>1248.0</td>\n",
              "      <td>286.01</td>\n",
              "      <td>0.0</td>\n",
              "      <td>0.0</td>\n",
              "      <td>1</td>\n",
              "      <td>Clear</td>\n",
              "      <td>sky is clear</td>\n",
              "    </tr>\n",
              "    <tr>\n",
              "      <th>2017-08-25 18:00:00</th>\n",
              "      <td>4602.0</td>\n",
              "      <td>293.69</td>\n",
              "      <td>0.0</td>\n",
              "      <td>0.0</td>\n",
              "      <td>75</td>\n",
              "      <td>Clouds</td>\n",
              "      <td>broken clouds</td>\n",
              "    </tr>\n",
              "    <tr>\n",
              "      <th>2017-11-09 22:00:00</th>\n",
              "      <td>2838.0</td>\n",
              "      <td>262.35</td>\n",
              "      <td>0.0</td>\n",
              "      <td>0.0</td>\n",
              "      <td>1</td>\n",
              "      <td>Clear</td>\n",
              "      <td>sky is clear</td>\n",
              "    </tr>\n",
              "    <tr>\n",
              "      <th>2017-11-09 15:00:00</th>\n",
              "      <td>5794.0</td>\n",
              "      <td>267.08</td>\n",
              "      <td>0.0</td>\n",
              "      <td>0.0</td>\n",
              "      <td>5</td>\n",
              "      <td>Clear</td>\n",
              "      <td>sky is clear</td>\n",
              "    </tr>\n",
              "  </tbody>\n",
              "</table>\n",
              "</div>\n",
              "    <div class=\"colab-df-buttons\">\n",
              "\n",
              "  <div class=\"colab-df-container\">\n",
              "    <button class=\"colab-df-convert\" onclick=\"convertToInteractive('df-d20ece77-609f-46c2-8a36-9305ca78cb2b')\"\n",
              "            title=\"Convert this dataframe to an interactive table.\"\n",
              "            style=\"display:none;\">\n",
              "\n",
              "  <svg xmlns=\"http://www.w3.org/2000/svg\" height=\"24px\" viewBox=\"0 -960 960 960\">\n",
              "    <path d=\"M120-120v-720h720v720H120Zm60-500h600v-160H180v160Zm220 220h160v-160H400v160Zm0 220h160v-160H400v160ZM180-400h160v-160H180v160Zm440 0h160v-160H620v160ZM180-180h160v-160H180v160Zm440 0h160v-160H620v160Z\"/>\n",
              "  </svg>\n",
              "    </button>\n",
              "\n",
              "  <style>\n",
              "    .colab-df-container {\n",
              "      display:flex;\n",
              "      gap: 12px;\n",
              "    }\n",
              "\n",
              "    .colab-df-convert {\n",
              "      background-color: #E8F0FE;\n",
              "      border: none;\n",
              "      border-radius: 50%;\n",
              "      cursor: pointer;\n",
              "      display: none;\n",
              "      fill: #1967D2;\n",
              "      height: 32px;\n",
              "      padding: 0 0 0 0;\n",
              "      width: 32px;\n",
              "    }\n",
              "\n",
              "    .colab-df-convert:hover {\n",
              "      background-color: #E2EBFA;\n",
              "      box-shadow: 0px 1px 2px rgba(60, 64, 67, 0.3), 0px 1px 3px 1px rgba(60, 64, 67, 0.15);\n",
              "      fill: #174EA6;\n",
              "    }\n",
              "\n",
              "    .colab-df-buttons div {\n",
              "      margin-bottom: 4px;\n",
              "    }\n",
              "\n",
              "    [theme=dark] .colab-df-convert {\n",
              "      background-color: #3B4455;\n",
              "      fill: #D2E3FC;\n",
              "    }\n",
              "\n",
              "    [theme=dark] .colab-df-convert:hover {\n",
              "      background-color: #434B5C;\n",
              "      box-shadow: 0px 1px 3px 1px rgba(0, 0, 0, 0.15);\n",
              "      filter: drop-shadow(0px 1px 2px rgba(0, 0, 0, 0.3));\n",
              "      fill: #FFFFFF;\n",
              "    }\n",
              "  </style>\n",
              "\n",
              "    <script>\n",
              "      const buttonEl =\n",
              "        document.querySelector('#df-d20ece77-609f-46c2-8a36-9305ca78cb2b button.colab-df-convert');\n",
              "      buttonEl.style.display =\n",
              "        google.colab.kernel.accessAllowed ? 'block' : 'none';\n",
              "\n",
              "      async function convertToInteractive(key) {\n",
              "        const element = document.querySelector('#df-d20ece77-609f-46c2-8a36-9305ca78cb2b');\n",
              "        const dataTable =\n",
              "          await google.colab.kernel.invokeFunction('convertToInteractive',\n",
              "                                                    [key], {});\n",
              "        if (!dataTable) return;\n",
              "\n",
              "        const docLinkHtml = 'Like what you see? Visit the ' +\n",
              "          '<a target=\"_blank\" href=https://colab.research.google.com/notebooks/data_table.ipynb>data table notebook</a>'\n",
              "          + ' to learn more about interactive tables.';\n",
              "        element.innerHTML = '';\n",
              "        dataTable['output_type'] = 'display_data';\n",
              "        await google.colab.output.renderOutput(dataTable, element);\n",
              "        const docLink = document.createElement('div');\n",
              "        docLink.innerHTML = docLinkHtml;\n",
              "        element.appendChild(docLink);\n",
              "      }\n",
              "    </script>\n",
              "  </div>\n",
              "\n",
              "\n",
              "<div id=\"df-24f821f0-1493-4ef4-9c0c-fc6359536b92\">\n",
              "  <button class=\"colab-df-quickchart\" onclick=\"quickchart('df-24f821f0-1493-4ef4-9c0c-fc6359536b92')\"\n",
              "            title=\"Suggest charts\"\n",
              "            style=\"display:none;\">\n",
              "\n",
              "<svg xmlns=\"http://www.w3.org/2000/svg\" height=\"24px\"viewBox=\"0 0 24 24\"\n",
              "     width=\"24px\">\n",
              "    <g>\n",
              "        <path d=\"M19 3H5c-1.1 0-2 .9-2 2v14c0 1.1.9 2 2 2h14c1.1 0 2-.9 2-2V5c0-1.1-.9-2-2-2zM9 17H7v-7h2v7zm4 0h-2V7h2v10zm4 0h-2v-4h2v4z\"/>\n",
              "    </g>\n",
              "</svg>\n",
              "  </button>\n",
              "\n",
              "<style>\n",
              "  .colab-df-quickchart {\n",
              "      --bg-color: #E8F0FE;\n",
              "      --fill-color: #1967D2;\n",
              "      --hover-bg-color: #E2EBFA;\n",
              "      --hover-fill-color: #174EA6;\n",
              "      --disabled-fill-color: #AAA;\n",
              "      --disabled-bg-color: #DDD;\n",
              "  }\n",
              "\n",
              "  [theme=dark] .colab-df-quickchart {\n",
              "      --bg-color: #3B4455;\n",
              "      --fill-color: #D2E3FC;\n",
              "      --hover-bg-color: #434B5C;\n",
              "      --hover-fill-color: #FFFFFF;\n",
              "      --disabled-bg-color: #3B4455;\n",
              "      --disabled-fill-color: #666;\n",
              "  }\n",
              "\n",
              "  .colab-df-quickchart {\n",
              "    background-color: var(--bg-color);\n",
              "    border: none;\n",
              "    border-radius: 50%;\n",
              "    cursor: pointer;\n",
              "    display: none;\n",
              "    fill: var(--fill-color);\n",
              "    height: 32px;\n",
              "    padding: 0;\n",
              "    width: 32px;\n",
              "  }\n",
              "\n",
              "  .colab-df-quickchart:hover {\n",
              "    background-color: var(--hover-bg-color);\n",
              "    box-shadow: 0 1px 2px rgba(60, 64, 67, 0.3), 0 1px 3px 1px rgba(60, 64, 67, 0.15);\n",
              "    fill: var(--button-hover-fill-color);\n",
              "  }\n",
              "\n",
              "  .colab-df-quickchart-complete:disabled,\n",
              "  .colab-df-quickchart-complete:disabled:hover {\n",
              "    background-color: var(--disabled-bg-color);\n",
              "    fill: var(--disabled-fill-color);\n",
              "    box-shadow: none;\n",
              "  }\n",
              "\n",
              "  .colab-df-spinner {\n",
              "    border: 2px solid var(--fill-color);\n",
              "    border-color: transparent;\n",
              "    border-bottom-color: var(--fill-color);\n",
              "    animation:\n",
              "      spin 1s steps(1) infinite;\n",
              "  }\n",
              "\n",
              "  @keyframes spin {\n",
              "    0% {\n",
              "      border-color: transparent;\n",
              "      border-bottom-color: var(--fill-color);\n",
              "      border-left-color: var(--fill-color);\n",
              "    }\n",
              "    20% {\n",
              "      border-color: transparent;\n",
              "      border-left-color: var(--fill-color);\n",
              "      border-top-color: var(--fill-color);\n",
              "    }\n",
              "    30% {\n",
              "      border-color: transparent;\n",
              "      border-left-color: var(--fill-color);\n",
              "      border-top-color: var(--fill-color);\n",
              "      border-right-color: var(--fill-color);\n",
              "    }\n",
              "    40% {\n",
              "      border-color: transparent;\n",
              "      border-right-color: var(--fill-color);\n",
              "      border-top-color: var(--fill-color);\n",
              "    }\n",
              "    60% {\n",
              "      border-color: transparent;\n",
              "      border-right-color: var(--fill-color);\n",
              "    }\n",
              "    80% {\n",
              "      border-color: transparent;\n",
              "      border-right-color: var(--fill-color);\n",
              "      border-bottom-color: var(--fill-color);\n",
              "    }\n",
              "    90% {\n",
              "      border-color: transparent;\n",
              "      border-bottom-color: var(--fill-color);\n",
              "    }\n",
              "  }\n",
              "</style>\n",
              "\n",
              "  <script>\n",
              "    async function quickchart(key) {\n",
              "      const quickchartButtonEl =\n",
              "        document.querySelector('#' + key + ' button');\n",
              "      quickchartButtonEl.disabled = true;  // To prevent multiple clicks.\n",
              "      quickchartButtonEl.classList.add('colab-df-spinner');\n",
              "      try {\n",
              "        const charts = await google.colab.kernel.invokeFunction(\n",
              "            'suggestCharts', [key], {});\n",
              "      } catch (error) {\n",
              "        console.error('Error during call to suggestCharts:', error);\n",
              "      }\n",
              "      quickchartButtonEl.classList.remove('colab-df-spinner');\n",
              "      quickchartButtonEl.classList.add('colab-df-quickchart-complete');\n",
              "    }\n",
              "    (() => {\n",
              "      let quickchartButtonEl =\n",
              "        document.querySelector('#df-24f821f0-1493-4ef4-9c0c-fc6359536b92 button');\n",
              "      quickchartButtonEl.style.display =\n",
              "        google.colab.kernel.accessAllowed ? 'block' : 'none';\n",
              "    })();\n",
              "  </script>\n",
              "</div>\n",
              "\n",
              "    </div>\n",
              "  </div>\n"
            ],
            "text/plain": [
              "                     traffic_volume    temp  rain_1h  snow_1h  clouds_all  \\\n",
              "date_time                                                                   \n",
              "2017-08-27 01:00:00          1209.0  291.15      0.0      0.0          90   \n",
              "2018-09-06 23:00:00          1248.0  286.01      0.0      0.0           1   \n",
              "2017-08-25 18:00:00          4602.0  293.69      0.0      0.0          75   \n",
              "2017-11-09 22:00:00          2838.0  262.35      0.0      0.0           1   \n",
              "2017-11-09 15:00:00          5794.0  267.08      0.0      0.0           5   \n",
              "\n",
              "                    weather_main weather_description  \n",
              "date_time                                             \n",
              "2017-08-27 01:00:00         Mist                mist  \n",
              "2018-09-06 23:00:00        Clear        sky is clear  \n",
              "2017-08-25 18:00:00       Clouds       broken clouds  \n",
              "2017-11-09 22:00:00        Clear        sky is clear  \n",
              "2017-11-09 15:00:00        Clear        sky is clear  "
            ]
          },
          "execution_count": 162,
          "metadata": {},
          "output_type": "execute_result"
        }
      ],
      "source": [
        "df.head()"
      ]
    },
    {
      "cell_type": "code",
      "execution_count": 163,
      "id": "M76LZjVdX1IA",
      "metadata": {
        "colab": {
          "base_uri": "https://localhost:8080/",
          "height": 452
        },
        "id": "M76LZjVdX1IA",
        "outputId": "0fa5161c-032c-4412-a87c-fdafd87ec093"
      },
      "outputs": [
        {
          "data": {
            "image/png": "[encoded data removed]",
            "text/plain": [
              "<Figure size 640x480 with 1 Axes>"
            ]
          },
          "metadata": {},
          "output_type": "display_data"
        }
      ],
      "source": [
        "# @title traffic_volume\n",
        "\n",
        "from matplotlib import pyplot as plt\n",
        "df['traffic_volume'].plot(kind='hist', bins=20, title='traffic_volume')\n",
        "plt.gca().spines[['top', 'right',]].set_visible(False)"
      ]
    },
    {
      "cell_type": "code",
      "execution_count": 164,
      "id": "To2lpWDQXtEd",
      "metadata": {
        "colab": {
          "base_uri": "https://localhost:8080/",
          "height": 452
        },
        "id": "To2lpWDQXtEd",
        "outputId": "f4030242-6378-4faf-d4a3-4f606101fb93"
      },
      "outputs": [
        {
          "data": {
            "image/png": "[encoded data removed]",
            "text/plain": [
              "<Figure size 640x480 with 1 Axes>"
            ]
          },
          "metadata": {},
          "output_type": "display_data"
        }
      ],
      "source": [
        "# @title temp\n",
        "\n",
        "from matplotlib import pyplot as plt\n",
        "df['temp'].plot(kind='hist', bins=20, title='temp')\n",
        "plt.gca().spines[['top', 'right',]].set_visible(False)"
      ]
    },
    {
      "cell_type": "code",
      "execution_count": 165,
      "id": "mOlQSh0qAb9Q",
      "metadata": {
        "colab": {
          "base_uri": "https://localhost:8080/",
          "height": 300
        },
        "id": "mOlQSh0qAb9Q",
        "outputId": "c8f23930-9e66-4a1a-c78c-38f5c278e44a"
      },
      "outputs": [
        {
          "data": {
            "text/html": [
              "<div>\n",
              "<style scoped>\n",
              "    .dataframe tbody tr th:only-of-type {\n",
              "        vertical-align: middle;\n",
              "    }\n",
              "\n",
              "    .dataframe tbody tr th {\n",
              "        vertical-align: top;\n",
              "    }\n",
              "\n",
              "    .dataframe thead th {\n",
              "        text-align: right;\n",
              "    }\n",
              "</style>\n",
              "<table border=\"1\" class=\"dataframe\">\n",
              "  <thead>\n",
              "    <tr style=\"text-align: right;\">\n",
              "      <th></th>\n",
              "      <th>0</th>\n",
              "    </tr>\n",
              "  </thead>\n",
              "  <tbody>\n",
              "    <tr>\n",
              "      <th>traffic_volume</th>\n",
              "      <td>20</td>\n",
              "    </tr>\n",
              "    <tr>\n",
              "      <th>temp</th>\n",
              "      <td>0</td>\n",
              "    </tr>\n",
              "    <tr>\n",
              "      <th>rain_1h</th>\n",
              "      <td>0</td>\n",
              "    </tr>\n",
              "    <tr>\n",
              "      <th>snow_1h</th>\n",
              "      <td>0</td>\n",
              "    </tr>\n",
              "    <tr>\n",
              "      <th>clouds_all</th>\n",
              "      <td>0</td>\n",
              "    </tr>\n",
              "    <tr>\n",
              "      <th>weather_main</th>\n",
              "      <td>0</td>\n",
              "    </tr>\n",
              "    <tr>\n",
              "      <th>weather_description</th>\n",
              "      <td>0</td>\n",
              "    </tr>\n",
              "  </tbody>\n",
              "</table>\n",
              "</div><br><label><b>dtype:</b> int64</label>"
            ],
            "text/plain": [
              "traffic_volume         20\n",
              "temp                    0\n",
              "rain_1h                 0\n",
              "snow_1h                 0\n",
              "clouds_all              0\n",
              "weather_main            0\n",
              "weather_description     0\n",
              "dtype: int64"
            ]
          },
          "execution_count": 165,
          "metadata": {},
          "output_type": "execute_result"
        }
      ],
      "source": [
        "df.isnull().sum()"
      ]
    },
    {
      "cell_type": "code",
      "execution_count": 166,
      "id": "Epcg5cQ4BRl8",
      "metadata": {
        "colab": {
          "base_uri": "https://localhost:8080/"
        },
        "id": "Epcg5cQ4BRl8",
        "outputId": "66646f80-473f-4421-9356-78a6defb4397"
      },
      "outputs": [
        {
          "data": {
            "text/plain": [
              "18"
            ]
          },
          "execution_count": 166,
          "metadata": {},
          "output_type": "execute_result"
        }
      ],
      "source": [
        "df.duplicated().sum()"
      ]
    },
    {
      "cell_type": "code",
      "execution_count": 167,
      "id": "tlfUc55sBaAN",
      "metadata": {
        "id": "tlfUc55sBaAN"
      },
      "outputs": [],
      "source": [
        "df.drop_duplicates(keep=False, inplace=True)"
      ]
    },
    {
      "cell_type": "code",
      "execution_count": 168,
      "id": "QpAdJRStBfBX",
      "metadata": {
        "colab": {
          "base_uri": "https://localhost:8080/"
        },
        "id": "QpAdJRStBfBX",
        "outputId": "bde017a5-f4c2-4922-e2e3-128ca4513f83"
      },
      "outputs": [
        {
          "data": {
            "text/plain": [
              "0"
            ]
          },
          "execution_count": 168,
          "metadata": {},
          "output_type": "execute_result"
        }
      ],
      "source": [
        "df.duplicated().sum()"
      ]
    },
    {
      "cell_type": "markdown",
      "id": "5827fb18",
      "metadata": {
        "id": "5827fb18"
      },
      "source": [
        "## Data Preprocessing\n",
        "\n",
        "Clean and preprocess the data.\n",
        "\n",
        "**Instructions:**\n",
        "- Handle any missing values in the dataset.\n",
        "- If necessary, resample the data to ensure consistent time intervals.\n",
        "- Create any additional features needed, such as lags or moving averages.\n",
        "- Make sure that the dates are sorted correctly.\n",
        "\n",
        "Do more if needed!"
      ]
    },
    {
      "cell_type": "code",
      "execution_count": 169,
      "id": "c27410bc",
      "metadata": {
        "id": "c27410bc"
      },
      "outputs": [],
      "source": [
        "df['traffic_volume'].fillna(df['traffic_volume'].mean(), inplace = True)\n"
      ]
    },
    {
      "cell_type": "code",
      "execution_count": 170,
      "id": "PZyjI_3WA0va",
      "metadata": {
        "colab": {
          "base_uri": "https://localhost:8080/",
          "height": 300
        },
        "id": "PZyjI_3WA0va",
        "outputId": "12cf6bb5-2418-47c1-f626-c8a594374a77"
      },
      "outputs": [
        {
          "data": {
            "text/html": [
              "<div>\n",
              "<style scoped>\n",
              "    .dataframe tbody tr th:only-of-type {\n",
              "        vertical-align: middle;\n",
              "    }\n",
              "\n",
              "    .dataframe tbody tr th {\n",
              "        vertical-align: top;\n",
              "    }\n",
              "\n",
              "    .dataframe thead th {\n",
              "        text-align: right;\n",
              "    }\n",
              "</style>\n",
              "<table border=\"1\" class=\"dataframe\">\n",
              "  <thead>\n",
              "    <tr style=\"text-align: right;\">\n",
              "      <th></th>\n",
              "      <th>0</th>\n",
              "    </tr>\n",
              "  </thead>\n",
              "  <tbody>\n",
              "    <tr>\n",
              "      <th>traffic_volume</th>\n",
              "      <td>0</td>\n",
              "    </tr>\n",
              "    <tr>\n",
              "      <th>temp</th>\n",
              "      <td>0</td>\n",
              "    </tr>\n",
              "    <tr>\n",
              "      <th>rain_1h</th>\n",
              "      <td>0</td>\n",
              "    </tr>\n",
              "    <tr>\n",
              "      <th>snow_1h</th>\n",
              "      <td>0</td>\n",
              "    </tr>\n",
              "    <tr>\n",
              "      <th>clouds_all</th>\n",
              "      <td>0</td>\n",
              "    </tr>\n",
              "    <tr>\n",
              "      <th>weather_main</th>\n",
              "      <td>0</td>\n",
              "    </tr>\n",
              "    <tr>\n",
              "      <th>weather_description</th>\n",
              "      <td>0</td>\n",
              "    </tr>\n",
              "  </tbody>\n",
              "</table>\n",
              "</div><br><label><b>dtype:</b> int64</label>"
            ],
            "text/plain": [
              "traffic_volume         0\n",
              "temp                   0\n",
              "rain_1h                0\n",
              "snow_1h                0\n",
              "clouds_all             0\n",
              "weather_main           0\n",
              "weather_description    0\n",
              "dtype: int64"
            ]
          },
          "execution_count": 170,
          "metadata": {},
          "output_type": "execute_result"
        }
      ],
      "source": [
        "df.isnull().sum()"
      ]
    },
    {
      "cell_type": "code",
      "execution_count": null,
      "id": "CI5tEkWFFes9",
      "metadata": {
        "id": "CI5tEkWFFes9"
      },
      "outputs": [],
      "source": []
    },
    {
      "cell_type": "code",
      "execution_count": 171,
      "id": "NseIpdnaBFCQ",
      "metadata": {
        "id": "NseIpdnaBFCQ"
      },
      "outputs": [],
      "source": [
        "df.sort_index(inplace= True)"
      ]
    },
    {
      "cell_type": "code",
      "execution_count": null,
      "id": "YKbMWZncSjzw",
      "metadata": {
        "id": "YKbMWZncSjzw"
      },
      "outputs": [],
      "source": []
    },
    {
      "cell_type": "markdown",
      "id": "10def3f0",
      "metadata": {
        "id": "10def3f0"
      },
      "source": [
        "## Feature Engineering\n",
        "\n",
        "### Instructions:\n",
        "  \n",
        "- **Shift Method**: Use the `shift` method to create a new column `prev_traffic_volume`, which represents the previous day's traffic volume.\n",
        "\n",
        "- **Difference between traffic_volume**: Calculate the difference between the values in `traffic_volume` column to highlight short-term volume.\n",
        "\n",
        "- **Date Features**: Extract meaningful time-based features from the `date_time` column to enhance the model's ability to detect temporal patterns. These features include:\n",
        "  - **Day of the week**: To capture weekly seasonality.\n",
        "  - **Month**: To capture monthly trends.\n",
        "  - **Day of the year**: Useful for modeling yearly seasonality.\n"
      ]
    },
    {
      "cell_type": "code",
      "execution_count": 172,
      "id": "d62cd837",
      "metadata": {
        "id": "d62cd837"
      },
      "outputs": [],
      "source": [
        "# Shift Method\n",
        "df['prev_traffic_volume'] = df['traffic_volume'].shift(1)\n",
        "\n",
        "\n",
        "# Date Features\n",
        "df['Day_of_week'] = df.index.dayofweek\n",
        "df['Month'] = df.index.month\n",
        "df['Day_of_year'] = df.index.dayofyear\n"
      ]
    },
    {
      "cell_type": "markdown",
      "id": "3f9fe326",
      "metadata": {
        "id": "3f9fe326"
      },
      "source": [
        "## Train-Test Split\n",
        "\n",
        "Split the dataset into training and testing sets.\n",
        "\n",
        "**Instructions:**\n",
        "- Ensure the split maintains the time order of the data.\n",
        "- Decide on an appropriate ratio for splitting the data."
      ]
    },
    {
      "cell_type": "code",
      "execution_count": null,
      "id": "ZxMaVTQ8l0c7",
      "metadata": {
        "id": "ZxMaVTQ8l0c7"
      },
      "outputs": [],
      "source": [
        "data_onehot = pd.get_dummies(df, columns =['weather_main','weather_description'])"
      ]
    },
    {
      "cell_type": "code",
      "execution_count": 174,
      "id": "EXYfL42iUEj4",
      "metadata": {
        "id": "EXYfL42iUEj4"
      },
      "outputs": [],
      "source": [
        "from sklearn.preprocessing import LabelEncoder\n",
        "\n",
        "le = LabelEncoder()\n",
        "df['weather_main'] = le.fit_transform(df['weather_main'])\n",
        "df['weather_description'] = le.fit_transform(df['weather_description'])"
      ]
    },
    {
      "cell_type": "code",
      "execution_count": 175,
      "id": "8GGDSxxyUy7s",
      "metadata": {
        "id": "8GGDSxxyUy7s"
      },
      "outputs": [],
      "source": [
        "train_size = int(len(df_scaled) * 0.80)\n",
        "test_size = len(df_scaled) - train_size\n",
        "train_data, test_data = df_scaled[0:train_size], df_scaled[train_size:len(df_scaled)]\n"
      ]
    },
    {
      "cell_type": "code",
      "execution_count": 176,
      "id": "QDxHZ-yZVxNG",
      "metadata": {
        "id": "QDxHZ-yZVxNG"
      },
      "outputs": [],
      "source": [
        "def split_data(data, lookback):\n",
        "    X, y = [], []\n",
        "    for i in range(len(data) - lookback):\n",
        "        X.append(data[i:i+lookback, 0])\n",
        "        y.append(data[i+lookback, 0])\n",
        "    return np.array(X), np.array(y)"
      ]
    },
    {
      "cell_type": "code",
      "execution_count": 177,
      "id": "SQkrW858VF4-",
      "metadata": {
        "id": "SQkrW858VF4-"
      },
      "outputs": [],
      "source": [
        "lookback = 24  # number of time steps to look back\n",
        "X_train, y_train = split_data(train_data, lookback)\n",
        "X_test, y_test = split_data(test_data, lookback)\n"
      ]
    },
    {
      "cell_type": "markdown",
      "id": "4bd267bb",
      "metadata": {
        "id": "4bd267bb"
      },
      "source": [
        "## Feature Scaling\n",
        "\n",
        "Apply feature scaling to the data if needed.\n",
        "\n",
        "**Instructions:**\n",
        "- Use a scaling method such as MinMaxScaler or StandardScaler.\n",
        "- Ensure scaling is applied correctly to both training and testing data."
      ]
    },
    {
      "cell_type": "code",
      "execution_count": 178,
      "id": "38bd86e0",
      "metadata": {
        "id": "38bd86e0"
      },
      "outputs": [],
      "source": [
        "scaler = MinMaxScaler()\n",
        "df_scaled = scaler.fit_transform(df)"
      ]
    },
    {
      "cell_type": "markdown",
      "id": "4f0be6e9",
      "metadata": {
        "id": "4f0be6e9"
      },
      "source": [
        "## Models Selection\n",
        "\n",
        "Choose two models for time series forecasting.\n",
        "\n",
        "**Instructions:**\n",
        "- Select two models such as ARIMA, SARIMA, RNN, LSTM, or GRU.\n",
        "- Train these models and then compare their performance."
      ]
    },
    {
      "cell_type": "code",
      "execution_count": 179,
      "id": "59mzpDSzP5ad",
      "metadata": {
        "colab": {
          "base_uri": "https://localhost:8080/"
        },
        "id": "59mzpDSzP5ad",
        "outputId": "6cb27625-1c6b-446e-d034-9e88948a54c6"
      },
      "outputs": [
        {
          "name": "stderr",
          "output_type": "stream",
          "text": [
            "/usr/local/lib/python3.10/dist-packages/keras/src/layers/rnn/rnn.py:204: UserWarning: Do not pass an `input_shape`/`input_dim` argument to a layer. When using Sequential models, prefer using an `Input(shape)` object as the first layer in the model instead.\n",
            "  super().__init__(**kwargs)\n"
          ]
        }
      ],
      "source": [
        "#GRU model\n",
        "model = Sequential()\n",
        "model.add(GRU(units=50, return_sequences=True, input_shape=(X_train.shape[1], 1)))\n",
        "model.add(GRU(units=50))\n",
        "model.add(Dropout(0.2))\n",
        "model.add(Dense(1))\n",
        "model.compile(loss='mean_squared_error', optimizer='adam')\n"
      ]
    },
    {
      "cell_type": "markdown",
      "id": "0981f787",
      "metadata": {
        "id": "0981f787"
      },
      "source": [
        "### Model 1 Training\n",
        "\n",
        "Train your first model on the training dataset.\n",
        "\n",
        "**Instructions:**\n",
        "- Fit the first model to the training data.\n",
        "- Ensure to monitor the training process."
      ]
    },
    {
      "cell_type": "code",
      "execution_count": 183,
      "id": "SQPrzazlhQJI",
      "metadata": {
        "colab": {
          "base_uri": "https://localhost:8080/"
        },
        "id": "SQPrzazlhQJI",
        "outputId": "8ac2db1c-b966-46c8-9f28-23f98ff13ae8"
      },
      "outputs": [
        {
          "name": "stdout",
          "output_type": "stream",
          "text": [
            "Epoch 1/20\n",
            "\u001b[1m499/499\u001b[0m \u001b[32m━━━━━━━━━━━━━━━━━━━━\u001b[0m\u001b[37m\u001b[0m \u001b[1m49s\u001b[0m 98ms/step - loss: 0.0019 - val_loss: 0.0013\n",
            "Epoch 2/20\n",
            "\u001b[1m499/499\u001b[0m \u001b[32m━━━━━━━━━━━━━━━━━━━━\u001b[0m\u001b[37m\u001b[0m \u001b[1m48s\u001b[0m 30ms/step - loss: 0.0018 - val_loss: 0.0012\n",
            "Epoch 3/20\n",
            "\u001b[1m499/499\u001b[0m \u001b[32m━━━━━━━━━━━━━━━━━━━━\u001b[0m\u001b[37m\u001b[0m \u001b[1m21s\u001b[0m 31ms/step - loss: 0.0016 - val_loss: 0.0014\n",
            "Epoch 4/20\n",
            "\u001b[1m499/499\u001b[0m \u001b[32m━━━━━━━━━━━━━━━━━━━━\u001b[0m\u001b[37m\u001b[0m \u001b[1m20s\u001b[0m 30ms/step - loss: 0.0015 - val_loss: 0.0010\n",
            "Epoch 5/20\n",
            "\u001b[1m499/499\u001b[0m \u001b[32m━━━━━━━━━━━━━━━━━━━━\u001b[0m\u001b[37m\u001b[0m \u001b[1m21s\u001b[0m 30ms/step - loss: 0.0015 - val_loss: 0.0010\n",
            "Epoch 6/20\n",
            "\u001b[1m499/499\u001b[0m \u001b[32m━━━━━━━━━━━━━━━━━━━━\u001b[0m\u001b[37m\u001b[0m \u001b[1m20s\u001b[0m 30ms/step - loss: 0.0015 - val_loss: 0.0010\n",
            "Epoch 7/20\n",
            "\u001b[1m499/499\u001b[0m \u001b[32m━━━━━━━━━━━━━━━━━━━━\u001b[0m\u001b[37m\u001b[0m \u001b[1m20s\u001b[0m 30ms/step - loss: 0.0013 - val_loss: 0.0011\n",
            "Epoch 8/20\n",
            "\u001b[1m499/499\u001b[0m \u001b[32m━━━━━━━━━━━━━━━━━━━━\u001b[0m\u001b[37m\u001b[0m \u001b[1m15s\u001b[0m 30ms/step - loss: 0.0013 - val_loss: 0.0010\n",
            "Epoch 9/20\n",
            "\u001b[1m499/499\u001b[0m \u001b[32m━━━━━━━━━━━━━━━━━━━━\u001b[0m\u001b[37m\u001b[0m \u001b[1m22s\u001b[0m 32ms/step - loss: 0.0012 - val_loss: 9.5062e-04\n",
            "Epoch 10/20\n",
            "\u001b[1m499/499\u001b[0m \u001b[32m━━━━━━━━━━━━━━━━━━━━\u001b[0m\u001b[37m\u001b[0m \u001b[1m20s\u001b[0m 30ms/step - loss: 0.0012 - val_loss: 9.8526e-04\n",
            "Epoch 11/20\n",
            "\u001b[1m499/499\u001b[0m \u001b[32m━━━━━━━━━━━━━━━━━━━━\u001b[0m\u001b[37m\u001b[0m \u001b[1m15s\u001b[0m 30ms/step - loss: 0.0013 - val_loss: 8.9537e-04\n",
            "Epoch 12/20\n",
            "\u001b[1m499/499\u001b[0m \u001b[32m━━━━━━━━━━━━━━━━━━━━\u001b[0m\u001b[37m\u001b[0m \u001b[1m20s\u001b[0m 30ms/step - loss: 0.0012 - val_loss: 9.0406e-04\n",
            "Epoch 13/20\n",
            "\u001b[1m499/499\u001b[0m \u001b[32m━━━━━━━━━━━━━━━━━━━━\u001b[0m\u001b[37m\u001b[0m \u001b[1m20s\u001b[0m 29ms/step - loss: 0.0012 - val_loss: 8.5709e-04\n",
            "Epoch 14/20\n",
            "\u001b[1m499/499\u001b[0m \u001b[32m━━━━━━━━━━━━━━━━━━━━\u001b[0m\u001b[37m\u001b[0m \u001b[1m15s\u001b[0m 30ms/step - loss: 0.0011 - val_loss: 8.7276e-04\n",
            "Epoch 15/20\n",
            "\u001b[1m499/499\u001b[0m \u001b[32m━━━━━━━━━━━━━━━━━━━━\u001b[0m\u001b[37m\u001b[0m \u001b[1m20s\u001b[0m 29ms/step - loss: 0.0010 - val_loss: 8.9365e-04\n",
            "Epoch 16/20\n",
            "\u001b[1m499/499\u001b[0m \u001b[32m━━━━━━━━━━━━━━━━━━━━\u001b[0m\u001b[37m\u001b[0m \u001b[1m21s\u001b[0m 30ms/step - loss: 0.0012 - val_loss: 9.0349e-04\n",
            "Epoch 17/20\n",
            "\u001b[1m499/499\u001b[0m \u001b[32m━━━━━━━━━━━━━━━━━━━━\u001b[0m\u001b[37m\u001b[0m \u001b[1m15s\u001b[0m 30ms/step - loss: 0.0010 - val_loss: 8.0928e-04\n",
            "Epoch 18/20\n",
            "\u001b[1m499/499\u001b[0m \u001b[32m━━━━━━━━━━━━━━━━━━━━\u001b[0m\u001b[37m\u001b[0m \u001b[1m15s\u001b[0m 30ms/step - loss: 9.5266e-04 - val_loss: 7.5898e-04\n",
            "Epoch 19/20\n",
            "\u001b[1m499/499\u001b[0m \u001b[32m━━━━━━━━━━━━━━━━━━━━\u001b[0m\u001b[37m\u001b[0m \u001b[1m15s\u001b[0m 30ms/step - loss: 0.0010 - val_loss: 7.6510e-04\n",
            "Epoch 20/20\n",
            "\u001b[1m499/499\u001b[0m \u001b[32m━━━━━━━━━━━━━━━━━━━━\u001b[0m\u001b[37m\u001b[0m \u001b[1m15s\u001b[0m 29ms/step - loss: 9.4282e-04 - val_loss: 7.4726e-04\n"
          ]
        }
      ],
      "source": [
        "# Train the model\n",
        "history = model.fit(X_train, y_train, epochs=20, batch_size=32, validation_data=(X_test, y_test))"
      ]
    },
    {
      "cell_type": "markdown",
      "id": "5f5b3fe3",
      "metadata": {
        "id": "5f5b3fe3"
      },
      "source": [
        "### Make 1 Predictions\n",
        "\n",
        "Generate predictions on the test dataset.\n",
        "\n",
        "### Instructions:\n",
        "- Use the trained model to make predictions on the test data.\n",
        "- Store the predictions for further analysis."
      ]
    },
    {
      "cell_type": "code",
      "execution_count": 184,
      "id": "d1d5cca3",
      "metadata": {
        "colab": {
          "base_uri": "https://localhost:8080/"
        },
        "id": "d1d5cca3",
        "outputId": "a0fc31bd-dc0a-47c5-8a6a-d590b86fde6f"
      },
      "outputs": [
        {
          "name": "stdout",
          "output_type": "stream",
          "text": [
            "\u001b[1m125/125\u001b[0m \u001b[32m━━━━━━━━━━━━━━━━━━━━\u001b[0m\u001b[37m\u001b[0m \u001b[1m2s\u001b[0m 10ms/step\n"
          ]
        }
      ],
      "source": [
        "\n",
        "# Make predictions on the testing data\n",
        "predictions = model.predict(X_test)"
      ]
    },
    {
      "cell_type": "markdown",
      "id": "6489cd08",
      "metadata": {
        "id": "6489cd08"
      },
      "source": [
        "### Model 1 Evaluation\n",
        "\n",
        "Evaluate the performance of your first model on the test dataset.\n",
        "\n",
        "**Instructions:**\n",
        "- Calculate evaluation metrics such as MAE, MSE, RMSE, or MAPE.\n",
        "- Plot the predicted vs actual values for the test set.\n",
        "- Plot the loss and the validation loss."
      ]
    },
    {
      "cell_type": "code",
      "execution_count": 185,
      "id": "aad46e07",
      "metadata": {
        "colab": {
          "base_uri": "https://localhost:8080/"
        },
        "id": "aad46e07",
        "outputId": "7a7c8178-9a44-426a-a3dc-8606c5b527d3"
      },
      "outputs": [
        {
          "name": "stdout",
          "output_type": "stream",
          "text": [
            "MSE: 0.00\n",
            "MAE: 0.02\n",
            "R2: 0.95\n"
          ]
        }
      ],
      "source": [
        "# Evaluate the model using various metrics\n",
        "\n",
        "\n",
        "# Mean Squared Error (MSE)\n",
        "mse = mean_squared_error(y_test, predictions)\n",
        "print(f'MSE: {mse:.2f}')\n",
        "\n",
        "# Mean Absolute Error (MAE)\n",
        "mae = mean_absolute_error(y_test, predictions)\n",
        "print(f'MAE: {mae:.2f}')\n",
        "\n",
        "# R-Squared (R2)\n",
        "r2 = r2_score(y_test, predictions)\n",
        "print(f'R2: {r2:.2f}')"
      ]
    },
    {
      "cell_type": "code",
      "execution_count": 186,
      "id": "-Y43cBCOhrBu",
      "metadata": {
        "colab": {
          "base_uri": "https://localhost:8080/",
          "height": 472
        },
        "id": "-Y43cBCOhrBu",
        "outputId": "f6491c30-a349-415e-8931-702ede98af66"
      },
      "outputs": [
        {
          "data": {
            "image/png": "[encoded data removed]",
            "text/plain": [
              "<Figure size 640x480 with 1 Axes>"
            ]
          },
          "metadata": {},
          "output_type": "display_data"
        }
      ],
      "source": [
        "plt.scatter(y_test, predictions)\n",
        "plt.xlabel(\"actual values\")\n",
        "plt.ylabel('predict value')\n",
        "plt.title('predict vs actual')\n",
        "plt.show()"
      ]
    },
    {
      "cell_type": "code",
      "execution_count": 187,
      "id": "OvWB_YYFiYef",
      "metadata": {
        "colab": {
          "base_uri": "https://localhost:8080/",
          "height": 472
        },
        "id": "OvWB_YYFiYef",
        "outputId": "85443a84-47af-41cd-f0a4-482df200c6c1"
      },
      "outputs": [
        {
          "data": {
            "image/png": "[encoded data removed]",
            "text/plain": [
              "<Figure size 640x480 with 1 Axes>"
            ]
          },
          "metadata": {},
          "output_type": "display_data"
        }
      ],
      "source": [
        "plt.plot(history.history['loss'], label= 'training loss')\n",
        "plt.plot(history.history['val_loss'], label= 'validation loss')\n",
        "plt.xlabel(\"epochs\")\n",
        "plt.ylabel('loss')\n",
        "plt.title('loss an validation loss')\n",
        "plt.legend()\n",
        "plt.show()"
      ]
    },
    {
      "cell_type": "markdown",
      "id": "82dd396a",
      "metadata": {
        "id": "82dd396a"
      },
      "source": [
        "### Model 2 Training\n",
        "\n",
        "Train your second model on the training dataset.\n",
        "\n",
        "**Instructions:**\n",
        "- Fit the second model to the training data.\n",
        "- Ensure to monitor the training process."
      ]
    },
    {
      "cell_type": "code",
      "execution_count": 188,
      "id": "b8605884",
      "metadata": {
        "colab": {
          "base_uri": "https://localhost:8080/",
          "height": 471
        },
        "id": "b8605884",
        "outputId": "420015b1-61f6-4615-e768-f3255d0c4d3d"
      },
      "outputs": [
        {
          "name": "stderr",
          "output_type": "stream",
          "text": [
            "/usr/local/lib/python3.10/dist-packages/keras/src/layers/rnn/rnn.py:204: UserWarning: Do not pass an `input_shape`/`input_dim` argument to a layer. When using Sequential models, prefer using an `Input(shape)` object as the first layer in the model instead.\n",
            "  super().__init__(**kwargs)\n"
          ]
        },
        {
          "data": {
            "text/html": [
              "<pre style=\"white-space:pre;overflow-x:auto;line-height:normal;font-family:Menlo,'DejaVu Sans Mono',consolas,'Courier New',monospace\"><span style=\"font-weight: bold\">Model: \"sequential_14\"</span>\n",
              "</pre>\n"
            ],
            "text/plain": [
              "\u001b[1mModel: \"sequential_14\"\u001b[0m\n"
            ]
          },
          "metadata": {},
          "output_type": "display_data"
        },
        {
          "data": {
            "text/html": [
              "<pre style=\"white-space:pre;overflow-x:auto;line-height:normal;font-family:Menlo,'DejaVu Sans Mono',consolas,'Courier New',monospace\">┏━━━━━━━━━━━━━━━━━━━━━━━━━━━━━━━━━━━━━━┳━━━━━━━━━━━━━━━━━━━━━━━━━━━━━┳━━━━━━━━━━━━━━━━━┓\n",
              "┃<span style=\"font-weight: bold\"> Layer (type)                         </span>┃<span style=\"font-weight: bold\"> Output Shape                </span>┃<span style=\"font-weight: bold\">         Param # </span>┃\n",
              "┡━━━━━━━━━━━━━━━━━━━━━━━━━━━━━━━━━━━━━━╇━━━━━━━━━━━━━━━━━━━━━━━━━━━━━╇━━━━━━━━━━━━━━━━━┩\n",
              "│ lstm_22 (<span style=\"color: #0087ff; text-decoration-color: #0087ff\">LSTM</span>)                       │ (<span style=\"color: #00d7ff; text-decoration-color: #00d7ff\">None</span>, <span style=\"color: #00af00; text-decoration-color: #00af00\">24</span>, <span style=\"color: #00af00; text-decoration-color: #00af00\">50</span>)              │          <span style=\"color: #00af00; text-decoration-color: #00af00\">10,400</span> │\n",
              "├──────────────────────────────────────┼─────────────────────────────┼─────────────────┤\n",
              "│ dropout_24 (<span style=\"color: #0087ff; text-decoration-color: #0087ff\">Dropout</span>)                 │ (<span style=\"color: #00d7ff; text-decoration-color: #00d7ff\">None</span>, <span style=\"color: #00af00; text-decoration-color: #00af00\">24</span>, <span style=\"color: #00af00; text-decoration-color: #00af00\">50</span>)              │               <span style=\"color: #00af00; text-decoration-color: #00af00\">0</span> │\n",
              "├──────────────────────────────────────┼─────────────────────────────┼─────────────────┤\n",
              "│ lstm_23 (<span style=\"color: #0087ff; text-decoration-color: #0087ff\">LSTM</span>)                       │ (<span style=\"color: #00d7ff; text-decoration-color: #00d7ff\">None</span>, <span style=\"color: #00af00; text-decoration-color: #00af00\">24</span>, <span style=\"color: #00af00; text-decoration-color: #00af00\">50</span>)              │          <span style=\"color: #00af00; text-decoration-color: #00af00\">20,200</span> │\n",
              "├──────────────────────────────────────┼─────────────────────────────┼─────────────────┤\n",
              "│ dropout_25 (<span style=\"color: #0087ff; text-decoration-color: #0087ff\">Dropout</span>)                 │ (<span style=\"color: #00d7ff; text-decoration-color: #00d7ff\">None</span>, <span style=\"color: #00af00; text-decoration-color: #00af00\">24</span>, <span style=\"color: #00af00; text-decoration-color: #00af00\">50</span>)              │               <span style=\"color: #00af00; text-decoration-color: #00af00\">0</span> │\n",
              "├──────────────────────────────────────┼─────────────────────────────┼─────────────────┤\n",
              "│ lstm_24 (<span style=\"color: #0087ff; text-decoration-color: #0087ff\">LSTM</span>)                       │ (<span style=\"color: #00d7ff; text-decoration-color: #00d7ff\">None</span>, <span style=\"color: #00af00; text-decoration-color: #00af00\">24</span>, <span style=\"color: #00af00; text-decoration-color: #00af00\">50</span>)              │          <span style=\"color: #00af00; text-decoration-color: #00af00\">20,200</span> │\n",
              "├──────────────────────────────────────┼─────────────────────────────┼─────────────────┤\n",
              "│ dropout_26 (<span style=\"color: #0087ff; text-decoration-color: #0087ff\">Dropout</span>)                 │ (<span style=\"color: #00d7ff; text-decoration-color: #00d7ff\">None</span>, <span style=\"color: #00af00; text-decoration-color: #00af00\">24</span>, <span style=\"color: #00af00; text-decoration-color: #00af00\">50</span>)              │               <span style=\"color: #00af00; text-decoration-color: #00af00\">0</span> │\n",
              "├──────────────────────────────────────┼─────────────────────────────┼─────────────────┤\n",
              "│ lstm_25 (<span style=\"color: #0087ff; text-decoration-color: #0087ff\">LSTM</span>)                       │ (<span style=\"color: #00d7ff; text-decoration-color: #00d7ff\">None</span>, <span style=\"color: #00af00; text-decoration-color: #00af00\">50</span>)                  │          <span style=\"color: #00af00; text-decoration-color: #00af00\">20,200</span> │\n",
              "├──────────────────────────────────────┼─────────────────────────────┼─────────────────┤\n",
              "│ dropout_27 (<span style=\"color: #0087ff; text-decoration-color: #0087ff\">Dropout</span>)                 │ (<span style=\"color: #00d7ff; text-decoration-color: #00d7ff\">None</span>, <span style=\"color: #00af00; text-decoration-color: #00af00\">50</span>)                  │               <span style=\"color: #00af00; text-decoration-color: #00af00\">0</span> │\n",
              "├──────────────────────────────────────┼─────────────────────────────┼─────────────────┤\n",
              "│ dense_11 (<span style=\"color: #0087ff; text-decoration-color: #0087ff\">Dense</span>)                     │ (<span style=\"color: #00d7ff; text-decoration-color: #00d7ff\">None</span>, <span style=\"color: #00af00; text-decoration-color: #00af00\">1</span>)                   │              <span style=\"color: #00af00; text-decoration-color: #00af00\">51</span> │\n",
              "└──────────────────────────────────────┴─────────────────────────────┴─────────────────┘\n",
              "</pre>\n"
            ],
            "text/plain": [
              "┏━━━━━━━━━━━━━━━━━━━━━━━━━━━━━━━━━━━━━━┳━━━━━━━━━━━━━━━━━━━━━━━━━━━━━┳━━━━━━━━━━━━━━━━━┓\n",
              "┃\u001b[1m \u001b[0m\u001b[1mLayer (type)                        \u001b[0m\u001b[1m \u001b[0m┃\u001b[1m \u001b[0m\u001b[1mOutput Shape               \u001b[0m\u001b[1m \u001b[0m┃\u001b[1m \u001b[0m\u001b[1m        Param #\u001b[0m\u001b[1m \u001b[0m┃\n",
              "┡━━━━━━━━━━━━━━━━━━━━━━━━━━━━━━━━━━━━━━╇━━━━━━━━━━━━━━━━━━━━━━━━━━━━━╇━━━━━━━━━━━━━━━━━┩\n",
              "│ lstm_22 (\u001b[38;5;33mLSTM\u001b[0m)                       │ (\u001b[38;5;45mNone\u001b[0m, \u001b[38;5;34m24\u001b[0m, \u001b[38;5;34m50\u001b[0m)              │          \u001b[38;5;34m10,400\u001b[0m │\n",
              "├──────────────────────────────────────┼─────────────────────────────┼─────────────────┤\n",
              "│ dropout_24 (\u001b[38;5;33mDropout\u001b[0m)                 │ (\u001b[38;5;45mNone\u001b[0m, \u001b[38;5;34m24\u001b[0m, \u001b[38;5;34m50\u001b[0m)              │               \u001b[38;5;34m0\u001b[0m │\n",
              "├──────────────────────────────────────┼─────────────────────────────┼─────────────────┤\n",
              "│ lstm_23 (\u001b[38;5;33mLSTM\u001b[0m)                       │ (\u001b[38;5;45mNone\u001b[0m, \u001b[38;5;34m24\u001b[0m, \u001b[38;5;34m50\u001b[0m)              │          \u001b[38;5;34m20,200\u001b[0m │\n",
              "├──────────────────────────────────────┼─────────────────────────────┼─────────────────┤\n",
              "│ dropout_25 (\u001b[38;5;33mDropout\u001b[0m)                 │ (\u001b[38;5;45mNone\u001b[0m, \u001b[38;5;34m24\u001b[0m, \u001b[38;5;34m50\u001b[0m)              │               \u001b[38;5;34m0\u001b[0m │\n",
              "├──────────────────────────────────────┼─────────────────────────────┼─────────────────┤\n",
              "│ lstm_24 (\u001b[38;5;33mLSTM\u001b[0m)                       │ (\u001b[38;5;45mNone\u001b[0m, \u001b[38;5;34m24\u001b[0m, \u001b[38;5;34m50\u001b[0m)              │          \u001b[38;5;34m20,200\u001b[0m │\n",
              "├──────────────────────────────────────┼─────────────────────────────┼─────────────────┤\n",
              "│ dropout_26 (\u001b[38;5;33mDropout\u001b[0m)                 │ (\u001b[38;5;45mNone\u001b[0m, \u001b[38;5;34m24\u001b[0m, \u001b[38;5;34m50\u001b[0m)              │               \u001b[38;5;34m0\u001b[0m │\n",
              "├──────────────────────────────────────┼─────────────────────────────┼─────────────────┤\n",
              "│ lstm_25 (\u001b[38;5;33mLSTM\u001b[0m)                       │ (\u001b[38;5;45mNone\u001b[0m, \u001b[38;5;34m50\u001b[0m)                  │          \u001b[38;5;34m20,200\u001b[0m │\n",
              "├──────────────────────────────────────┼─────────────────────────────┼─────────────────┤\n",
              "│ dropout_27 (\u001b[38;5;33mDropout\u001b[0m)                 │ (\u001b[38;5;45mNone\u001b[0m, \u001b[38;5;34m50\u001b[0m)                  │               \u001b[38;5;34m0\u001b[0m │\n",
              "├──────────────────────────────────────┼─────────────────────────────┼─────────────────┤\n",
              "│ dense_11 (\u001b[38;5;33mDense\u001b[0m)                     │ (\u001b[38;5;45mNone\u001b[0m, \u001b[38;5;34m1\u001b[0m)                   │              \u001b[38;5;34m51\u001b[0m │\n",
              "└──────────────────────────────────────┴─────────────────────────────┴─────────────────┘\n"
            ]
          },
          "metadata": {},
          "output_type": "display_data"
        },
        {
          "data": {
            "text/html": [
              "<pre style=\"white-space:pre;overflow-x:auto;line-height:normal;font-family:Menlo,'DejaVu Sans Mono',consolas,'Courier New',monospace\"><span style=\"font-weight: bold\"> Total params: </span><span style=\"color: #00af00; text-decoration-color: #00af00\">71,051</span> (277.54 KB)\n",
              "</pre>\n"
            ],
            "text/plain": [
              "\u001b[1m Total params: \u001b[0m\u001b[38;5;34m71,051\u001b[0m (277.54 KB)\n"
            ]
          },
          "metadata": {},
          "output_type": "display_data"
        },
        {
          "data": {
            "text/html": [
              "<pre style=\"white-space:pre;overflow-x:auto;line-height:normal;font-family:Menlo,'DejaVu Sans Mono',consolas,'Courier New',monospace\"><span style=\"font-weight: bold\"> Trainable params: </span><span style=\"color: #00af00; text-decoration-color: #00af00\">71,051</span> (277.54 KB)\n",
              "</pre>\n"
            ],
            "text/plain": [
              "\u001b[1m Trainable params: \u001b[0m\u001b[38;5;34m71,051\u001b[0m (277.54 KB)\n"
            ]
          },
          "metadata": {},
          "output_type": "display_data"
        },
        {
          "data": {
            "text/html": [
              "<pre style=\"white-space:pre;overflow-x:auto;line-height:normal;font-family:Menlo,'DejaVu Sans Mono',consolas,'Courier New',monospace\"><span style=\"font-weight: bold\"> Non-trainable params: </span><span style=\"color: #00af00; text-decoration-color: #00af00\">0</span> (0.00 B)\n",
              "</pre>\n"
            ],
            "text/plain": [
              "\u001b[1m Non-trainable params: \u001b[0m\u001b[38;5;34m0\u001b[0m (0.00 B)\n"
            ]
          },
          "metadata": {},
          "output_type": "display_data"
        }
      ],
      "source": [
        "# The LSTM architecture\n",
        "model_lstm = Sequential()\n",
        "\n",
        "# First LSTM layer with Dropout regularisation\n",
        "model_lstm.add(LSTM(units=50, return_sequences=True, input_shape=(X_train.shape[1],1)))\n",
        "model_lstm.add(Dropout(0.2))\n",
        "\n",
        "# Second LSTM layer\n",
        "model_lstm.add(LSTM(units=50, return_sequences=True))\n",
        "model_lstm.add(Dropout(0.2))\n",
        "\n",
        "# Third LSTM layer\n",
        "model_lstm.add(LSTM(units=50, return_sequences=True))\n",
        "model_lstm.add(Dropout(0.2))\n",
        "\n",
        "# Fourth LSTM layer\n",
        "model_lstm.add(LSTM(units=50))\n",
        "model_lstm.add(Dropout(0.2))\n",
        "\n",
        "# The output layer\n",
        "model_lstm.add(Dense(units=1))\n",
        "\n",
        "model_lstm.summary()"
      ]
    },
    {
      "cell_type": "code",
      "execution_count": 189,
      "id": "ZV3Frk8KaJ_Q",
      "metadata": {
        "id": "ZV3Frk8KaJ_Q"
      },
      "outputs": [],
      "source": [
        "model_lstm.compile(optimizer='rmsprop',loss='mean_squared_error')"
      ]
    },
    {
      "cell_type": "code",
      "execution_count": 191,
      "id": "ciLSJv_-jw2s",
      "metadata": {
        "colab": {
          "base_uri": "https://localhost:8080/"
        },
        "id": "ciLSJv_-jw2s",
        "outputId": "5e61a3c0-e1d9-4b64-baf7-ee64c22e7106"
      },
      "outputs": [
        {
          "name": "stdout",
          "output_type": "stream",
          "text": [
            "Epoch 1/20\n",
            "\u001b[1m499/499\u001b[0m \u001b[32m━━━━━━━━━━━━━━━━━━━━\u001b[0m\u001b[37m\u001b[0m \u001b[1m26s\u001b[0m 53ms/step - loss: 0.0034 - val_loss: 0.0020\n",
            "Epoch 2/20\n",
            "\u001b[1m499/499\u001b[0m \u001b[32m━━━━━━━━━━━━━━━━━━━━\u001b[0m\u001b[37m\u001b[0m \u001b[1m25s\u001b[0m 51ms/step - loss: 0.0025 - val_loss: 0.0014\n",
            "Epoch 3/20\n",
            "\u001b[1m499/499\u001b[0m \u001b[32m━━━━━━━━━━━━━━━━━━━━\u001b[0m\u001b[37m\u001b[0m \u001b[1m41s\u001b[0m 51ms/step - loss: 0.0023 - val_loss: 0.0015\n",
            "Epoch 4/20\n",
            "\u001b[1m499/499\u001b[0m \u001b[32m━━━━━━━━━━━━━━━━━━━━\u001b[0m\u001b[37m\u001b[0m \u001b[1m26s\u001b[0m 51ms/step - loss: 0.0022 - val_loss: 0.0014\n",
            "Epoch 5/20\n",
            "\u001b[1m499/499\u001b[0m \u001b[32m━━━━━━━━━━━━━━━━━━━━\u001b[0m\u001b[37m\u001b[0m \u001b[1m41s\u001b[0m 51ms/step - loss: 0.0021 - val_loss: 0.0014\n",
            "Epoch 6/20\n",
            "\u001b[1m499/499\u001b[0m \u001b[32m━━━━━━━━━━━━━━━━━━━━\u001b[0m\u001b[37m\u001b[0m \u001b[1m25s\u001b[0m 51ms/step - loss: 0.0020 - val_loss: 0.0013\n",
            "Epoch 7/20\n",
            "\u001b[1m499/499\u001b[0m \u001b[32m━━━━━━━━━━━━━━━━━━━━\u001b[0m\u001b[37m\u001b[0m \u001b[1m41s\u001b[0m 51ms/step - loss: 0.0020 - val_loss: 0.0013\n",
            "Epoch 8/20\n",
            "\u001b[1m499/499\u001b[0m \u001b[32m━━━━━━━━━━━━━━━━━━━━\u001b[0m\u001b[37m\u001b[0m \u001b[1m26s\u001b[0m 51ms/step - loss: 0.0022 - val_loss: 0.0014\n",
            "Epoch 9/20\n",
            "\u001b[1m499/499\u001b[0m \u001b[32m━━━━━━━━━━━━━━━━━━━━\u001b[0m\u001b[37m\u001b[0m \u001b[1m26s\u001b[0m 51ms/step - loss: 0.0019 - val_loss: 0.0013\n",
            "Epoch 10/20\n",
            "\u001b[1m499/499\u001b[0m \u001b[32m━━━━━━━━━━━━━━━━━━━━\u001b[0m\u001b[37m\u001b[0m \u001b[1m26s\u001b[0m 51ms/step - loss: 0.0020 - val_loss: 0.0015\n",
            "Epoch 11/20\n",
            "\u001b[1m499/499\u001b[0m \u001b[32m━━━━━━━━━━━━━━━━━━━━\u001b[0m\u001b[37m\u001b[0m \u001b[1m41s\u001b[0m 52ms/step - loss: 0.0019 - val_loss: 0.0014\n",
            "Epoch 12/20\n",
            "\u001b[1m499/499\u001b[0m \u001b[32m━━━━━━━━━━━━━━━━━━━━\u001b[0m\u001b[37m\u001b[0m \u001b[1m40s\u001b[0m 50ms/step - loss: 0.0019 - val_loss: 0.0013\n",
            "Epoch 13/20\n",
            "\u001b[1m499/499\u001b[0m \u001b[32m━━━━━━━━━━━━━━━━━━━━\u001b[0m\u001b[37m\u001b[0m \u001b[1m41s\u001b[0m 51ms/step - loss: 0.0019 - val_loss: 0.0015\n",
            "Epoch 14/20\n",
            "\u001b[1m499/499\u001b[0m \u001b[32m━━━━━━━━━━━━━━━━━━━━\u001b[0m\u001b[37m\u001b[0m \u001b[1m41s\u001b[0m 51ms/step - loss: 0.0019 - val_loss: 0.0013\n",
            "Epoch 15/20\n",
            "\u001b[1m499/499\u001b[0m \u001b[32m━━━━━━━━━━━━━━━━━━━━\u001b[0m\u001b[37m\u001b[0m \u001b[1m26s\u001b[0m 51ms/step - loss: 0.0019 - val_loss: 0.0012\n",
            "Epoch 16/20\n",
            "\u001b[1m499/499\u001b[0m \u001b[32m━━━━━━━━━━━━━━━━━━━━\u001b[0m\u001b[37m\u001b[0m \u001b[1m41s\u001b[0m 52ms/step - loss: 0.0019 - val_loss: 0.0012\n",
            "Epoch 17/20\n",
            "\u001b[1m499/499\u001b[0m \u001b[32m━━━━━━━━━━━━━━━━━━━━\u001b[0m\u001b[37m\u001b[0m \u001b[1m26s\u001b[0m 52ms/step - loss: 0.0018 - val_loss: 0.0013\n",
            "Epoch 18/20\n",
            "\u001b[1m499/499\u001b[0m \u001b[32m━━━━━━━━━━━━━━━━━━━━\u001b[0m\u001b[37m\u001b[0m \u001b[1m26s\u001b[0m 51ms/step - loss: 0.0018 - val_loss: 0.0013\n",
            "Epoch 19/20\n",
            "\u001b[1m499/499\u001b[0m \u001b[32m━━━━━━━━━━━━━━━━━━━━\u001b[0m\u001b[37m\u001b[0m \u001b[1m41s\u001b[0m 51ms/step - loss: 0.0019 - val_loss: 0.0014\n",
            "Epoch 20/20\n",
            "\u001b[1m499/499\u001b[0m \u001b[32m━━━━━━━━━━━━━━━━━━━━\u001b[0m\u001b[37m\u001b[0m \u001b[1m41s\u001b[0m 52ms/step - loss: 0.0019 - val_loss: 0.0012\n"
          ]
        }
      ],
      "source": [
        "history2= model_lstm.fit(X_train, y_train, epochs=20, batch_size=32, validation_data=(X_test, y_test))"
      ]
    },
    {
      "cell_type": "markdown",
      "id": "3e811d93",
      "metadata": {
        "id": "3e811d93"
      },
      "source": [
        "### Make 2 Predictions\n",
        "\n",
        "Generate predictions on the test dataset.\n",
        "\n",
        "### Instructions:\n",
        "- Use the trained model to make predictions on the test data.\n",
        "- Store the predictions for further analysis."
      ]
    },
    {
      "cell_type": "code",
      "execution_count": 192,
      "id": "d1492fe0",
      "metadata": {
        "colab": {
          "base_uri": "https://localhost:8080/"
        },
        "id": "d1492fe0",
        "outputId": "2e27ef12-9a22-42fe-9fb7-c4faca8e3ad3"
      },
      "outputs": [
        {
          "name": "stdout",
          "output_type": "stream",
          "text": [
            "\u001b[1m125/125\u001b[0m \u001b[32m━━━━━━━━━━━━━━━━━━━━\u001b[0m\u001b[37m\u001b[0m \u001b[1m3s\u001b[0m 17ms/step\n"
          ]
        }
      ],
      "source": [
        "predictions2 = model_lstm.predict(X_test)"
      ]
    },
    {
      "cell_type": "markdown",
      "id": "9d7f7af2",
      "metadata": {
        "id": "9d7f7af2"
      },
      "source": [
        "### Model 2 Evaluation\n",
        "\n",
        "Evaluate the performance of your second model on the test dataset.\n",
        "\n",
        "**Instructions:**\n",
        "- Calculate evaluation metrics such as MAE, MSE, RMSE, or MAPE.\n",
        "- Plot the predicted vs actual values for the test set.\n",
        "- Plot the loss and the validation loss."
      ]
    },
    {
      "cell_type": "code",
      "execution_count": 193,
      "id": "7c3b85de",
      "metadata": {
        "colab": {
          "base_uri": "https://localhost:8080/"
        },
        "id": "7c3b85de",
        "outputId": "426653d0-2e94-47a8-8531-e9e5b51da9e7"
      },
      "outputs": [
        {
          "name": "stdout",
          "output_type": "stream",
          "text": [
            "MSE: 0.00\n",
            "MAE: 0.03\n",
            "R2: 0.91\n"
          ]
        }
      ],
      "source": [
        "\n",
        "# Mean Squared Error (MSE)\n",
        "mse = mean_squared_error(y_test, predictions2)\n",
        "print(f'MSE: {mse:.2f}')\n",
        "\n",
        "# Mean Absolute Error (MAE)\n",
        "mae = mean_absolute_error(y_test, predictions2)\n",
        "print(f'MAE: {mae:.2f}')\n",
        "\n",
        "# R-Squared (R2)\n",
        "r2 = r2_score(y_test, predictions2)\n",
        "print(f'R2: {r2:.2f}')"
      ]
    },
    {
      "cell_type": "code",
      "execution_count": 194,
      "id": "RunVRrVljPja",
      "metadata": {
        "colab": {
          "base_uri": "https://localhost:8080/",
          "height": 472
        },
        "id": "RunVRrVljPja",
        "outputId": "d551d2d6-489f-435f-c1e7-47e9aeafc2b0"
      },
      "outputs": [
        {
          "data": {
            "image/png": "[encoded data removed]",
            "text/plain": [
              "<Figure size 640x480 with 1 Axes>"
            ]
          },
          "metadata": {},
          "output_type": "display_data"
        }
      ],
      "source": [
        "plt.scatter(y_test, predictions2)\n",
        "plt.xlabel(\"actual values\")\n",
        "plt.ylabel('predict value')\n",
        "plt.title('predict vs actual')\n",
        "plt.show()"
      ]
    },
    {
      "cell_type": "code",
      "execution_count": 196,
      "id": "cORqut5_jUjo",
      "metadata": {
        "colab": {
          "base_uri": "https://localhost:8080/",
          "height": 472
        },
        "id": "cORqut5_jUjo",
        "outputId": "35f0dd0b-dfd6-43a2-f06c-dbb986c955f6"
      },
      "outputs": [
        {
          "data": {
            "image/png": "[encoded data removed]",
            "text/plain": [
              "<Figure size 640x480 with 1 Axes>"
            ]
          },
          "metadata": {},
          "output_type": "display_data"
        }
      ],
      "source": [
        "plt.plot(history2.history['loss'], label= 'training loss')\n",
        "plt.plot(history2.history['val_loss'], label= 'validation loss')\n",
        "plt.xlabel(\"epochs\")\n",
        "plt.ylabel('loss')\n",
        "plt.title('loss an validation loss')\n",
        "plt.legend()\n",
        "plt.show()"
      ]
    },
    {
      "cell_type": "markdown",
      "id": "9cb9e77a",
      "metadata": {
        "id": "9cb9e77a"
      },
      "source": [
        "## Project Questions:\n",
        "\n",
        "1. **Data Preprocessing**: Explain why you chose your specific data preprocessing techniques (e.g., normalization, handling missing values). How did these techniques help prepare the data for training the model?\n",
        "2. **Feature Engineering**: Did you perform any feature engineering or transformations? Describe your decisions and how these new features (or transformed features) contributed to the forecasting model.\n",
        "3. **Model Architecture**: Describe the reasoning behind your model’s architecture (e.g., the type of model, layers, number of neurons, and activation functions). Why did you believe this architecture was appropriate for time series forecasting?\n",
        "4. **Training Process**: Discuss why you chose your batch size, number of epochs, and optimizer. How did these choices affect the training process? Did you experiment with different values, and what were the outcomes?\n",
        "5. **Loss Function and Metrics**: Why did you choose the specific loss function and evaluation metrics (e.g., MAE, RMSE, MAPE)? How do they align with the objective of forecasting?\n",
        "6. **Model Tuning (If Done)**: Describe any tuning you performed (e.g., hyperparameter tuning) and why you felt it was necessary. How did these adjustments improve model performance?\n",
        "7. **Overfitting and Underfitting**: Analyze whether the model encountered any overfitting or underfitting during training. What strategies could you implement to mitigate these issues?\n",
        "8. **Future Improvements**: Suggest potential improvements or further steps you could take to enhance model performance. Consider using different algorithms, feature engineering techniques, or tuning hyperparameters."
      ]
    },
    {
      "cell_type": "code",
      "execution_count": null,
      "id": "QLU13I6ub8D2",
      "metadata": {
        "id": "QLU13I6ub8D2"
      },
      "outputs": [],
      "source": [
        "#1- i choose traffic_volume column in because it has 20 null values and also i choose it the target column so i have to fill it\n",
        "\n",
        "#2- i extract it based on the features like for example df['Day_of_year'] = df.index.dayofyear is very usefull for yearly seasonality\n",
        "\n",
        "#3-"
      ]
    },
    {
      "cell_type": "markdown",
      "id": "67ba7c70",
      "metadata": {
        "id": "67ba7c70"
      },
      "source": [
        "### Answer Here:"
      ]
    }
  ],
  "metadata": {
    "colab": {
      "provenance": []
    },
    "kernelspec": {
      "display_name": "base",
      "language": "python",
      "name": "python3"
    },
    "language_info": {
      "codemirror_mode": {
        "name": "ipython",
        "version": 3
      },
      "file_extension": ".py",
      "mimetype": "text/x-python",
      "name": "python",
      "nbconvert_exporter": "python",
      "pygments_lexer": "ipython3",
      "version": "3.12.4"
    }
  },
  "nbformat": 4,
  "nbformat_minor": 5
}
