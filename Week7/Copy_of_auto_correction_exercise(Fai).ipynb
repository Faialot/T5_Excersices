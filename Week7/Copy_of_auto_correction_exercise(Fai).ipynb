{
  "cells": [
    {
      "cell_type": "markdown",
      "id": "8e8b6f85",
      "metadata": {
        "id": "8e8b6f85"
      },
      "source": [
        "# Auto-Correction Exercise\n",
        "\n",
        "This exercise will guide you through building an auto-correct system in Python. Follow the instructions in each step to complete the implementation."
      ]
    },
    {
      "cell_type": "markdown",
      "id": "b4ed5e99",
      "metadata": {
        "id": "b4ed5e99"
      },
      "source": [
        "## Step 1: Import Libraries\n",
        "\n",
        "Import the necessary libraries"
      ]
    },
    {
      "cell_type": "code",
      "source": [
        "from google.colab import drive\n",
        "drive.mount('/content/drive')"
      ],
      "metadata": {
        "colab": {
          "base_uri": "https://localhost:8080/"
        },
        "id": "HvQ7mreOeX1U",
        "outputId": "c2649239-4b85-4f54-fe87-1815cd0dfb1f"
      },
      "id": "HvQ7mreOeX1U",
      "execution_count": 60,
      "outputs": [
        {
          "output_type": "stream",
          "name": "stdout",
          "text": [
            "Drive already mounted at /content/drive; to attempt to forcibly remount, call drive.mount(\"/content/drive\", force_remount=True).\n"
          ]
        }
      ]
    },
    {
      "cell_type": "code",
      "execution_count": 2,
      "id": "c58dfc7e",
      "metadata": {
        "id": "c58dfc7e"
      },
      "outputs": [],
      "source": [
        "import os\n",
        "import re\n",
        "import numpy as np\n",
        "import pandas as pd\n",
        "from collections import Counter\n",
        "import nltk"
      ]
    },
    {
      "cell_type": "markdown",
      "id": "f849129e",
      "metadata": {
        "id": "f849129e"
      },
      "source": [
        "## Step 2: Load Data\n",
        "\n",
        "Load a trusted text corpus to build the auto-correct system."
      ]
    },
    {
      "cell_type": "code",
      "execution_count": 61,
      "id": "df8d28c4",
      "metadata": {
        "id": "df8d28c4",
        "colab": {
          "base_uri": "https://localhost:8080/",
          "height": 137
        },
        "outputId": "5d2319dd-255f-46e5-8630-7eb909f98a6f"
      },
      "outputs": [
        {
          "output_type": "execute_result",
          "data": {
            "text/plain": [
              "'Starchy vegetables are high-quality carbohydrates that are rich in vitamins, minerals, and fiber. Unlike poor-quality carbs, such as white bread, regular pasta, and other refined-grain products, starchy vegetables like sweet and white potatoes, winter squash, peas, and corn offer ample nutrition and are a great addition to your diet when prepared in a healthy way. That said, starchy vegetables are higher in calories than nonstarchy vegetables (like leafy greens, green beans, broccoli, cauliflower, peppers, cucumbers, carrots, mushrooms, and celery), so itâ\\x80\\x99s important to moderate your portions, especially if youâ\\x80\\x99re trying to lose weight. Because of their high starch content, starchy vegetables raise blood-sugar levels more than nonstarchy types, so individuals with diabetes need to be especially careful about limiting their intake.\\n'"
            ],
            "application/vnd.google.colaboratory.intrinsic+json": {
              "type": "string"
            }
          },
          "metadata": {},
          "execution_count": 61
        }
      ],
      "source": [
        "\n",
        "# Load the corpus\n",
        "with open('/content/drive/MyDrive/food_94.txt', 'r', encoding='ISO-8859-1') as f:\n",
        "    file = f.readlines()\n",
        "\n",
        "# A small sample of the corpus\n",
        "file[0][:3000]\n"
      ]
    },
    {
      "cell_type": "markdown",
      "id": "ffa045c9",
      "metadata": {
        "id": "ffa045c9"
      },
      "source": [
        "## Step 3: Data Processing\n",
        "\n",
        "Tokenize the text and convert all characters to lowercase to clean the data."
      ]
    },
    {
      "cell_type": "code",
      "execution_count": 62,
      "id": "41511573",
      "metadata": {
        "id": "41511573",
        "colab": {
          "base_uri": "https://localhost:8080/"
        },
        "outputId": "f9f4b75e-0855-4149-caa9-9458629bb71f"
      },
      "outputs": [
        {
          "output_type": "stream",
          "name": "stdout",
          "text": [
            "The first ten words in the text are: \n",
            "['starchy', 'vegetables', 'are', 'high', 'quality', 'carbohydrates', 'that', 'are', 'rich', 'in']\n",
            "There are 130 unique words in the vocabulary.\n"
          ]
        }
      ],
      "source": [
        "\n",
        "def process_data(lines):\n",
        "    words = []\n",
        "    for line in lines:\n",
        "        line = line.strip().lower()\n",
        "        word = re.findall(r'\\w+', line)\n",
        "        words.extend(word)\n",
        "    return words\n",
        "\n",
        "word_l = process_data(file)\n",
        "vocab = set(word_l)\n",
        "print(f\"The first ten words in the text are: \\n{word_l[0:10]}\")\n",
        "print(f\"There are {len(vocab)} unique words in the vocabulary.\")\n"
      ]
    },
    {
      "cell_type": "markdown",
      "id": "8999b61e",
      "metadata": {
        "id": "8999b61e"
      },
      "source": [
        "\n",
        "## Step 4: Architecture Overview\n",
        "\n",
        "This auto-correct architecture has four main components:\n",
        "\n",
        "1. **Filtering Mispells**: Check if a word is in the vocabulary.\n",
        "2. **Word Suggestion Mechanism**: Suggest candidate words based on various edit operations.\n",
        "3. **Probability Distribution Mechanism**: Calculate the probability of each candidate word.\n",
        "4. **Replace Mispells**: Replace the misspelled word with the most probable suggestion.\n",
        "\n",
        "Implement each part step-by-step in the cells below.\n"
      ]
    },
    {
      "cell_type": "markdown",
      "id": "ee2c7bfc",
      "metadata": {
        "id": "ee2c7bfc"
      },
      "source": [
        "### Step 4.1: Filtering Mispells\n",
        "\n",
        "Write a function to identify words not present in the vocabulary."
      ]
    },
    {
      "cell_type": "code",
      "execution_count": 82,
      "id": "a18cb2c2",
      "metadata": {
        "id": "a18cb2c2",
        "colab": {
          "base_uri": "https://localhost:8080/"
        },
        "outputId": "103b8ef7-11c2-4f0d-ac43-4decb57a2974"
      },
      "outputs": [
        {
          "output_type": "execute_result",
          "data": {
            "text/plain": [
              "['salt']"
            ]
          },
          "metadata": {},
          "execution_count": 82
        }
      ],
      "source": [
        "\n",
        "def find_wrong_word(sent, vocab):\n",
        "    wrong_words = []\n",
        "    sent = sent.strip().lower().split(\" \")\n",
        "    for word in sent:\n",
        "        if word not in vocab:\n",
        "            wrong_words.append(word)\n",
        "    return wrong_words\n",
        "\n",
        "find_wrong_word('starchy vegetables like salt and white potatoes', vocab)#sweet\n"
      ]
    },
    {
      "cell_type": "markdown",
      "id": "c5ae5fef",
      "metadata": {
        "id": "c5ae5fef"
      },
      "source": [
        "### Step 4.2: Word Suggestion Mechanism\n",
        "\n",
        "Implement functions to suggest words by deleting, switching, replacing, or inserting characters."
      ]
    },
    {
      "cell_type": "code",
      "execution_count": 83,
      "id": "9647c078",
      "metadata": {
        "id": "9647c078",
        "colab": {
          "base_uri": "https://localhost:8080/"
        },
        "outputId": "1d4a7cb9-d6e1-48d4-9c91-7dae564f50d2"
      },
      "outputs": [
        {
          "output_type": "stream",
          "name": "stdout",
          "text": [
            "input word : cans \n",
            "split_l = [('', 'cans'), ('c', 'ans'), ('ca', 'ns'), ('can', 's')], \n",
            "delete_l = ['ans', 'cns', 'cas', 'can']\n"
          ]
        }
      ],
      "source": [
        "# Delete letter\n",
        "\n",
        "def delete_letter(word, verbose=False):\n",
        "    delete_l = []\n",
        "    split_l = [(word[:i], word[i:]) for i in range(len(word))]\n",
        "    delete_l = [s[0]+s[1][1:] for s in split_l]\n",
        "    if verbose: print(f\"input word : {word} \\nsplit_l = {split_l}, \\ndelete_l = {delete_l}\")\n",
        "    return delete_l\n",
        "\n",
        "delete_word_l = delete_letter(word=\"cans\", verbose=True)\n",
        "\n"
      ]
    },
    {
      "cell_type": "code",
      "source": [
        "# Switch letter\n",
        "\n",
        "def switch_letter(word, verbose=False):\n",
        "    switch_l = []\n",
        "    split_l = [(word[:i], word[i:]) for i in range(len(word))]\n",
        "    for s in split_l:\n",
        "        if len(s[1]) > 2:\n",
        "            temp = s[0] + s[1][1] + s[1][0] + s[1][2:]\n",
        "        elif len(s[1]) == 2:\n",
        "            temp = s[0] + s[1][1] + s[1][0]\n",
        "        elif len(s[1]) == 1:\n",
        "            continue\n",
        "        switch_l.append(temp)\n",
        "    if verbose: print(f\"Input word = {word} \\nsplit_l = {split_l} \\nswitch_l = {switch_l}\")\n",
        "    return switch_l\n",
        "\n",
        "switch_word_l = switch_letter(word=\"eta\", verbose=True)\n"
      ],
      "metadata": {
        "id": "7MOCW5n7uVba",
        "colab": {
          "base_uri": "https://localhost:8080/"
        },
        "outputId": "53f927c4-7f85-4b88-928a-8f7a016c40ac"
      },
      "id": "7MOCW5n7uVba",
      "execution_count": 84,
      "outputs": [
        {
          "output_type": "stream",
          "name": "stdout",
          "text": [
            "Input word = eta \n",
            "split_l = [('', 'eta'), ('e', 'ta'), ('et', 'a')] \n",
            "switch_l = ['tea', 'eat']\n"
          ]
        }
      ]
    },
    {
      "cell_type": "code",
      "source": [
        "# Replace letter\n",
        "\n",
        "def replace_letter(word, verbose=False):\n",
        "    letters = 'abcdefghijklmnopqrstuvwxyz'\n",
        "    replace_l = []\n",
        "    split_l = [(word[:i], word[i:]) for i in range(len(word))]\n",
        "    for s in split_l:\n",
        "        if len(s[1]) == 1:\n",
        "            for l in letters:\n",
        "                if l != s[1][0]:\n",
        "                    replace_l.append(s[0] + l)\n",
        "        elif len(s[1]) > 1:\n",
        "            for l in letters:\n",
        "                if l != s[1][0]:\n",
        "                    replace_l.append(s[0] + l + s[1][1:])\n",
        "    replace_set = set(replace_l)\n",
        "    replace_l = sorted(list(replace_set))\n",
        "    if verbose: print(f\"Input word = {word} \\nsplit_l = {split_l} \\nreplace_l = {replace_l}\")\n",
        "    return replace_l\n",
        "\n",
        "replace_l = replace_letter(word='can', verbose=True)\n"
      ],
      "metadata": {
        "id": "Mv-tOycduVL_",
        "colab": {
          "base_uri": "https://localhost:8080/"
        },
        "outputId": "3db089ec-fc3b-4159-ca1a-8bb42c4c9e4d"
      },
      "id": "Mv-tOycduVL_",
      "execution_count": 85,
      "outputs": [
        {
          "output_type": "stream",
          "name": "stdout",
          "text": [
            "Input word = can \n",
            "split_l = [('', 'can'), ('c', 'an'), ('ca', 'n')] \n",
            "replace_l = ['aan', 'ban', 'caa', 'cab', 'cac', 'cad', 'cae', 'caf', 'cag', 'cah', 'cai', 'caj', 'cak', 'cal', 'cam', 'cao', 'cap', 'caq', 'car', 'cas', 'cat', 'cau', 'cav', 'caw', 'cax', 'cay', 'caz', 'cbn', 'ccn', 'cdn', 'cen', 'cfn', 'cgn', 'chn', 'cin', 'cjn', 'ckn', 'cln', 'cmn', 'cnn', 'con', 'cpn', 'cqn', 'crn', 'csn', 'ctn', 'cun', 'cvn', 'cwn', 'cxn', 'cyn', 'czn', 'dan', 'ean', 'fan', 'gan', 'han', 'ian', 'jan', 'kan', 'lan', 'man', 'nan', 'oan', 'pan', 'qan', 'ran', 'san', 'tan', 'uan', 'van', 'wan', 'xan', 'yan', 'zan']\n"
          ]
        }
      ]
    },
    {
      "cell_type": "code",
      "source": [
        "# Insert letter\n",
        "\n",
        "\n",
        "def insert_letter(word, verbose=False):\n",
        "    letters = 'abcdefghijklmnopqrstuvwxyz'\n",
        "    insert_l = []\n",
        "    split_l = [(word[:i], word[i:]) for i in range(len(word)+1)]\n",
        "    for s in split_l:\n",
        "        for l in letters:\n",
        "            insert_l.append(s[0] + l + s[1])\n",
        "    if verbose: print(f\"Input word {word} \\nsplit_l = {split_l} \\ninsert_l = {insert_l}\")\n",
        "    return insert_l\n",
        "\n",
        "insert_l = insert_letter('at', True)\n",
        "print(f\"Number of strings output by insert_letter('at') is {len(insert_l)}\")\n"
      ],
      "metadata": {
        "id": "e-CAlWzkuUcq",
        "colab": {
          "base_uri": "https://localhost:8080/"
        },
        "outputId": "b77646fb-b51c-4d53-effe-4621de39a60b"
      },
      "id": "e-CAlWzkuUcq",
      "execution_count": 86,
      "outputs": [
        {
          "output_type": "stream",
          "name": "stdout",
          "text": [
            "Input word at \n",
            "split_l = [('', 'at'), ('a', 't'), ('at', '')] \n",
            "insert_l = ['aat', 'bat', 'cat', 'dat', 'eat', 'fat', 'gat', 'hat', 'iat', 'jat', 'kat', 'lat', 'mat', 'nat', 'oat', 'pat', 'qat', 'rat', 'sat', 'tat', 'uat', 'vat', 'wat', 'xat', 'yat', 'zat', 'aat', 'abt', 'act', 'adt', 'aet', 'aft', 'agt', 'aht', 'ait', 'ajt', 'akt', 'alt', 'amt', 'ant', 'aot', 'apt', 'aqt', 'art', 'ast', 'att', 'aut', 'avt', 'awt', 'axt', 'ayt', 'azt', 'ata', 'atb', 'atc', 'atd', 'ate', 'atf', 'atg', 'ath', 'ati', 'atj', 'atk', 'atl', 'atm', 'atn', 'ato', 'atp', 'atq', 'atr', 'ats', 'att', 'atu', 'atv', 'atw', 'atx', 'aty', 'atz']\n",
            "Number of strings output by insert_letter('at') is 78\n"
          ]
        }
      ]
    },
    {
      "cell_type": "markdown",
      "id": "5c6197fc",
      "metadata": {
        "id": "5c6197fc"
      },
      "source": [
        "**Combining Functions for Word Suggestions**\n",
        "\n",
        "Combine the functions to edit one or two characters in a word."
      ]
    },
    {
      "cell_type": "code",
      "execution_count": 87,
      "id": "e9229d4d",
      "metadata": {
        "id": "e9229d4d"
      },
      "outputs": [],
      "source": [
        "# Edit one letter\n",
        "\n",
        "def edit_one_letter(word, allow_switches=True):\n",
        "    edit_one_set = set()\n",
        "    insert_l = insert_letter(word)\n",
        "    delete_l = delete_letter(word)\n",
        "    replace_l = replace_letter(word)\n",
        "    switch_l = switch_letter(word)\n",
        "    if allow_switches:\n",
        "        ans = insert_l + delete_l + replace_l + switch_l\n",
        "    else:\n",
        "        ans = insert_l + delete_l + replace_l\n",
        "    edit_one_set = set(ans)\n",
        "    return edit_one_set\n",
        "\n",
        "\n"
      ]
    },
    {
      "cell_type": "code",
      "source": [
        "tmp_word = \"at\"\n",
        "tmp_edit_one_set = edit_one_letter(tmp_word)\n",
        "tmp_edit_one_l = sorted(list(tmp_edit_one_set))\n",
        "\n",
        "print(f\"input word : {tmp_word} \\nedit_one_l \\n{tmp_edit_one_l}\\n\")\n",
        "print(f\"Number of outputs from edit_one_letter('at') is {len(edit_one_letter('at'))}\")"
      ],
      "metadata": {
        "colab": {
          "base_uri": "https://localhost:8080/"
        },
        "id": "L-cm7VPrf1wV",
        "outputId": "9aa654b7-af76-4c78-e524-979c0ac29068"
      },
      "id": "L-cm7VPrf1wV",
      "execution_count": 88,
      "outputs": [
        {
          "output_type": "stream",
          "name": "stdout",
          "text": [
            "input word : at \n",
            "edit_one_l \n",
            "['a', 'aa', 'aat', 'ab', 'abt', 'ac', 'act', 'ad', 'adt', 'ae', 'aet', 'af', 'aft', 'ag', 'agt', 'ah', 'aht', 'ai', 'ait', 'aj', 'ajt', 'ak', 'akt', 'al', 'alt', 'am', 'amt', 'an', 'ant', 'ao', 'aot', 'ap', 'apt', 'aq', 'aqt', 'ar', 'art', 'as', 'ast', 'ata', 'atb', 'atc', 'atd', 'ate', 'atf', 'atg', 'ath', 'ati', 'atj', 'atk', 'atl', 'atm', 'atn', 'ato', 'atp', 'atq', 'atr', 'ats', 'att', 'atu', 'atv', 'atw', 'atx', 'aty', 'atz', 'au', 'aut', 'av', 'avt', 'aw', 'awt', 'ax', 'axt', 'ay', 'ayt', 'az', 'azt', 'bat', 'bt', 'cat', 'ct', 'dat', 'dt', 'eat', 'et', 'fat', 'ft', 'gat', 'gt', 'hat', 'ht', 'iat', 'it', 'jat', 'jt', 'kat', 'kt', 'lat', 'lt', 'mat', 'mt', 'nat', 'nt', 'oat', 'ot', 'pat', 'pt', 'qat', 'qt', 'rat', 'rt', 'sat', 'st', 't', 'ta', 'tat', 'tt', 'uat', 'ut', 'vat', 'vt', 'wat', 'wt', 'xat', 'xt', 'yat', 'yt', 'zat', 'zt']\n",
            "\n",
            "Number of outputs from edit_one_letter('at') is 129\n"
          ]
        }
      ]
    },
    {
      "cell_type": "code",
      "source": [
        "# Edit two letters\n",
        "def edit_two_letters(word, allow_switches = True):\n",
        "    '''\n",
        "    Input:\n",
        "        word: the input string/word\n",
        "    Output:\n",
        "        edit_two_set: a set of strings with all possible two edits\n",
        "    '''\n",
        "\n",
        "    edit_two_set = set()\n",
        "    one_edit = edit_one_letter(word)\n",
        "    ans = []\n",
        "    for w in one_edit:\n",
        "        ans.append(w)\n",
        "        ans.extend(edit_one_letter(w))\n",
        "\n",
        "    edit_two_set = set(ans)\n",
        "\n",
        "    return edit_two_set"
      ],
      "metadata": {
        "id": "UCSWEhMyu3ys"
      },
      "id": "UCSWEhMyu3ys",
      "execution_count": 89,
      "outputs": []
    },
    {
      "cell_type": "code",
      "source": [
        "tmp_edit_two_set = edit_two_letters(\"a\")\n",
        "tmp_edit_two_l = sorted(list(tmp_edit_two_set))\n",
        "print(f\"Number of strings with edit distance of two: {len(tmp_edit_two_l)}\")\n",
        "print(f\"First 10 strings {tmp_edit_two_l[:10]}\")\n",
        "print(f\"Last 10 strings {tmp_edit_two_l[-10:]}\")\n",
        "print(f\"The data type of the returned object should be a set {type(tmp_edit_two_set)}\")\n",
        "print(f\"Number of strings that are 2 edit distances from 'at' is {len(edit_two_letters('at'))}\")"
      ],
      "metadata": {
        "colab": {
          "base_uri": "https://localhost:8080/"
        },
        "id": "MOR1FDzQfxAi",
        "outputId": "83836265-1f36-41c6-9671-d9d38ee53c83"
      },
      "id": "MOR1FDzQfxAi",
      "execution_count": 90,
      "outputs": [
        {
          "output_type": "stream",
          "name": "stdout",
          "text": [
            "Number of strings with edit distance of two: 2654\n",
            "First 10 strings ['', 'a', 'aa', 'aaa', 'aab', 'aac', 'aad', 'aae', 'aaf', 'aag']\n",
            "Last 10 strings ['zv', 'zva', 'zw', 'zwa', 'zx', 'zxa', 'zy', 'zya', 'zz', 'zza']\n",
            "The data type of the returned object should be a set <class 'set'>\n",
            "Number of strings that are 2 edit distances from 'at' is 7154\n"
          ]
        }
      ]
    },
    {
      "cell_type": "markdown",
      "id": "1f9a5ac0",
      "metadata": {
        "id": "1f9a5ac0"
      },
      "source": [
        "### Step 4.3: Probability Distribution\n",
        "\n",
        "Calculate the frequency of each word in the corpus and compute the probability distribution."
      ]
    },
    {
      "cell_type": "code",
      "execution_count": 91,
      "id": "5462dd60",
      "metadata": {
        "id": "5462dd60",
        "colab": {
          "base_uri": "https://localhost:8080/"
        },
        "outputId": "087d1dae-0674-4f89-c11e-a6d70bfb3dad"
      },
      "outputs": [
        {
          "output_type": "stream",
          "name": "stdout",
          "text": [
            "There are 130 key values pairs\n",
            "The count for the word 'vegetables' is 7\n"
          ]
        }
      ],
      "source": [
        "\n",
        "def get_count(word_l):\n",
        "    word_count_dict = Counter(word_l)\n",
        "    return word_count_dict\n",
        "\n",
        "word_count_dict = get_count(word_l)\n",
        "print(f\"There are {len(word_count_dict)} key values pairs\")\n",
        "print(f\"The count for the word 'vegetables' is {word_count_dict.get('vegetables',0)}\")\n"
      ]
    },
    {
      "cell_type": "code",
      "source": [
        "def get_probs(word_count_dict):\n",
        "  probs = {}\n",
        "  total = sum(word_count_dict.values())\n",
        "  for word in word_count_dict.keys():\n",
        "    probs[word] = word_count_dict[word] / total\n",
        "  return probs\n",
        "\n",
        "\n",
        "probs = get_probs(word_count_dict)\n",
        "print(f\"Length of probs is {len(probs)}\")\n",
        "print(f\"P('their') is {probs['their']:.4f}\")"
      ],
      "metadata": {
        "id": "S2xKryxPvCLu",
        "colab": {
          "base_uri": "https://localhost:8080/"
        },
        "outputId": "911c763a-ecbb-474b-ba5a-c8b43acbc3df"
      },
      "id": "S2xKryxPvCLu",
      "execution_count": 92,
      "outputs": [
        {
          "output_type": "stream",
          "name": "stdout",
          "text": [
            "Length of probs is 130\n",
            "P('their') is 0.0096\n"
          ]
        }
      ]
    },
    {
      "cell_type": "code",
      "source": [
        "\n",
        "# Display probability distribution\n",
        "prob_df = pd.DataFrame({'word': probs.keys(), 'probability': probs.values()}).sort_values(by='probability', ascending=False)\n",
        "prob_df.sample(5)\n",
        "\n",
        "prob_df.head().plot.bar(x='word', y='probability')\n"
      ],
      "metadata": {
        "id": "1R6ZGPmYvClz",
        "colab": {
          "base_uri": "https://localhost:8080/",
          "height": 531
        },
        "outputId": "e22150af-efe5-42ce-8dc5-c028a894216b"
      },
      "id": "1R6ZGPmYvClz",
      "execution_count": 93,
      "outputs": [
        {
          "output_type": "execute_result",
          "data": {
            "text/plain": [
              "<Axes: xlabel='word'>"
            ]
          },
          "metadata": {},
          "execution_count": 93
        },
        {
          "output_type": "display_data",
          "data": {
            "text/plain": [
              "<Figure size 640x480 with 1 Axes>"
            ],
            "image/png": "[encoded data removed]"
          },
          "metadata": {}
        }
      ]
    },
    {
      "cell_type": "markdown",
      "id": "8aebeba6",
      "metadata": {
        "id": "8aebeba6"
      },
      "source": [
        "### Step 4.4: Replace Misspells with Correction\n",
        "\n",
        "Write a function to replace misspelled words with the most probable corrections."
      ]
    },
    {
      "cell_type": "code",
      "execution_count": 94,
      "id": "b8a61c93",
      "metadata": {
        "id": "b8a61c93",
        "colab": {
          "base_uri": "https://localhost:8080/",
          "height": 35
        },
        "outputId": "33bf5d8d-698c-4e1e-8275-87428146e593"
      },
      "outputs": [
        {
          "output_type": "execute_result",
          "data": {
            "text/plain": [
              "'and'"
            ],
            "application/vnd.google.colaboratory.intrinsic+json": {
              "type": "string"
            }
          },
          "metadata": {},
          "execution_count": 94
        }
      ],
      "source": [
        "# Your code here to replace misspells\n",
        "\n",
        "def get_corrections(word, probs, vocab, n=2, verbose=False):\n",
        "    suggestions = []\n",
        "    n_best = []\n",
        "\n",
        "    if word in probs.keys():\n",
        "        suggestions.append(word)\n",
        "    for w in edit_one_letter(word):\n",
        "        if len(suggestions) == n:\n",
        "            break\n",
        "        if w in probs.keys():\n",
        "            suggestions.append(w)\n",
        "    for w in edit_two_letters(word):\n",
        "        if len(suggestions) == n:\n",
        "            break\n",
        "        if w in probs.keys():\n",
        "            suggestions.append(w)\n",
        "\n",
        "    best_words = sorted({s: probs[s] for s in suggestions}.items(), key=lambda x: x[1], reverse=True)\n",
        "    n_best = best_words\n",
        "\n",
        "    if verbose: print(\"entered word = \", word, \"\\nsuggestions = \", suggestions)\n",
        "    return n_best\n",
        "\n",
        "def get_correct_word(word, vocab, probs, n):\n",
        "    corrections = get_corrections(word, probs, vocab, n, verbose=False)\n",
        "    if len(corrections) == 0:\n",
        "        return word\n",
        "\n",
        "    final_word = corrections[0][0]\n",
        "    final_prob = corrections[0][1]\n",
        "    for i, word_prob in enumerate(corrections):\n",
        "        if word_prob[1] > final_prob:\n",
        "            final_word = word_prob[0]\n",
        "            final_prob = word_prob[1]\n",
        "    return final_word\n",
        "\n",
        "get_correct_word('annd', vocab, probs, 100)\n"
      ]
    },
    {
      "cell_type": "markdown",
      "id": "baff1c00",
      "metadata": {
        "id": "baff1c00"
      },
      "source": [
        "### Step 5: Final Auto-Correction Function\n",
        "\n",
        "Combine all parts into a final function that corrects sentences."
      ]
    },
    {
      "cell_type": "code",
      "execution_count": 95,
      "id": "974eb839",
      "metadata": {
        "id": "974eb839"
      },
      "outputs": [],
      "source": [
        "# Your code here for the final auto-correction function\n",
        "\n",
        "def autocorrect(sentence, vocab, probs):\n",
        "    print(\"Input sentence : \", sentence)\n",
        "    wrong_words = find_wrong_word(sentence, vocab)\n",
        "    print(\"Wrong words : \", wrong_words)\n",
        "    correct_words = []\n",
        "    for word in sentence.strip().lower().split(\" \"):\n",
        "        if word in wrong_words:\n",
        "            correct_word = get_correct_word(word, vocab, probs, 15)\n",
        "            word = correct_word\n",
        "        correct_words.append(word)\n",
        "    print(\"Output Sentence : \", \" \".join(correct_words).capitalize())\n",
        "\n"
      ]
    },
    {
      "cell_type": "markdown",
      "metadata": {
        "id": "O01DcmYtvOlh"
      },
      "source": [
        "### Step 6: Demo\n",
        "\n",
        "Apply your work to a sentence"
      ],
      "id": "O01DcmYtvOlh"
    },
    {
      "cell_type": "code",
      "source": [
        "autocorrect(\"corn offer sample nutrition and are a great addition to your diet\", vocab, probs)\n"
      ],
      "metadata": {
        "id": "juIS0GFovX02",
        "colab": {
          "base_uri": "https://localhost:8080/"
        },
        "outputId": "dce50781-09c4-4d79-cfc8-4edd56e69210"
      },
      "id": "juIS0GFovX02",
      "execution_count": 97,
      "outputs": [
        {
          "output_type": "stream",
          "name": "stdout",
          "text": [
            "Input sentence :  corn offer sample nutrition and are a great addition to your diet\n",
            "Wrong words :  ['sample']\n",
            "Output Sentence :  Corn offer ample nutrition and are a great addition to your diet\n"
          ]
        }
      ]
    },
    {
      "cell_type": "code",
      "source": [
        "autocorrect(\"carbohydrates that are richhh in vitamins\", vocab, probs)\n"
      ],
      "metadata": {
        "colab": {
          "base_uri": "https://localhost:8080/"
        },
        "id": "jonFxgb5jm2b",
        "outputId": "2233e811-4772-4d87-a237-2088de20bae2"
      },
      "id": "jonFxgb5jm2b",
      "execution_count": 98,
      "outputs": [
        {
          "output_type": "stream",
          "name": "stdout",
          "text": [
            "Input sentence :  carbohydrates that are richhh in vitamins\n",
            "Wrong words :  ['richhh']\n",
            "Output Sentence :  Carbohydrates that are rich in vitamins\n"
          ]
        }
      ]
    },
    {
      "cell_type": "code",
      "source": [
        "autocorrect(\"starchy vegetables are highir in caloryes than nonstarchy vegetables\", vocab, probs)"
      ],
      "metadata": {
        "colab": {
          "base_uri": "https://localhost:8080/"
        },
        "id": "R1AEfuuQkbeS",
        "outputId": "d3cddfc6-61fc-43dd-fa04-4e87cb0d04b3"
      },
      "id": "R1AEfuuQkbeS",
      "execution_count": 100,
      "outputs": [
        {
          "output_type": "stream",
          "name": "stdout",
          "text": [
            "Input sentence :  starchy vegetables are highir in caloryes than nonstarchy vegetables\n",
            "Wrong words :  ['highir', 'caloryes']\n",
            "Output Sentence :  Starchy vegetables are high in calories than nonstarchy vegetables\n"
          ]
        }
      ]
    },
    {
      "cell_type": "code",
      "source": [],
      "metadata": {
        "id": "fVKYjUvEknUR"
      },
      "id": "fVKYjUvEknUR",
      "execution_count": null,
      "outputs": []
    }
  ],
  "metadata": {
    "colab": {
      "provenance": []
    },
    "language_info": {
      "name": "python"
    },
    "kernelspec": {
      "name": "python3",
      "display_name": "Python 3"
    }
  },
  "nbformat": 4,
  "nbformat_minor": 5
}